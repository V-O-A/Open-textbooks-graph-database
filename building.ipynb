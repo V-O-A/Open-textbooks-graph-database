{
 "cells": [
  {
   "cell_type": "code",
   "execution_count": 2,
   "id": "0a1b6d7f-e00e-43dc-9c5c-f5fd54e09967",
   "metadata": {},
   "outputs": [],
   "source": [
    "import pandas as pd\n",
    "import numpy as np\n",
    "import matplotlib.pyplot as plt"
   ]
  },
  {
   "cell_type": "markdown",
   "id": "61e15c2b-7a07-4af9-8262-ba8927cb068b",
   "metadata": {},
   "source": [
    "# Exploring and Modeling"
   ]
  },
  {
   "cell_type": "code",
   "execution_count": 3,
   "id": "01921e40-bb09-4bd8-b8a4-8d1a87f2fcab",
   "metadata": {},
   "outputs": [
    {
     "name": "stdout",
     "output_type": "stream",
     "text": [
      "<class 'pandas.core.frame.DataFrame'>\n",
      "Index: 1523 entries, 1709 to 18\n",
      "Data columns (total 18 columns):\n",
      " #   Column                  Non-Null Count  Dtype              \n",
      "---  ------                  --------------  -----              \n",
      " 0   title                   1523 non-null   object             \n",
      " 1   edition_statement       210 non-null    object             \n",
      " 2   volume                  49 non-null     object             \n",
      " 3   copyright_year          1491 non-null   float64            \n",
      " 4   ISBN10                  19 non-null     float64            \n",
      " 5   ISBN13                  632 non-null    object             \n",
      " 6   license                 1523 non-null   object             \n",
      " 7   language                1523 non-null   object             \n",
      " 8   description             1523 non-null   object             \n",
      " 9   contributors            1523 non-null   object             \n",
      " 10  subjects                1523 non-null   object             \n",
      " 11  publishers              1523 non-null   object             \n",
      " 12  formats                 1523 non-null   object             \n",
      " 13  rating                  1049 non-null   float64            \n",
      " 14  textbook_reviews_count  1523 non-null   int64              \n",
      " 15  reviews                 1523 non-null   object             \n",
      " 16  url                     1523 non-null   object             \n",
      " 17  updated_at              1523 non-null   datetime64[ns, UTC]\n",
      "dtypes: datetime64[ns, UTC](1), float64(3), int64(1), object(13)\n",
      "memory usage: 226.1+ KB\n",
      "None\n"
     ]
    },
    {
     "data": {
      "text/html": [
       "<div>\n",
       "<style scoped>\n",
       "    .dataframe tbody tr th:only-of-type {\n",
       "        vertical-align: middle;\n",
       "    }\n",
       "\n",
       "    .dataframe tbody tr th {\n",
       "        vertical-align: top;\n",
       "    }\n",
       "\n",
       "    .dataframe thead th {\n",
       "        text-align: right;\n",
       "    }\n",
       "</style>\n",
       "<table border=\"1\" class=\"dataframe\">\n",
       "  <thead>\n",
       "    <tr style=\"text-align: right;\">\n",
       "      <th></th>\n",
       "      <th>title</th>\n",
       "      <th>edition_statement</th>\n",
       "      <th>volume</th>\n",
       "      <th>copyright_year</th>\n",
       "      <th>ISBN10</th>\n",
       "      <th>ISBN13</th>\n",
       "      <th>license</th>\n",
       "      <th>language</th>\n",
       "      <th>description</th>\n",
       "      <th>contributors</th>\n",
       "      <th>subjects</th>\n",
       "      <th>publishers</th>\n",
       "      <th>formats</th>\n",
       "      <th>rating</th>\n",
       "      <th>textbook_reviews_count</th>\n",
       "      <th>reviews</th>\n",
       "      <th>url</th>\n",
       "      <th>updated_at</th>\n",
       "    </tr>\n",
       "  </thead>\n",
       "  <tbody>\n",
       "    <tr>\n",
       "      <th>1709</th>\n",
       "      <td>Applications of Educational Technology</td>\n",
       "      <td>None</td>\n",
       "      <td>None</td>\n",
       "      <td>2018.0</td>\n",
       "      <td>NaN</td>\n",
       "      <td>None</td>\n",
       "      <td>Attribution-NonCommercial</td>\n",
       "      <td>eng</td>\n",
       "      <td>Welcome to the Applications of Educational Tec...</td>\n",
       "      <td>[{'id': 7214, 'contribution': 'Author', 'prima...</td>\n",
       "      <td>[{'id': 5, 'name': 'Education', 'parent_subjec...</td>\n",
       "      <td>[{'id': 1683, 'name': 'Oklahoma State Universi...</td>\n",
       "      <td>[{'id': 4357, 'format': 'Online', 'url': 'http...</td>\n",
       "      <td>NaN</td>\n",
       "      <td>0</td>\n",
       "      <td>[]</td>\n",
       "      <td>https://open.umn.edu/opentextbooks/textbooks/a...</td>\n",
       "      <td>2024-08-02 04:30:37+00:00</td>\n",
       "    </tr>\n",
       "    <tr>\n",
       "      <th>1708</th>\n",
       "      <td>Measurement and Instrumentation: An Introducti...</td>\n",
       "      <td>1st Edition</td>\n",
       "      <td>None</td>\n",
       "      <td>2020.0</td>\n",
       "      <td>NaN</td>\n",
       "      <td>None</td>\n",
       "      <td>Attribution-NonCommercial-ShareAlike</td>\n",
       "      <td>eng</td>\n",
       "      <td>Measurement and instrumentation are fundamenta...</td>\n",
       "      <td>[{'id': 7212, 'contribution': 'Author', 'prima...</td>\n",
       "      <td>[{'id': 13, 'name': 'Engineering &amp; Technology'...</td>\n",
       "      <td>[{'id': 1682, 'name': 'SHAREOK', 'url': 'https...</td>\n",
       "      <td>[{'id': 4356, 'format': 'PDF', 'url': 'https:/...</td>\n",
       "      <td>NaN</td>\n",
       "      <td>0</td>\n",
       "      <td>[]</td>\n",
       "      <td>https://open.umn.edu/opentextbooks/textbooks/m...</td>\n",
       "      <td>2024-08-02 04:23:03+00:00</td>\n",
       "    </tr>\n",
       "  </tbody>\n",
       "</table>\n",
       "</div>"
      ],
      "text/plain": [
       "                                                  title edition_statement  \\\n",
       "1709             Applications of Educational Technology              None   \n",
       "1708  Measurement and Instrumentation: An Introducti...       1st Edition   \n",
       "\n",
       "     volume  copyright_year  ISBN10 ISBN13  \\\n",
       "1709   None          2018.0     NaN   None   \n",
       "1708   None          2020.0     NaN   None   \n",
       "\n",
       "                                   license language  \\\n",
       "1709             Attribution-NonCommercial      eng   \n",
       "1708  Attribution-NonCommercial-ShareAlike      eng   \n",
       "\n",
       "                                            description  \\\n",
       "1709  Welcome to the Applications of Educational Tec...   \n",
       "1708  Measurement and instrumentation are fundamenta...   \n",
       "\n",
       "                                           contributors  \\\n",
       "1709  [{'id': 7214, 'contribution': 'Author', 'prima...   \n",
       "1708  [{'id': 7212, 'contribution': 'Author', 'prima...   \n",
       "\n",
       "                                               subjects  \\\n",
       "1709  [{'id': 5, 'name': 'Education', 'parent_subjec...   \n",
       "1708  [{'id': 13, 'name': 'Engineering & Technology'...   \n",
       "\n",
       "                                             publishers  \\\n",
       "1709  [{'id': 1683, 'name': 'Oklahoma State Universi...   \n",
       "1708  [{'id': 1682, 'name': 'SHAREOK', 'url': 'https...   \n",
       "\n",
       "                                                formats  rating  \\\n",
       "1709  [{'id': 4357, 'format': 'Online', 'url': 'http...     NaN   \n",
       "1708  [{'id': 4356, 'format': 'PDF', 'url': 'https:/...     NaN   \n",
       "\n",
       "      textbook_reviews_count reviews  \\\n",
       "1709                       0      []   \n",
       "1708                       0      []   \n",
       "\n",
       "                                                    url  \\\n",
       "1709  https://open.umn.edu/opentextbooks/textbooks/a...   \n",
       "1708  https://open.umn.edu/opentextbooks/textbooks/m...   \n",
       "\n",
       "                    updated_at  \n",
       "1709 2024-08-02 04:30:37+00:00  \n",
       "1708 2024-08-02 04:23:03+00:00  "
      ]
     },
     "execution_count": 3,
     "metadata": {},
     "output_type": "execute_result"
    }
   ],
   "source": [
    "df = pd.read_json('Data/OTL_textbooks_v0.json', orient='index')\n",
    "\n",
    "print(df.info())\n",
    "df.head(2)"
   ]
  },
  {
   "cell_type": "markdown",
   "id": "7d5144b9-5118-496b-a3f9-8c31a74afb1a",
   "metadata": {},
   "source": [
    "## Publishers columns"
   ]
  },
  {
   "cell_type": "code",
   "execution_count": 35,
   "id": "20064259-841c-41ba-9a1e-78d9a24c351c",
   "metadata": {},
   "outputs": [],
   "source": [
    "def get_publishers_df(df):\n",
    "    return (df['publishers']\n",
    "            .map(lambda x: [[c['id'], c['name'],] for c in x])\n",
    "            .explode()\n",
    "            .astype('str')\n",
    "            .str\n",
    "            .extract(r'(?P<id>\\d+)\\W+(?P<name>.+[^\\'\\]])')\n",
    ")"
   ]
  },
  {
   "cell_type": "code",
   "execution_count": 36,
   "id": "b6d6b1e3-6af8-4c88-9da2-ea2b2e588082",
   "metadata": {},
   "outputs": [
    {
     "name": "stdout",
     "output_type": "stream",
     "text": [
      "<class 'pandas.core.frame.DataFrame'>\n",
      "Index: 1524 entries, 1709 to 18\n",
      "Data columns (total 2 columns):\n",
      " #   Column  Non-Null Count  Dtype \n",
      "---  ------  --------------  ----- \n",
      " 0   id      1520 non-null   object\n",
      " 1   name    1520 non-null   object\n",
      "dtypes: object(2)\n",
      "memory usage: 35.7+ KB\n",
      "None\n"
     ]
    },
    {
     "data": {
      "text/html": [
       "<div>\n",
       "<style scoped>\n",
       "    .dataframe tbody tr th:only-of-type {\n",
       "        vertical-align: middle;\n",
       "    }\n",
       "\n",
       "    .dataframe tbody tr th {\n",
       "        vertical-align: top;\n",
       "    }\n",
       "\n",
       "    .dataframe thead th {\n",
       "        text-align: right;\n",
       "    }\n",
       "</style>\n",
       "<table border=\"1\" class=\"dataframe\">\n",
       "  <thead>\n",
       "    <tr style=\"text-align: right;\">\n",
       "      <th></th>\n",
       "      <th>id</th>\n",
       "      <th>name</th>\n",
       "    </tr>\n",
       "  </thead>\n",
       "  <tbody>\n",
       "    <tr>\n",
       "      <th>1709</th>\n",
       "      <td>1683</td>\n",
       "      <td>Oklahoma State University</td>\n",
       "    </tr>\n",
       "    <tr>\n",
       "      <th>1708</th>\n",
       "      <td>1682</td>\n",
       "      <td>SHAREOK</td>\n",
       "    </tr>\n",
       "  </tbody>\n",
       "</table>\n",
       "</div>"
      ],
      "text/plain": [
       "        id                       name\n",
       "1709  1683  Oklahoma State University\n",
       "1708  1682                    SHAREOK"
      ]
     },
     "execution_count": 36,
     "metadata": {},
     "output_type": "execute_result"
    }
   ],
   "source": [
    "df_pub = get_publishers_df(df)\n",
    "print(df_pub.info())\n",
    "df_pub.head(2)"
   ]
  },
  {
   "cell_type": "code",
   "execution_count": 37,
   "id": "dc002409-2df4-4d95-ab30-f44fd1af1ff8",
   "metadata": {},
   "outputs": [
    {
     "data": {
      "text/html": [
       "<div>\n",
       "<style scoped>\n",
       "    .dataframe tbody tr th:only-of-type {\n",
       "        vertical-align: middle;\n",
       "    }\n",
       "\n",
       "    .dataframe tbody tr th {\n",
       "        vertical-align: top;\n",
       "    }\n",
       "\n",
       "    .dataframe thead th {\n",
       "        text-align: right;\n",
       "    }\n",
       "</style>\n",
       "<table border=\"1\" class=\"dataframe\">\n",
       "  <thead>\n",
       "    <tr style=\"text-align: right;\">\n",
       "      <th></th>\n",
       "      <th>id</th>\n",
       "      <th>name</th>\n",
       "    </tr>\n",
       "  </thead>\n",
       "  <tbody>\n",
       "    <tr>\n",
       "      <th>count</th>\n",
       "      <td>1520</td>\n",
       "      <td>1520</td>\n",
       "    </tr>\n",
       "    <tr>\n",
       "      <th>unique</th>\n",
       "      <td>1520</td>\n",
       "      <td>399</td>\n",
       "    </tr>\n",
       "    <tr>\n",
       "      <th>top</th>\n",
       "      <td>1683</td>\n",
       "      <td>Editorial Grupo AEA</td>\n",
       "    </tr>\n",
       "    <tr>\n",
       "      <th>freq</th>\n",
       "      <td>1</td>\n",
       "      <td>65</td>\n",
       "    </tr>\n",
       "  </tbody>\n",
       "</table>\n",
       "</div>"
      ],
      "text/plain": [
       "          id                 name\n",
       "count   1520                 1520\n",
       "unique  1520                  399\n",
       "top     1683  Editorial Grupo AEA\n",
       "freq       1                   65"
      ]
     },
     "execution_count": 37,
     "metadata": {},
     "output_type": "execute_result"
    }
   ],
   "source": [
    "df_pub.describe()"
   ]
  },
  {
   "cell_type": "markdown",
   "id": "0b99c2da-4b2b-46a4-a0b7-438d26461b83",
   "metadata": {},
   "source": [
    "**id** will be a property from the node property to the node book."
   ]
  },
  {
   "cell_type": "markdown",
   "id": "470ab910-792d-4047-a174-baf0dabc6b67",
   "metadata": {},
   "source": [
    "## Contributors column"
   ]
  },
  {
   "cell_type": "code",
   "execution_count": 26,
   "id": "940dc07e-dc1f-4bb2-94de-e2499b4e16fe",
   "metadata": {},
   "outputs": [
    {
     "data": {
      "image/png": "[encoded data removed]",
      "text/plain": [
       "<Figure size 640x480 with 1 Axes>"
      ]
     },
     "metadata": {},
     "output_type": "display_data"
    }
   ],
   "source": [
    "plt.ecdf(\n",
    "    (df['contributors']\n",
    "     .map(lambda x: [c['location'] for c in x])\n",
    "     .explode()\n",
    "     .value_counts()),\n",
    ")\n",
    "plt.grid()\n",
    "\n",
    "plt.show()"
   ]
  },
  {
   "cell_type": "code",
   "execution_count": 110,
   "id": "f0759cbf-b130-455c-9d83-68aadf0ff02b",
   "metadata": {},
   "outputs": [
    {
     "data": {
      "text/html": [
       "<div>\n",
       "<style scoped>\n",
       "    .dataframe tbody tr th:only-of-type {\n",
       "        vertical-align: middle;\n",
       "    }\n",
       "\n",
       "    .dataframe tbody tr th {\n",
       "        vertical-align: top;\n",
       "    }\n",
       "\n",
       "    .dataframe thead th {\n",
       "        text-align: right;\n",
       "    }\n",
       "</style>\n",
       "<table border=\"1\" class=\"dataframe\">\n",
       "  <thead>\n",
       "    <tr style=\"text-align: right;\">\n",
       "      <th>corp</th>\n",
       "      <th>False</th>\n",
       "      <th>True</th>\n",
       "      <th>All</th>\n",
       "    </tr>\n",
       "    <tr>\n",
       "      <th>pr</th>\n",
       "      <th></th>\n",
       "      <th></th>\n",
       "      <th></th>\n",
       "    </tr>\n",
       "  </thead>\n",
       "  <tbody>\n",
       "    <tr>\n",
       "      <th>False</th>\n",
       "      <td>2070</td>\n",
       "      <td>18</td>\n",
       "      <td>2088</td>\n",
       "    </tr>\n",
       "    <tr>\n",
       "      <th>True</th>\n",
       "      <td>957</td>\n",
       "      <td>6</td>\n",
       "      <td>963</td>\n",
       "    </tr>\n",
       "    <tr>\n",
       "      <th>All</th>\n",
       "      <td>3027</td>\n",
       "      <td>24</td>\n",
       "      <td>3051</td>\n",
       "    </tr>\n",
       "  </tbody>\n",
       "</table>\n",
       "</div>"
      ],
      "text/plain": [
       "corp   False  True   All\n",
       "pr                      \n",
       "False   2070    18  2088\n",
       "True     957     6   963\n",
       "All     3027    24  3051"
      ]
     },
     "execution_count": 110,
     "metadata": {},
     "output_type": "execute_result"
    }
   ],
   "source": [
    "(df['contributors']\n",
    " .map(lambda x: [[c['contribution'], c['primary'], c['corporate']] for c in x])\n",
    " .explode()\n",
    " .astype('str')\n",
    " .str.extract(r'\\W+(?P<cont>\\w+)\\W+(?P<pr>\\w+)\\W+(?P<corp>\\w+)')\n",
    " #.to_frame()\n",
    " #.value_counts()\n",
    " .pipe(lambda dtf: pd.crosstab(dtf.pr, dtf.corp, margins=True ))\n",
    " #.groupby(['pr', 'corp']).cont.count()\n",
    ")"
   ]
  },
  {
   "cell_type": "code",
   "execution_count": 5,
   "id": "7e51cd9e-e2d8-4299-bc91-4c4681e3e309",
   "metadata": {},
   "outputs": [],
   "source": [
    "def get_contributors_df(df):\n",
    "    return (df['contributors']\n",
    "            .map(lambda x: [[c['id'], c['contribution'], c['primary'], c['corporate'], c['location']] for c in x])\n",
    "            .explode()\n",
    "            .astype('str')\n",
    "            .str\n",
    "            .extract(r\"(?P<id>\\d+)\\W+(?P<contribution>\\w+)\\W+(?P<primary>\\w+)\\W+(?P<corporate>\\w+)\\W+(?P<location>.+[^\\'\\]])\")\n",
    "            .replace({'location': r'None'}, value=np.nan)\n",
    "           )"
   ]
  },
  {
   "cell_type": "code",
   "execution_count": 6,
   "id": "d214b9c0-85dd-44e3-9836-931fa98062ec",
   "metadata": {},
   "outputs": [
    {
     "name": "stdout",
     "output_type": "stream",
     "text": [
      "<class 'pandas.core.frame.DataFrame'>\n",
      "Index: 3083 entries, 1709 to 18\n",
      "Data columns (total 5 columns):\n",
      " #   Column        Non-Null Count  Dtype \n",
      "---  ------        --------------  ----- \n",
      " 0   id            3051 non-null   object\n",
      " 1   contribution  3051 non-null   object\n",
      " 2   primary       3051 non-null   object\n",
      " 3   corporate     3051 non-null   object\n",
      " 4   location      2444 non-null   object\n",
      "dtypes: object(5)\n",
      "memory usage: 144.5+ KB\n",
      "None\n"
     ]
    },
    {
     "data": {
      "text/html": [
       "<div>\n",
       "<style scoped>\n",
       "    .dataframe tbody tr th:only-of-type {\n",
       "        vertical-align: middle;\n",
       "    }\n",
       "\n",
       "    .dataframe tbody tr th {\n",
       "        vertical-align: top;\n",
       "    }\n",
       "\n",
       "    .dataframe thead th {\n",
       "        text-align: right;\n",
       "    }\n",
       "</style>\n",
       "<table border=\"1\" class=\"dataframe\">\n",
       "  <thead>\n",
       "    <tr style=\"text-align: right;\">\n",
       "      <th></th>\n",
       "      <th>id</th>\n",
       "      <th>contribution</th>\n",
       "      <th>primary</th>\n",
       "      <th>corporate</th>\n",
       "      <th>location</th>\n",
       "    </tr>\n",
       "  </thead>\n",
       "  <tbody>\n",
       "    <tr>\n",
       "      <th>1709</th>\n",
       "      <td>7214</td>\n",
       "      <td>Author</td>\n",
       "      <td>False</td>\n",
       "      <td>False</td>\n",
       "      <td>Oklahoma State University</td>\n",
       "    </tr>\n",
       "    <tr>\n",
       "      <th>1708</th>\n",
       "      <td>7212</td>\n",
       "      <td>Author</td>\n",
       "      <td>False</td>\n",
       "      <td>False</td>\n",
       "      <td>University of Oklahoma</td>\n",
       "    </tr>\n",
       "  </tbody>\n",
       "</table>\n",
       "</div>"
      ],
      "text/plain": [
       "        id contribution primary corporate                   location\n",
       "1709  7214       Author   False     False  Oklahoma State University\n",
       "1708  7212       Author   False     False     University of Oklahoma"
      ]
     },
     "execution_count": 6,
     "metadata": {},
     "output_type": "execute_result"
    }
   ],
   "source": [
    "df_cont = get_contributors_df(df)\n",
    "\n",
    "print(df_cont.info())\n",
    "df_cont.head(2)"
   ]
  },
  {
   "cell_type": "code",
   "execution_count": 7,
   "id": "147794d8-14e4-4df2-b2e2-e40892815343",
   "metadata": {},
   "outputs": [
    {
     "data": {
      "text/html": [
       "<div>\n",
       "<style scoped>\n",
       "    .dataframe tbody tr th:only-of-type {\n",
       "        vertical-align: middle;\n",
       "    }\n",
       "\n",
       "    .dataframe tbody tr th {\n",
       "        vertical-align: top;\n",
       "    }\n",
       "\n",
       "    .dataframe thead th {\n",
       "        text-align: right;\n",
       "    }\n",
       "</style>\n",
       "<table border=\"1\" class=\"dataframe\">\n",
       "  <thead>\n",
       "    <tr style=\"text-align: right;\">\n",
       "      <th>primary</th>\n",
       "      <th>False</th>\n",
       "      <th>True</th>\n",
       "    </tr>\n",
       "    <tr>\n",
       "      <th>contribution</th>\n",
       "      <th></th>\n",
       "      <th></th>\n",
       "    </tr>\n",
       "  </thead>\n",
       "  <tbody>\n",
       "    <tr>\n",
       "      <th>Author</th>\n",
       "      <td>1829</td>\n",
       "      <td>921</td>\n",
       "    </tr>\n",
       "    <tr>\n",
       "      <th>Editor</th>\n",
       "      <td>244</td>\n",
       "      <td>42</td>\n",
       "    </tr>\n",
       "    <tr>\n",
       "      <th>Illustrator</th>\n",
       "      <td>12</td>\n",
       "      <td>0</td>\n",
       "    </tr>\n",
       "    <tr>\n",
       "      <th>Translator</th>\n",
       "      <td>3</td>\n",
       "      <td>0</td>\n",
       "    </tr>\n",
       "  </tbody>\n",
       "</table>\n",
       "</div>"
      ],
      "text/plain": [
       "primary       False  True\n",
       "contribution             \n",
       "Author         1829   921\n",
       "Editor          244    42\n",
       "Illustrator      12     0\n",
       "Translator        3     0"
      ]
     },
     "execution_count": 7,
     "metadata": {},
     "output_type": "execute_result"
    }
   ],
   "source": [
    "pd.crosstab(df_cont.contribution, df_cont.primary)"
   ]
  },
  {
   "cell_type": "code",
   "execution_count": 50,
   "id": "09818bb3-af49-46a5-8d1f-739f8a9efba7",
   "metadata": {},
   "outputs": [
    {
     "data": {
      "text/plain": [
       "contribution\n",
       "Author         2750\n",
       "Editor          286\n",
       "Illustrator      12\n",
       "Translator        3\n",
       "Name: count, dtype: int64"
      ]
     },
     "execution_count": 50,
     "metadata": {},
     "output_type": "execute_result"
    }
   ],
   "source": [
    "df_cont.contribution.value_counts()"
   ]
  },
  {
   "cell_type": "code",
   "execution_count": 49,
   "id": "604b82b3-74e9-44de-bbc8-6c5f7bb61d99",
   "metadata": {},
   "outputs": [
    {
     "data": {
      "text/html": [
       "<div>\n",
       "<style scoped>\n",
       "    .dataframe tbody tr th:only-of-type {\n",
       "        vertical-align: middle;\n",
       "    }\n",
       "\n",
       "    .dataframe tbody tr th {\n",
       "        vertical-align: top;\n",
       "    }\n",
       "\n",
       "    .dataframe thead th {\n",
       "        text-align: right;\n",
       "    }\n",
       "</style>\n",
       "<table border=\"1\" class=\"dataframe\">\n",
       "  <thead>\n",
       "    <tr style=\"text-align: right;\">\n",
       "      <th></th>\n",
       "      <th>id</th>\n",
       "      <th>contribution</th>\n",
       "      <th>primary</th>\n",
       "      <th>corporate</th>\n",
       "      <th>location</th>\n",
       "    </tr>\n",
       "  </thead>\n",
       "  <tbody>\n",
       "    <tr>\n",
       "      <th>count</th>\n",
       "      <td>3051</td>\n",
       "      <td>3051</td>\n",
       "      <td>3051</td>\n",
       "      <td>3051</td>\n",
       "      <td>2444</td>\n",
       "    </tr>\n",
       "    <tr>\n",
       "      <th>unique</th>\n",
       "      <td>3051</td>\n",
       "      <td>4</td>\n",
       "      <td>2</td>\n",
       "      <td>2</td>\n",
       "      <td>955</td>\n",
       "    </tr>\n",
       "    <tr>\n",
       "      <th>top</th>\n",
       "      <td>7214</td>\n",
       "      <td>Author</td>\n",
       "      <td>False</td>\n",
       "      <td>False</td>\n",
       "      <td>Universidad Nacional de Huancavelica</td>\n",
       "    </tr>\n",
       "    <tr>\n",
       "      <th>freq</th>\n",
       "      <td>1</td>\n",
       "      <td>2750</td>\n",
       "      <td>2088</td>\n",
       "      <td>3027</td>\n",
       "      <td>68</td>\n",
       "    </tr>\n",
       "  </tbody>\n",
       "</table>\n",
       "</div>"
      ],
      "text/plain": [
       "          id contribution primary corporate  \\\n",
       "count   3051         3051    3051      3051   \n",
       "unique  3051            4       2         2   \n",
       "top     7214       Author   False     False   \n",
       "freq       1         2750    2088      3027   \n",
       "\n",
       "                                    location  \n",
       "count                                   2444  \n",
       "unique                                   955  \n",
       "top     Universidad Nacional de Huancavelica  \n",
       "freq                                      68  "
      ]
     },
     "execution_count": 49,
     "metadata": {},
     "output_type": "execute_result"
    }
   ],
   "source": [
    "df_cont.describe()"
   ]
  },
  {
   "cell_type": "markdown",
   "id": "06488848-1dcc-451e-b638-76ea9632f0d1",
   "metadata": {},
   "source": [
    "**Author**, **Editor**, **Primary** and **Corporate** will be labels, but I will leave contribution as a property too. **Location** will be a node."
   ]
  },
  {
   "cell_type": "markdown",
   "id": "00c2a4f2-5d2f-48eb-8be0-b2979b854ff9",
   "metadata": {},
   "source": [
    "## Formats column"
   ]
  },
  {
   "cell_type": "code",
   "execution_count": 48,
   "id": "b6165ca3-1a6a-4298-b91d-8b33717282d4",
   "metadata": {},
   "outputs": [
    {
     "data": {
      "text/plain": [
       "False"
      ]
     },
     "execution_count": 48,
     "metadata": {},
     "output_type": "execute_result"
    }
   ],
   "source": [
    "(df['formats']\n",
    " .map(lambda x: [c['id'] for c in x if c['format']=='PDF'])\n",
    " .explode()\n",
    " .value_counts() > 1\n",
    ").any()"
   ]
  },
  {
   "cell_type": "markdown",
   "id": "68cab042-0dcd-45df-a8e9-b3d2842403ea",
   "metadata": {},
   "source": [
    "The **format.id** will be a property in the relation to the node **format**."
   ]
  },
  {
   "cell_type": "markdown",
   "id": "2a897a02-06ea-496d-a640-eca7cdaf46d0",
   "metadata": {},
   "source": [
    "## Subjects column"
   ]
  },
  {
   "cell_type": "code",
   "execution_count": 54,
   "id": "a4ea5e64-6df9-47ee-b34a-261bca6975e3",
   "metadata": {},
   "outputs": [
    {
     "data": {
      "text/plain": [
       "subjects\n",
       "7    140\n",
       "Name: count, dtype: int64"
      ]
     },
     "execution_count": 54,
     "metadata": {},
     "output_type": "execute_result"
    }
   ],
   "source": [
    "(df['subjects']\n",
    " .map(lambda x: [c['id'] for c in x if c['name']=='Mathematics'])\n",
    " .explode()\n",
    " .value_counts()\n",
    ")"
   ]
  },
  {
   "cell_type": "markdown",
   "id": "76e66389-a0c8-4419-86c1-1819080006e5",
   "metadata": {},
   "source": [
    "## Reviews column"
   ]
  },
  {
   "cell_type": "code",
   "execution_count": 14,
   "id": "d684c3d3-49ed-4a0f-a69c-5c900ae4190e",
   "metadata": {},
   "outputs": [],
   "source": [
    "def get_reviews_df(df):\n",
    "    return (df['reviews']\n",
    "            .map(lambda x: [[c['id'], c['institution_name'],] for c in x])\n",
    "            .explode()\n",
    "            .astype('str')\n",
    "            .str\n",
    "            .extract(r\"(?P<id>\\d+)\\W+(?P<inst_name>.+[^\\'\\]])\")\n",
    "            .dropna(how='all')\n",
    "           )"
   ]
  },
  {
   "cell_type": "code",
   "execution_count": 15,
   "id": "9a1fa965-a7a1-47e7-a7d2-53df41e9f2e5",
   "metadata": {},
   "outputs": [
    {
     "name": "stdout",
     "output_type": "stream",
     "text": [
      "<class 'pandas.core.frame.DataFrame'>\n",
      "Index: 6817 entries, 1693 to 18\n",
      "Data columns (total 2 columns):\n",
      " #   Column     Non-Null Count  Dtype \n",
      "---  ------     --------------  ----- \n",
      " 0   id         6817 non-null   object\n",
      " 1   inst_name  6817 non-null   object\n",
      "dtypes: object(2)\n",
      "memory usage: 159.8+ KB\n",
      "None\n"
     ]
    },
    {
     "data": {
      "text/html": [
       "<div>\n",
       "<style scoped>\n",
       "    .dataframe tbody tr th:only-of-type {\n",
       "        vertical-align: middle;\n",
       "    }\n",
       "\n",
       "    .dataframe tbody tr th {\n",
       "        vertical-align: top;\n",
       "    }\n",
       "\n",
       "    .dataframe thead th {\n",
       "        text-align: right;\n",
       "    }\n",
       "</style>\n",
       "<table border=\"1\" class=\"dataframe\">\n",
       "  <thead>\n",
       "    <tr style=\"text-align: right;\">\n",
       "      <th></th>\n",
       "      <th>id</th>\n",
       "      <th>inst_name</th>\n",
       "    </tr>\n",
       "  </thead>\n",
       "  <tbody>\n",
       "    <tr>\n",
       "      <th>1693</th>\n",
       "      <td>35192</td>\n",
       "      <td>Grace College and Seminary</td>\n",
       "    </tr>\n",
       "    <tr>\n",
       "      <th>1686</th>\n",
       "      <td>35181</td>\n",
       "      <td>Anderson University</td>\n",
       "    </tr>\n",
       "  </tbody>\n",
       "</table>\n",
       "</div>"
      ],
      "text/plain": [
       "         id                   inst_name\n",
       "1693  35192  Grace College and Seminary\n",
       "1686  35181         Anderson University"
      ]
     },
     "execution_count": 15,
     "metadata": {},
     "output_type": "execute_result"
    }
   ],
   "source": [
    "df_rev = get_reviews_df(df)\n",
    "print(df_rev.info())\n",
    "df_rev.head(2)"
   ]
  },
  {
   "cell_type": "code",
   "execution_count": 16,
   "id": "be7fd506-c5f7-4a57-b6bc-de44cecadb3e",
   "metadata": {},
   "outputs": [
    {
     "data": {
      "text/html": [
       "<div>\n",
       "<style scoped>\n",
       "    .dataframe tbody tr th:only-of-type {\n",
       "        vertical-align: middle;\n",
       "    }\n",
       "\n",
       "    .dataframe tbody tr th {\n",
       "        vertical-align: top;\n",
       "    }\n",
       "\n",
       "    .dataframe thead th {\n",
       "        text-align: right;\n",
       "    }\n",
       "</style>\n",
       "<table border=\"1\" class=\"dataframe\">\n",
       "  <thead>\n",
       "    <tr style=\"text-align: right;\">\n",
       "      <th></th>\n",
       "      <th>id</th>\n",
       "      <th>inst_name</th>\n",
       "    </tr>\n",
       "  </thead>\n",
       "  <tbody>\n",
       "    <tr>\n",
       "      <th>count</th>\n",
       "      <td>6817</td>\n",
       "      <td>6817</td>\n",
       "    </tr>\n",
       "    <tr>\n",
       "      <th>unique</th>\n",
       "      <td>6817</td>\n",
       "      <td>874</td>\n",
       "    </tr>\n",
       "    <tr>\n",
       "      <th>top</th>\n",
       "      <td>35192</td>\n",
       "      <td>Portland Community College</td>\n",
       "    </tr>\n",
       "    <tr>\n",
       "      <th>freq</th>\n",
       "      <td>1</td>\n",
       "      <td>205</td>\n",
       "    </tr>\n",
       "  </tbody>\n",
       "</table>\n",
       "</div>"
      ],
      "text/plain": [
       "           id                   inst_name\n",
       "count    6817                        6817\n",
       "unique   6817                         874\n",
       "top     35192  Portland Community College\n",
       "freq        1                         205"
      ]
     },
     "execution_count": 16,
     "metadata": {},
     "output_type": "execute_result"
    }
   ],
   "source": [
    "df_rev.describe()"
   ]
  },
  {
   "cell_type": "code",
   "execution_count": 28,
   "id": "8a7cd54e-3ff3-4e19-a765-264afbd401cb",
   "metadata": {},
   "outputs": [
    {
     "data": {
      "text/html": [
       "<div>\n",
       "<style scoped>\n",
       "    .dataframe tbody tr th:only-of-type {\n",
       "        vertical-align: middle;\n",
       "    }\n",
       "\n",
       "    .dataframe tbody tr th {\n",
       "        vertical-align: top;\n",
       "    }\n",
       "\n",
       "    .dataframe thead th {\n",
       "        text-align: right;\n",
       "    }\n",
       "</style>\n",
       "<table border=\"1\" class=\"dataframe\">\n",
       "  <thead>\n",
       "    <tr style=\"text-align: right;\">\n",
       "      <th></th>\n",
       "      <th>id</th>\n",
       "      <th>contribution</th>\n",
       "      <th>primary</th>\n",
       "      <th>corporate</th>\n",
       "      <th>location</th>\n",
       "    </tr>\n",
       "  </thead>\n",
       "  <tbody>\n",
       "    <tr>\n",
       "      <th>1688</th>\n",
       "      <td>7158</td>\n",
       "      <td>Author</td>\n",
       "      <td>False</td>\n",
       "      <td>False</td>\n",
       "      <td>Portland Community College</td>\n",
       "    </tr>\n",
       "    <tr>\n",
       "      <th>1688</th>\n",
       "      <td>7159</td>\n",
       "      <td>Author</td>\n",
       "      <td>False</td>\n",
       "      <td>False</td>\n",
       "      <td>Portland Community College</td>\n",
       "    </tr>\n",
       "    <tr>\n",
       "      <th>1688</th>\n",
       "      <td>7160</td>\n",
       "      <td>Author</td>\n",
       "      <td>False</td>\n",
       "      <td>False</td>\n",
       "      <td>Portland Community College</td>\n",
       "    </tr>\n",
       "    <tr>\n",
       "      <th>1533</th>\n",
       "      <td>6676</td>\n",
       "      <td>Author</td>\n",
       "      <td>True</td>\n",
       "      <td>False</td>\n",
       "      <td>Portland Community College</td>\n",
       "    </tr>\n",
       "    <tr>\n",
       "      <th>1430</th>\n",
       "      <td>6294</td>\n",
       "      <td>Author</td>\n",
       "      <td>True</td>\n",
       "      <td>False</td>\n",
       "      <td>Portland Community College</td>\n",
       "    </tr>\n",
       "    <tr>\n",
       "      <th>999</th>\n",
       "      <td>5418</td>\n",
       "      <td>Author</td>\n",
       "      <td>False</td>\n",
       "      <td>False</td>\n",
       "      <td>Portland Community College</td>\n",
       "    </tr>\n",
       "    <tr>\n",
       "      <th>944</th>\n",
       "      <td>5327</td>\n",
       "      <td>Author</td>\n",
       "      <td>False</td>\n",
       "      <td>False</td>\n",
       "      <td>Portland Community College</td>\n",
       "    </tr>\n",
       "    <tr>\n",
       "      <th>888</th>\n",
       "      <td>5236</td>\n",
       "      <td>Author</td>\n",
       "      <td>False</td>\n",
       "      <td>False</td>\n",
       "      <td>Portland Community College</td>\n",
       "    </tr>\n",
       "    <tr>\n",
       "      <th>700</th>\n",
       "      <td>4839</td>\n",
       "      <td>Author</td>\n",
       "      <td>False</td>\n",
       "      <td>False</td>\n",
       "      <td>Portland Community College</td>\n",
       "    </tr>\n",
       "    <tr>\n",
       "      <th>699</th>\n",
       "      <td>4838</td>\n",
       "      <td>Author</td>\n",
       "      <td>False</td>\n",
       "      <td>False</td>\n",
       "      <td>Portland Community College</td>\n",
       "    </tr>\n",
       "    <tr>\n",
       "      <th>698</th>\n",
       "      <td>4837</td>\n",
       "      <td>Author</td>\n",
       "      <td>False</td>\n",
       "      <td>False</td>\n",
       "      <td>Portland Community College</td>\n",
       "    </tr>\n",
       "  </tbody>\n",
       "</table>\n",
       "</div>"
      ],
      "text/plain": [
       "        id contribution primary corporate                    location\n",
       "1688  7158       Author   False     False  Portland Community College\n",
       "1688  7159       Author   False     False  Portland Community College\n",
       "1688  7160       Author   False     False  Portland Community College\n",
       "1533  6676       Author    True     False  Portland Community College\n",
       "1430  6294       Author    True     False  Portland Community College\n",
       "999   5418       Author   False     False  Portland Community College\n",
       "944   5327       Author   False     False  Portland Community College\n",
       "888   5236       Author   False     False  Portland Community College\n",
       "700   4839       Author   False     False  Portland Community College\n",
       "699   4838       Author   False     False  Portland Community College\n",
       "698   4837       Author   False     False  Portland Community College"
      ]
     },
     "execution_count": 28,
     "metadata": {},
     "output_type": "execute_result"
    }
   ],
   "source": [
    "df_cont[df_cont.location == df_rev.inst_name.value_counts().index[0]]"
   ]
  },
  {
   "cell_type": "markdown",
   "id": "b8ef6936-a1fe-4ab3-845f-c96ca839f76f",
   "metadata": {},
   "source": [
    "This is a **review** node, not **reviewer** and there is some overlep between rev.intitute_name and contributors.location , but I will leave them as two distinct nodes. Maybe in future versions I change."
   ]
  },
  {
   "cell_type": "markdown",
   "id": "d82dcdd7-103a-4978-8fd4-d07003b08018",
   "metadata": {},
   "source": [
    "# Creating..."
   ]
  },
  {
   "cell_type": "markdown",
   "id": "85b49e89-fa5b-47dc-a77e-c424a6221bca",
   "metadata": {},
   "source": [
    "## Constraints"
   ]
  },
  {
   "cell_type": "markdown",
   "id": "4704bbc5-da39-4b19-92b3-7e9fcbd44f83",
   "metadata": {},
   "source": [
    "Just execute the cypher code substituing name with book, publisher, review, contributor and subject each time."
   ]
  },
  {
   "cell_type": "raw",
   "id": "3b78c711-71a2-4a39-8959-ce04054561af",
   "metadata": {},
   "source": [
    "CREATE CONSTRAINT constraint_name\n",
    "FOR (n:Name) \n",
    "REQUIRE n.id IS UNIQUE"
   ]
  },
  {
   "cell_type": "markdown",
   "id": "b8d3db29-5ef1-4662-8fd2-0e4470327d56",
   "metadata": {},
   "source": [
    "Like this."
   ]
  },
  {
   "cell_type": "raw",
   "id": "b3d32140-d633-429b-b045-b9148c20c967",
   "metadata": {},
   "source": [
    "CREATE CONSTRAINT constraint_book\n",
    "FOR (b:Book)\n",
    "REQUIRE b.id IS UNIQUE"
   ]
  },
  {
   "cell_type": "markdown",
   "id": "f548e5c7-417c-482a-95cf-d90fa9e5ed28",
   "metadata": {},
   "source": [
    "Now besides format do the same with language, license, location and institute"
   ]
  },
  {
   "cell_type": "raw",
   "id": "47e337ae-6f4e-4936-bf11-2da2baf871d5",
   "metadata": {},
   "source": [
    "CREATE CONSTRAINT constraint_format_name\n",
    "FOR (n:Format)\n",
    "REQUIRE n.name IS UNIQUE"
   ]
  },
  {
   "cell_type": "raw",
   "id": "e154559e-e770-4bdb-b7f8-ad2b63cb867b",
   "metadata": {},
   "source": [
    "And with contraint_has_format and relationship HAS_FORMAT do."
   ]
  },
  {
   "cell_type": "raw",
   "id": "a6edd0d3-90eb-4492-be5f-23481fe7e9b3",
   "metadata": {},
   "source": [
    "CREATE CONSTRAINT constraint_published\n",
    "FOR ()-[r:PUBLISHED]->()\n",
    "REQUIRE r.id IS UNIQUE"
   ]
  },
  {
   "cell_type": "markdown",
   "id": "0ea14a9f-3a43-4160-a9ea-d3f1fe1ed442",
   "metadata": {},
   "source": [
    "## Loading"
   ]
  },
  {
   "cell_type": "raw",
   "id": "120e1ee0-df60-4e29-bb19-fe62305ad854",
   "metadata": {},
   "source": [
    "call apoc.load.json('https://github.com/V-O-A/Open-textbooks-graph-database/raw/master/Data/OTL_textbooks_v0.json') YIELD value\n",
    "UNWIND keys(value) as k\n",
    "WITH value[k] as b\n",
    "MERGE (nb:Book)\n",
    "    SET nb.id = b.id\n",
    "    SET nb.title = b.title\n",
    "    SET nb.edition_statement = b.edition_statement\n",
    "    SET nb.volume = nb.volume\n",
    "    SET nb.copyright_year = b.copyright_year\n",
    "    SET nb.ISBN10 = b.ISBN10\n",
    "    SET nb.ISBN13 = b.ISBN13\n",
    "    SET nb.description = b.description\n",
    "    SET nb.rating = b.rating\n",
    "    SET nb.url = b.url\n",
    "    MERGE (:Language {name: nb.language})<-[:AVALIABLE_IN]-(nb)\n",
    "    FOREACH (fm IN nb.formats | MERGE (:Format {name:fm.format})<-[:HAS_FORMAT {id: fm.id, url: fm.url}]-(nb) )\n",
    "    FOREACH (pub IN nb.publishers | MERGE (:Publisher {name: pub.name, url: pub.url})-[:PUBLISHED {id:pub.id}]->(nb))\n",
    "    FOREACH (sub IN nb.subjects | MERGE ()-[]-())\n",
    "//\n",
    "LIMIT 2"
   ]
  }
 ],
 "metadata": {
  "kernelspec": {
   "display_name": "Python 3 (ipykernel)",
   "language": "python",
   "name": "python3"
  },
  "language_info": {
   "codemirror_mode": {
    "name": "ipython",
    "version": 3
   },
   "file_extension": ".py",
   "mimetype": "text/x-python",
   "name": "python",
   "nbconvert_exporter": "python",
   "pygments_lexer": "ipython3",
   "version": "3.9.18"
  }
 },
 "nbformat": 4,
 "nbformat_minor": 5
}
