{
 "cells": [
  {
   "cell_type": "code",
   "execution_count": 9,
   "id": "0a1b6d7f-e00e-43dc-9c5c-f5fd54e09967",
   "metadata": {},
   "outputs": [],
   "source": [
    "import pandas as pd\n",
    "import numpy as np\n",
    "import matplotlib.pyplot as plt\n",
    "from IPython.display import Code"
   ]
  },
  {
   "cell_type": "code",
   "execution_count": 2,
   "id": "10d3160a-841f-4d52-8f65-a1a913bc64e0",
   "metadata": {},
   "outputs": [],
   "source": [
    "def get_dict_keys_from(df, column, book_id=1709):\n",
    "    return (df[column]\n",
    "            [book_id]\n",
    "            [0]  # item index\n",
    "            .keys()\n",
    "           )"
   ]
  },
  {
   "cell_type": "markdown",
   "id": "2d74268f-d0bd-464a-8136-f544a7032fee",
   "metadata": {},
   "source": [
    "**Table of Contents**\n",
    "* [Exploring and Modeling](#Exploring-and-Modeling)\n",
    "    * [Publishers columns](#Publishers-column)\n",
    "    * [Contributors column](#Contributors-column)\n",
    "    * [Formats column](#Formats-column)\n",
    "    * [Subjects column](#Subjects-column)\n",
    "    * [Reviews column](#Reviews-column)\n",
    "* [Creating...](#Creating...)\n",
    "    * [... Constraints](#...-Constraints)\n",
    "    * [Loading](#Loading)\n",
    "    * [... Labels](#...-Labels)\n",
    "    * [...Relationships](#...-Relationships)\n",
    "    * [Both](#Both)\n",
    "* [Notes](#Notes)\n",
    "    * [Duplicated nodes](#Duplicated-nodes)\n",
    "    * [Ambiguity](#Ambiguity)"
   ]
  },
  {
   "cell_type": "markdown",
   "id": "61e15c2b-7a07-4af9-8262-ba8927cb068b",
   "metadata": {},
   "source": [
    "# Exploring and Modeling"
   ]
  },
  {
   "cell_type": "code",
   "execution_count": 3,
   "id": "01921e40-bb09-4bd8-b8a4-8d1a87f2fcab",
   "metadata": {},
   "outputs": [
    {
     "name": "stdout",
     "output_type": "stream",
     "text": [
      "<class 'pandas.core.frame.DataFrame'>\n",
      "Index: 1523 entries, 1709 to 18\n",
      "Data columns (total 18 columns):\n",
      " #   Column                  Non-Null Count  Dtype              \n",
      "---  ------                  --------------  -----              \n",
      " 0   title                   1523 non-null   object             \n",
      " 1   edition_statement       210 non-null    object             \n",
      " 2   volume                  49 non-null     object             \n",
      " 3   copyright_year          1491 non-null   float64            \n",
      " 4   ISBN10                  19 non-null     float64            \n",
      " 5   ISBN13                  632 non-null    object             \n",
      " 6   license                 1523 non-null   object             \n",
      " 7   language                1523 non-null   object             \n",
      " 8   description             1523 non-null   object             \n",
      " 9   contributors            1523 non-null   object             \n",
      " 10  subjects                1523 non-null   object             \n",
      " 11  publishers              1523 non-null   object             \n",
      " 12  formats                 1523 non-null   object             \n",
      " 13  rating                  1049 non-null   float64            \n",
      " 14  textbook_reviews_count  1523 non-null   int64              \n",
      " 15  reviews                 1523 non-null   object             \n",
      " 16  url                     1523 non-null   object             \n",
      " 17  updated_at              1523 non-null   datetime64[ns, UTC]\n",
      "dtypes: datetime64[ns, UTC](1), float64(3), int64(1), object(13)\n",
      "memory usage: 226.1+ KB\n",
      "None\n"
     ]
    },
    {
     "data": {
      "text/html": [
       "<div>\n",
       "<style scoped>\n",
       "    .dataframe tbody tr th:only-of-type {\n",
       "        vertical-align: middle;\n",
       "    }\n",
       "\n",
       "    .dataframe tbody tr th {\n",
       "        vertical-align: top;\n",
       "    }\n",
       "\n",
       "    .dataframe thead th {\n",
       "        text-align: right;\n",
       "    }\n",
       "</style>\n",
       "<table border=\"1\" class=\"dataframe\">\n",
       "  <thead>\n",
       "    <tr style=\"text-align: right;\">\n",
       "      <th></th>\n",
       "      <th>title</th>\n",
       "      <th>edition_statement</th>\n",
       "      <th>volume</th>\n",
       "      <th>copyright_year</th>\n",
       "      <th>ISBN10</th>\n",
       "      <th>ISBN13</th>\n",
       "      <th>license</th>\n",
       "      <th>language</th>\n",
       "      <th>description</th>\n",
       "      <th>contributors</th>\n",
       "      <th>subjects</th>\n",
       "      <th>publishers</th>\n",
       "      <th>formats</th>\n",
       "      <th>rating</th>\n",
       "      <th>textbook_reviews_count</th>\n",
       "      <th>reviews</th>\n",
       "      <th>url</th>\n",
       "      <th>updated_at</th>\n",
       "    </tr>\n",
       "  </thead>\n",
       "  <tbody>\n",
       "    <tr>\n",
       "      <th>1709</th>\n",
       "      <td>Applications of Educational Technology</td>\n",
       "      <td>None</td>\n",
       "      <td>None</td>\n",
       "      <td>2018.0</td>\n",
       "      <td>NaN</td>\n",
       "      <td>None</td>\n",
       "      <td>Attribution-NonCommercial</td>\n",
       "      <td>eng</td>\n",
       "      <td>Welcome to the Applications of Educational Tec...</td>\n",
       "      <td>[{'id': 7214, 'contribution': 'Author', 'prima...</td>\n",
       "      <td>[{'id': 5, 'name': 'Education', 'parent_subjec...</td>\n",
       "      <td>[{'id': 1683, 'name': 'Oklahoma State Universi...</td>\n",
       "      <td>[{'id': 4357, 'format': 'Online', 'url': 'http...</td>\n",
       "      <td>NaN</td>\n",
       "      <td>0</td>\n",
       "      <td>[]</td>\n",
       "      <td>https://open.umn.edu/opentextbooks/textbooks/a...</td>\n",
       "      <td>2024-08-02 04:30:37+00:00</td>\n",
       "    </tr>\n",
       "    <tr>\n",
       "      <th>1708</th>\n",
       "      <td>Measurement and Instrumentation: An Introducti...</td>\n",
       "      <td>1st Edition</td>\n",
       "      <td>None</td>\n",
       "      <td>2020.0</td>\n",
       "      <td>NaN</td>\n",
       "      <td>None</td>\n",
       "      <td>Attribution-NonCommercial-ShareAlike</td>\n",
       "      <td>eng</td>\n",
       "      <td>Measurement and instrumentation are fundamenta...</td>\n",
       "      <td>[{'id': 7212, 'contribution': 'Author', 'prima...</td>\n",
       "      <td>[{'id': 13, 'name': 'Engineering &amp; Technology'...</td>\n",
       "      <td>[{'id': 1682, 'name': 'SHAREOK', 'url': 'https...</td>\n",
       "      <td>[{'id': 4356, 'format': 'PDF', 'url': 'https:/...</td>\n",
       "      <td>NaN</td>\n",
       "      <td>0</td>\n",
       "      <td>[]</td>\n",
       "      <td>https://open.umn.edu/opentextbooks/textbooks/m...</td>\n",
       "      <td>2024-08-02 04:23:03+00:00</td>\n",
       "    </tr>\n",
       "  </tbody>\n",
       "</table>\n",
       "</div>"
      ],
      "text/plain": [
       "                                                  title edition_statement  \\\n",
       "1709             Applications of Educational Technology              None   \n",
       "1708  Measurement and Instrumentation: An Introducti...       1st Edition   \n",
       "\n",
       "     volume  copyright_year  ISBN10 ISBN13  \\\n",
       "1709   None          2018.0     NaN   None   \n",
       "1708   None          2020.0     NaN   None   \n",
       "\n",
       "                                   license language  \\\n",
       "1709             Attribution-NonCommercial      eng   \n",
       "1708  Attribution-NonCommercial-ShareAlike      eng   \n",
       "\n",
       "                                            description  \\\n",
       "1709  Welcome to the Applications of Educational Tec...   \n",
       "1708  Measurement and instrumentation are fundamenta...   \n",
       "\n",
       "                                           contributors  \\\n",
       "1709  [{'id': 7214, 'contribution': 'Author', 'prima...   \n",
       "1708  [{'id': 7212, 'contribution': 'Author', 'prima...   \n",
       "\n",
       "                                               subjects  \\\n",
       "1709  [{'id': 5, 'name': 'Education', 'parent_subjec...   \n",
       "1708  [{'id': 13, 'name': 'Engineering & Technology'...   \n",
       "\n",
       "                                             publishers  \\\n",
       "1709  [{'id': 1683, 'name': 'Oklahoma State Universi...   \n",
       "1708  [{'id': 1682, 'name': 'SHAREOK', 'url': 'https...   \n",
       "\n",
       "                                                formats  rating  \\\n",
       "1709  [{'id': 4357, 'format': 'Online', 'url': 'http...     NaN   \n",
       "1708  [{'id': 4356, 'format': 'PDF', 'url': 'https:/...     NaN   \n",
       "\n",
       "      textbook_reviews_count reviews  \\\n",
       "1709                       0      []   \n",
       "1708                       0      []   \n",
       "\n",
       "                                                    url  \\\n",
       "1709  https://open.umn.edu/opentextbooks/textbooks/a...   \n",
       "1708  https://open.umn.edu/opentextbooks/textbooks/m...   \n",
       "\n",
       "                    updated_at  \n",
       "1709 2024-08-02 04:30:37+00:00  \n",
       "1708 2024-08-02 04:23:03+00:00  "
      ]
     },
     "execution_count": 3,
     "metadata": {},
     "output_type": "execute_result"
    }
   ],
   "source": [
    "df = pd.read_json('Data/OTL_textbooks_v0.json', orient='index',)\n",
    "\n",
    "print(df.info())\n",
    "df.head(2)"
   ]
  },
  {
   "cell_type": "code",
   "execution_count": 6,
   "id": "67ea5d61-de62-4c6f-a527-d4542b8b6e4e",
   "metadata": {},
   "outputs": [
    {
     "data": {
      "text/plain": [
       "1709    2018\n",
       "1708    2020\n",
       "1707    2018\n",
       "1706    2020\n",
       "1705    2024\n",
       "        ... \n",
       "13      2011\n",
       "14      2022\n",
       "15      2016\n",
       "16      2015\n",
       "18      2010\n",
       "Name: copyright_year, Length: 1491, dtype: int32"
      ]
     },
     "execution_count": 6,
     "metadata": {},
     "output_type": "execute_result"
    }
   ],
   "source": [
    "df.copyright_year.dropna().astype('i')"
   ]
  },
  {
   "cell_type": "markdown",
   "id": "201335f7-e7d6-421a-ad41-8de88c027597",
   "metadata": {},
   "source": [
    "I will not use **textbook_reviews_count** and **updated_at**."
   ]
  },
  {
   "cell_type": "code",
   "execution_count": 45,
   "id": "1e5746f2-9f4b-4d17-8126-891a94de5eec",
   "metadata": {
    "jupyter": {
     "source_hidden": true
    }
   },
   "outputs": [
    {
     "data": {
      "text/html": [
       "<figure>\n",
       "    <img src=\"Images/OTL data model-v0.png\" width=\"600\" height=\"200\">\n",
       "    <figcaption>Data model ver. 0</figcaption>\n",
       "</figure>\n"
      ],
      "text/plain": [
       "<IPython.core.display.HTML object>"
      ]
     },
     "metadata": {},
     "output_type": "display_data"
    }
   ],
   "source": [
    "%%HTML\n",
    "<figure>\n",
    "    <img src=\"Images/OTL data model-v0.png\" width=\"600\" height=\"200\">\n",
    "    <figcaption>Data model ver. 0</figcaption>\n",
    "</figure>"
   ]
  },
  {
   "cell_type": "markdown",
   "id": "7d5144b9-5118-496b-a3f9-8c31a74afb1a",
   "metadata": {},
   "source": [
    "## Publishers column"
   ]
  },
  {
   "cell_type": "code",
   "execution_count": 58,
   "id": "d81d4156-355f-4936-acf9-1b5e825991dd",
   "metadata": {},
   "outputs": [
    {
     "data": {
      "text/plain": [
       "dict_keys(['id', 'name', 'url', 'year', 'created_at', 'updated_at'])"
      ]
     },
     "execution_count": 58,
     "metadata": {},
     "output_type": "execute_result"
    }
   ],
   "source": [
    "get_dict_keys_from(df, 'publishers')"
   ]
  },
  {
   "cell_type": "code",
   "execution_count": 36,
   "id": "e3419c08-d498-4d2b-bbc9-7e75fc56f99f",
   "metadata": {},
   "outputs": [],
   "source": [
    "def get_publishers_df(df):\n",
    "    return (df['publishers']\n",
    "            .map(lambda x: [[c['id'], c['year'], c['name'],] for c in x])\n",
    "            .explode()\n",
    "            .astype('str')\n",
    "            .str\n",
    "            .extract(r'(?P<id>\\d+)\\,\\s(?P<year>\\d{4}|None)\\W+(?P<name>.+[^\\'\\]])')\n",
    ")"
   ]
  },
  {
   "cell_type": "code",
   "execution_count": 37,
   "id": "b6d6b1e3-6af8-4c88-9da2-ea2b2e588082",
   "metadata": {},
   "outputs": [
    {
     "name": "stdout",
     "output_type": "stream",
     "text": [
      "<class 'pandas.core.frame.DataFrame'>\n",
      "Index: 1524 entries, 1709 to 18\n",
      "Data columns (total 3 columns):\n",
      " #   Column  Non-Null Count  Dtype \n",
      "---  ------  --------------  ----- \n",
      " 0   id      1520 non-null   object\n",
      " 1   year    1520 non-null   object\n",
      " 2   name    1520 non-null   object\n",
      "dtypes: object(3)\n",
      "memory usage: 47.6+ KB\n",
      "None\n"
     ]
    },
    {
     "data": {
      "text/html": [
       "<div>\n",
       "<style scoped>\n",
       "    .dataframe tbody tr th:only-of-type {\n",
       "        vertical-align: middle;\n",
       "    }\n",
       "\n",
       "    .dataframe tbody tr th {\n",
       "        vertical-align: top;\n",
       "    }\n",
       "\n",
       "    .dataframe thead th {\n",
       "        text-align: right;\n",
       "    }\n",
       "</style>\n",
       "<table border=\"1\" class=\"dataframe\">\n",
       "  <thead>\n",
       "    <tr style=\"text-align: right;\">\n",
       "      <th></th>\n",
       "      <th>id</th>\n",
       "      <th>year</th>\n",
       "      <th>name</th>\n",
       "    </tr>\n",
       "  </thead>\n",
       "  <tbody>\n",
       "    <tr>\n",
       "      <th>1709</th>\n",
       "      <td>1683</td>\n",
       "      <td>2024</td>\n",
       "      <td>Oklahoma State University</td>\n",
       "    </tr>\n",
       "    <tr>\n",
       "      <th>1708</th>\n",
       "      <td>1682</td>\n",
       "      <td>2024</td>\n",
       "      <td>SHAREOK</td>\n",
       "    </tr>\n",
       "  </tbody>\n",
       "</table>\n",
       "</div>"
      ],
      "text/plain": [
       "        id  year                       name\n",
       "1709  1683  2024  Oklahoma State University\n",
       "1708  1682  2024                    SHAREOK"
      ]
     },
     "execution_count": 37,
     "metadata": {},
     "output_type": "execute_result"
    }
   ],
   "source": [
    "df_pub = get_publishers_df(df)\n",
    "print(df_pub.info())\n",
    "df_pub.head(2)"
   ]
  },
  {
   "cell_type": "code",
   "execution_count": 39,
   "id": "dc002409-2df4-4d95-ab30-f44fd1af1ff8",
   "metadata": {},
   "outputs": [
    {
     "data": {
      "text/html": [
       "<div>\n",
       "<style scoped>\n",
       "    .dataframe tbody tr th:only-of-type {\n",
       "        vertical-align: middle;\n",
       "    }\n",
       "\n",
       "    .dataframe tbody tr th {\n",
       "        vertical-align: top;\n",
       "    }\n",
       "\n",
       "    .dataframe thead th {\n",
       "        text-align: right;\n",
       "    }\n",
       "</style>\n",
       "<table border=\"1\" class=\"dataframe\">\n",
       "  <thead>\n",
       "    <tr style=\"text-align: right;\">\n",
       "      <th></th>\n",
       "      <th>id</th>\n",
       "      <th>year</th>\n",
       "      <th>name</th>\n",
       "    </tr>\n",
       "  </thead>\n",
       "  <tbody>\n",
       "    <tr>\n",
       "      <th>count</th>\n",
       "      <td>1520</td>\n",
       "      <td>1520</td>\n",
       "      <td>1520</td>\n",
       "    </tr>\n",
       "    <tr>\n",
       "      <th>unique</th>\n",
       "      <td>1520</td>\n",
       "      <td>12</td>\n",
       "      <td>399</td>\n",
       "    </tr>\n",
       "    <tr>\n",
       "      <th>top</th>\n",
       "      <td>1683</td>\n",
       "      <td>None</td>\n",
       "      <td>Editorial Grupo AEA</td>\n",
       "    </tr>\n",
       "    <tr>\n",
       "      <th>freq</th>\n",
       "      <td>1</td>\n",
       "      <td>1028</td>\n",
       "      <td>65</td>\n",
       "    </tr>\n",
       "  </tbody>\n",
       "</table>\n",
       "</div>"
      ],
      "text/plain": [
       "          id  year                 name\n",
       "count   1520  1520                 1520\n",
       "unique  1520    12                  399\n",
       "top     1683  None  Editorial Grupo AEA\n",
       "freq       1  1028                   65"
      ]
     },
     "execution_count": 39,
     "metadata": {},
     "output_type": "execute_result"
    }
   ],
   "source": [
    "(df_pub\n",
    " .describe()\n",
    ")"
   ]
  },
  {
   "cell_type": "code",
   "execution_count": 40,
   "id": "276f8059-5496-417e-9dd1-ea2e7f1234be",
   "metadata": {},
   "outputs": [
    {
     "data": {
      "text/html": [
       "<div>\n",
       "<style scoped>\n",
       "    .dataframe tbody tr th:only-of-type {\n",
       "        vertical-align: middle;\n",
       "    }\n",
       "\n",
       "    .dataframe tbody tr th {\n",
       "        vertical-align: top;\n",
       "    }\n",
       "\n",
       "    .dataframe thead th {\n",
       "        text-align: right;\n",
       "    }\n",
       "</style>\n",
       "<table border=\"1\" class=\"dataframe\">\n",
       "  <thead>\n",
       "    <tr style=\"text-align: right;\">\n",
       "      <th></th>\n",
       "      <th>id</th>\n",
       "      <th>year</th>\n",
       "      <th>name</th>\n",
       "    </tr>\n",
       "  </thead>\n",
       "  <tbody>\n",
       "    <tr>\n",
       "      <th>count</th>\n",
       "      <td>65</td>\n",
       "      <td>65</td>\n",
       "      <td>65</td>\n",
       "    </tr>\n",
       "    <tr>\n",
       "      <th>unique</th>\n",
       "      <td>65</td>\n",
       "      <td>4</td>\n",
       "      <td>1</td>\n",
       "    </tr>\n",
       "    <tr>\n",
       "      <th>top</th>\n",
       "      <td>1679</td>\n",
       "      <td>2023</td>\n",
       "      <td>Editorial Grupo AEA</td>\n",
       "    </tr>\n",
       "    <tr>\n",
       "      <th>freq</th>\n",
       "      <td>1</td>\n",
       "      <td>34</td>\n",
       "      <td>65</td>\n",
       "    </tr>\n",
       "  </tbody>\n",
       "</table>\n",
       "</div>"
      ],
      "text/plain": [
       "          id  year                 name\n",
       "count     65    65                   65\n",
       "unique    65     4                    1\n",
       "top     1679  2023  Editorial Grupo AEA\n",
       "freq       1    34                   65"
      ]
     },
     "execution_count": 40,
     "metadata": {},
     "output_type": "execute_result"
    }
   ],
   "source": [
    "(df_pub\n",
    " .query(\"name == 'Editorial Grupo AEA'\")\n",
    " .describe()\n",
    ")"
   ]
  },
  {
   "cell_type": "markdown",
   "id": "0b99c2da-4b2b-46a4-a0b7-438d26461b83",
   "metadata": {},
   "source": [
    "**id**, **url** and **year** will be properties from the node publisher to the node book. **updated_at** and **created_at** I will not use."
   ]
  },
  {
   "cell_type": "code",
   "execution_count": 37,
   "id": "3ed5562b-ded8-4221-81ab-3bfe5daa94e1",
   "metadata": {
    "jupyter": {
     "source_hidden": true
    }
   },
   "outputs": [
    {
     "data": {
      "text/html": [
       "<figure>\n",
       "    <img src=\"Images/OTL data model-v0.1.png\" width=\"800\" height=\"200\">\n",
       "    <figcaption>Data model ver. 0.1</figcaption>\n",
       "</figure>\n"
      ],
      "text/plain": [
       "<IPython.core.display.HTML object>"
      ]
     },
     "metadata": {},
     "output_type": "display_data"
    }
   ],
   "source": [
    "%%HTML\n",
    "<figure>\n",
    "    <img src=\"Images/OTL data model-v0.1.png\" width=\"800\" height=\"200\">\n",
    "    <figcaption>Data model ver. 0.1</figcaption>\n",
    "</figure>"
   ]
  },
  {
   "cell_type": "markdown",
   "id": "470ab910-792d-4047-a174-baf0dabc6b67",
   "metadata": {},
   "source": [
    "## Contributors column"
   ]
  },
  {
   "cell_type": "code",
   "execution_count": 59,
   "id": "0d90b75d-bd98-4959-be28-b3540251d43d",
   "metadata": {},
   "outputs": [
    {
     "data": {
      "text/plain": [
       "dict_keys(['id', 'contribution', 'primary', 'corporate', 'title', 'first_name', 'middle_name', 'last_name', 'location', 'background_text'])"
      ]
     },
     "execution_count": 59,
     "metadata": {},
     "output_type": "execute_result"
    }
   ],
   "source": [
    "get_dict_keys_from(df, 'contributors')"
   ]
  },
  {
   "cell_type": "code",
   "execution_count": 5,
   "id": "7e51cd9e-e2d8-4299-bc91-4c4681e3e309",
   "metadata": {},
   "outputs": [],
   "source": [
    "def get_contributors_df(df):\n",
    "    return (df['contributors']\n",
    "            .map(lambda x: [[c['id'], c['contribution'], c['primary'], c['corporate'], c['location']] for c in x])\n",
    "            .explode()\n",
    "            .astype('str')\n",
    "            .str\n",
    "            .extract(r\"(?P<id>\\d+)\\W+(?P<contribution>\\w+)\\W+(?P<primary>\\w+)\\W+(?P<corporate>\\w+)\\W+(?P<location>.+[^\\'\\]])\")\n",
    "            .replace({'location': r'None'}, value=np.nan)\n",
    "           )"
   ]
  },
  {
   "cell_type": "code",
   "execution_count": 6,
   "id": "d214b9c0-85dd-44e3-9836-931fa98062ec",
   "metadata": {},
   "outputs": [
    {
     "name": "stdout",
     "output_type": "stream",
     "text": [
      "<class 'pandas.core.frame.DataFrame'>\n",
      "Index: 3083 entries, 1709 to 18\n",
      "Data columns (total 5 columns):\n",
      " #   Column        Non-Null Count  Dtype \n",
      "---  ------        --------------  ----- \n",
      " 0   id            3051 non-null   object\n",
      " 1   contribution  3051 non-null   object\n",
      " 2   primary       3051 non-null   object\n",
      " 3   corporate     3051 non-null   object\n",
      " 4   location      2444 non-null   object\n",
      "dtypes: object(5)\n",
      "memory usage: 144.5+ KB\n",
      "None\n"
     ]
    },
    {
     "data": {
      "text/html": [
       "<div>\n",
       "<style scoped>\n",
       "    .dataframe tbody tr th:only-of-type {\n",
       "        vertical-align: middle;\n",
       "    }\n",
       "\n",
       "    .dataframe tbody tr th {\n",
       "        vertical-align: top;\n",
       "    }\n",
       "\n",
       "    .dataframe thead th {\n",
       "        text-align: right;\n",
       "    }\n",
       "</style>\n",
       "<table border=\"1\" class=\"dataframe\">\n",
       "  <thead>\n",
       "    <tr style=\"text-align: right;\">\n",
       "      <th></th>\n",
       "      <th>id</th>\n",
       "      <th>contribution</th>\n",
       "      <th>primary</th>\n",
       "      <th>corporate</th>\n",
       "      <th>location</th>\n",
       "    </tr>\n",
       "  </thead>\n",
       "  <tbody>\n",
       "    <tr>\n",
       "      <th>1709</th>\n",
       "      <td>7214</td>\n",
       "      <td>Author</td>\n",
       "      <td>False</td>\n",
       "      <td>False</td>\n",
       "      <td>Oklahoma State University</td>\n",
       "    </tr>\n",
       "    <tr>\n",
       "      <th>1708</th>\n",
       "      <td>7212</td>\n",
       "      <td>Author</td>\n",
       "      <td>False</td>\n",
       "      <td>False</td>\n",
       "      <td>University of Oklahoma</td>\n",
       "    </tr>\n",
       "  </tbody>\n",
       "</table>\n",
       "</div>"
      ],
      "text/plain": [
       "        id contribution primary corporate                   location\n",
       "1709  7214       Author   False     False  Oklahoma State University\n",
       "1708  7212       Author   False     False     University of Oklahoma"
      ]
     },
     "execution_count": 6,
     "metadata": {},
     "output_type": "execute_result"
    }
   ],
   "source": [
    "df_cont = get_contributors_df(df)\n",
    "\n",
    "print(df_cont.info())\n",
    "df_cont.head(2)"
   ]
  },
  {
   "cell_type": "code",
   "execution_count": 50,
   "id": "09818bb3-af49-46a5-8d1f-739f8a9efba7",
   "metadata": {},
   "outputs": [
    {
     "data": {
      "text/plain": [
       "contribution\n",
       "Author         2750\n",
       "Editor          286\n",
       "Illustrator      12\n",
       "Translator        3\n",
       "Name: count, dtype: int64"
      ]
     },
     "execution_count": 50,
     "metadata": {},
     "output_type": "execute_result"
    }
   ],
   "source": [
    "(df_cont\n",
    " .contribution\n",
    " .value_counts()\n",
    ")"
   ]
  },
  {
   "cell_type": "code",
   "execution_count": 49,
   "id": "604b82b3-74e9-44de-bbc8-6c5f7bb61d99",
   "metadata": {},
   "outputs": [
    {
     "data": {
      "text/html": [
       "<div>\n",
       "<style scoped>\n",
       "    .dataframe tbody tr th:only-of-type {\n",
       "        vertical-align: middle;\n",
       "    }\n",
       "\n",
       "    .dataframe tbody tr th {\n",
       "        vertical-align: top;\n",
       "    }\n",
       "\n",
       "    .dataframe thead th {\n",
       "        text-align: right;\n",
       "    }\n",
       "</style>\n",
       "<table border=\"1\" class=\"dataframe\">\n",
       "  <thead>\n",
       "    <tr style=\"text-align: right;\">\n",
       "      <th></th>\n",
       "      <th>id</th>\n",
       "      <th>contribution</th>\n",
       "      <th>primary</th>\n",
       "      <th>corporate</th>\n",
       "      <th>location</th>\n",
       "    </tr>\n",
       "  </thead>\n",
       "  <tbody>\n",
       "    <tr>\n",
       "      <th>count</th>\n",
       "      <td>3051</td>\n",
       "      <td>3051</td>\n",
       "      <td>3051</td>\n",
       "      <td>3051</td>\n",
       "      <td>2444</td>\n",
       "    </tr>\n",
       "    <tr>\n",
       "      <th>unique</th>\n",
       "      <td>3051</td>\n",
       "      <td>4</td>\n",
       "      <td>2</td>\n",
       "      <td>2</td>\n",
       "      <td>955</td>\n",
       "    </tr>\n",
       "    <tr>\n",
       "      <th>top</th>\n",
       "      <td>7214</td>\n",
       "      <td>Author</td>\n",
       "      <td>False</td>\n",
       "      <td>False</td>\n",
       "      <td>Universidad Nacional de Huancavelica</td>\n",
       "    </tr>\n",
       "    <tr>\n",
       "      <th>freq</th>\n",
       "      <td>1</td>\n",
       "      <td>2750</td>\n",
       "      <td>2088</td>\n",
       "      <td>3027</td>\n",
       "      <td>68</td>\n",
       "    </tr>\n",
       "  </tbody>\n",
       "</table>\n",
       "</div>"
      ],
      "text/plain": [
       "          id contribution primary corporate  \\\n",
       "count   3051         3051    3051      3051   \n",
       "unique  3051            4       2         2   \n",
       "top     7214       Author   False     False   \n",
       "freq       1         2750    2088      3027   \n",
       "\n",
       "                                    location  \n",
       "count                                   2444  \n",
       "unique                                   955  \n",
       "top     Universidad Nacional de Huancavelica  \n",
       "freq                                      68  "
      ]
     },
     "execution_count": 49,
     "metadata": {},
     "output_type": "execute_result"
    }
   ],
   "source": [
    "df_cont.describe()"
   ]
  },
  {
   "cell_type": "markdown",
   "id": "06488848-1dcc-451e-b638-76ea9632f0d1",
   "metadata": {},
   "source": [
    "**Author**, **Editor**, **Primary** and **Corporate** will be labels, but I will leave contribution as a property too. **Location** will be a node."
   ]
  },
  {
   "cell_type": "code",
   "execution_count": 38,
   "id": "80542094-f493-40a7-849a-2bd871e61cb6",
   "metadata": {
    "jupyter": {
     "source_hidden": true
    }
   },
   "outputs": [
    {
     "data": {
      "text/html": [
       "<figure>\n",
       "    <img src=\"Images/OTL data model-v0.2.png\" width=\"800\" height=\"200\">\n",
       "    <figcaption>Data model ver. 0.2</figcaption>\n",
       "</figure>\n"
      ],
      "text/plain": [
       "<IPython.core.display.HTML object>"
      ]
     },
     "metadata": {},
     "output_type": "display_data"
    }
   ],
   "source": [
    "%%HTML\n",
    "<figure>\n",
    "    <img src=\"Images/OTL data model-v0.2.png\" width=\"800\" height=\"200\">\n",
    "    <figcaption>Data model ver. 0.2</figcaption>\n",
    "</figure>"
   ]
  },
  {
   "cell_type": "markdown",
   "id": "00c2a4f2-5d2f-48eb-8be0-b2979b854ff9",
   "metadata": {},
   "source": [
    "## Formats column"
   ]
  },
  {
   "cell_type": "code",
   "execution_count": 5,
   "id": "a4bfffa6-4bf4-4d3b-851c-668599132d01",
   "metadata": {},
   "outputs": [
    {
     "data": {
      "text/plain": [
       "dict_keys(['id', 'format', 'url', 'price', 'isbn'])"
      ]
     },
     "execution_count": 5,
     "metadata": {},
     "output_type": "execute_result"
    }
   ],
   "source": [
    "get_dict_keys_from(df, 'formats')"
   ]
  },
  {
   "cell_type": "code",
   "execution_count": 45,
   "id": "b6165ca3-1a6a-4298-b91d-8b33717282d4",
   "metadata": {},
   "outputs": [
    {
     "data": {
      "text/plain": [
       "count     1516\n",
       "unique    1516\n",
       "top       4358\n",
       "freq         1\n",
       "Name: formats, dtype: int64"
      ]
     },
     "execution_count": 45,
     "metadata": {},
     "output_type": "execute_result"
    }
   ],
   "source": [
    "(df['formats']\n",
    " .map(lambda x: [c['id'] for c in x if c['format']=='PDF'])\n",
    " .explode()\n",
    " .describe()\n",
    ")"
   ]
  },
  {
   "cell_type": "markdown",
   "id": "68cab042-0dcd-45df-a8e9-b3d2842403ea",
   "metadata": {},
   "source": [
    "The **id** and **url** will be properties in the relation to the node **format**. **isbn** and **price** I will not use. "
   ]
  },
  {
   "cell_type": "code",
   "execution_count": 39,
   "id": "da0179f2-1ea4-4e38-b766-806b5aa44068",
   "metadata": {
    "jupyter": {
     "source_hidden": true
    }
   },
   "outputs": [
    {
     "data": {
      "text/html": [
       "<figure>\n",
       "    <img src=\"Images/OTL data model-v0.3.png\" width=\"800\" height=\"200\">\n",
       "    <figcaption>Data model ver. 0.3</figcaption>\n",
       "</figure>\n"
      ],
      "text/plain": [
       "<IPython.core.display.HTML object>"
      ]
     },
     "metadata": {},
     "output_type": "display_data"
    }
   ],
   "source": [
    "%%HTML\n",
    "<figure>\n",
    "    <img src=\"Images/OTL data model-v0.3.png\" width=\"800\" height=\"200\">\n",
    "    <figcaption>Data model ver. 0.3</figcaption>\n",
    "</figure>"
   ]
  },
  {
   "cell_type": "markdown",
   "id": "2a897a02-06ea-496d-a640-eca7cdaf46d0",
   "metadata": {},
   "source": [
    "## Subjects column"
   ]
  },
  {
   "cell_type": "code",
   "execution_count": 61,
   "id": "b63af201-f8fe-4508-9de0-5d554ccf4340",
   "metadata": {},
   "outputs": [
    {
     "data": {
      "text/plain": [
       "dict_keys(['id', 'name', 'parent_subject_id', 'call_number', 'visible_textbooks_count', 'url'])"
      ]
     },
     "execution_count": 61,
     "metadata": {},
     "output_type": "execute_result"
    }
   ],
   "source": [
    "get_dict_keys_from(df, 'subjects')"
   ]
  },
  {
   "cell_type": "code",
   "execution_count": 54,
   "id": "a4ea5e64-6df9-47ee-b34a-261bca6975e3",
   "metadata": {},
   "outputs": [
    {
     "data": {
      "text/plain": [
       "subjects\n",
       "7    140\n",
       "Name: count, dtype: int64"
      ]
     },
     "execution_count": 54,
     "metadata": {},
     "output_type": "execute_result"
    }
   ],
   "source": [
    "(df['subjects']\n",
    " .map(lambda x: [c['id'] for c in x if c['name']=='Mathematics'])\n",
    " .explode()\n",
    " .value_counts()\n",
    ")"
   ]
  },
  {
   "cell_type": "markdown",
   "id": "3ac8bf78-872f-4d2e-9490-d44a9906a36a",
   "metadata": {},
   "source": [
    "Will be a node. I will not use **call_number** and **visible_textbooks_count**."
   ]
  },
  {
   "cell_type": "code",
   "execution_count": 40,
   "id": "87ccd7d4-7953-450f-be04-c136608e6957",
   "metadata": {
    "jupyter": {
     "source_hidden": true
    }
   },
   "outputs": [
    {
     "data": {
      "text/html": [
       "<figure>\n",
       "    <img src=\"Images/OTL data model-v0.4.png\" width=\"800\" height=\"200\">\n",
       "    <figcaption>Data model ver. 0.4</figcaption>\n",
       "</figure>\n"
      ],
      "text/plain": [
       "<IPython.core.display.HTML object>"
      ]
     },
     "metadata": {},
     "output_type": "display_data"
    }
   ],
   "source": [
    "%%HTML\n",
    "<figure>\n",
    "    <img src=\"Images/OTL data model-v0.4.png\" width=\"800\" height=\"200\">\n",
    "    <figcaption>Data model ver. 0.4</figcaption>\n",
    "</figure>"
   ]
  },
  {
   "cell_type": "markdown",
   "id": "76e66389-a0c8-4419-86c1-1819080006e5",
   "metadata": {},
   "source": [
    "## Reviews column"
   ]
  },
  {
   "cell_type": "code",
   "execution_count": 64,
   "id": "9313ccf2-b890-406b-8920-31b268b6db29",
   "metadata": {},
   "outputs": [
    {
     "data": {
      "text/plain": [
       "dict_keys(['id', 'first_name', 'last_name', 'position', 'institution_name', 'comprehensiveness_rating', 'comprehensiveness_review', 'accuracy_rating', 'accuracy_review', 'relevance_rating', 'relevance_review', 'clarity_rating', 'clarity_review', 'consistency_rating', 'consistency_review', 'modularity_rating', 'modularity_review', 'organization_rating', 'organization_review', 'interface_rating', 'interface_review', 'grammatical_rating', 'grammatical_review', 'cultural_rating', 'cultural_review', 'overall_rating', 'overall_review', 'created_at', 'updated_at'])"
      ]
     },
     "execution_count": 64,
     "metadata": {},
     "output_type": "execute_result"
    }
   ],
   "source": [
    "get_dict_keys_from(df, 'reviews', book_id=1693)"
   ]
  },
  {
   "cell_type": "code",
   "execution_count": 14,
   "id": "d684c3d3-49ed-4a0f-a69c-5c900ae4190e",
   "metadata": {},
   "outputs": [],
   "source": [
    "def get_reviews_df(df):\n",
    "    return (df['reviews']\n",
    "            .map(lambda x: [[c['id'], c['institution_name'],] for c in x])\n",
    "            .explode()\n",
    "            .astype('str')\n",
    "            .str\n",
    "            .extract(r\"(?P<id>\\d+)\\W+(?P<inst_name>.+[^\\'\\]])\")\n",
    "            .dropna(how='all')\n",
    "           )"
   ]
  },
  {
   "cell_type": "code",
   "execution_count": 15,
   "id": "9a1fa965-a7a1-47e7-a7d2-53df41e9f2e5",
   "metadata": {},
   "outputs": [
    {
     "name": "stdout",
     "output_type": "stream",
     "text": [
      "<class 'pandas.core.frame.DataFrame'>\n",
      "Index: 6817 entries, 1693 to 18\n",
      "Data columns (total 2 columns):\n",
      " #   Column     Non-Null Count  Dtype \n",
      "---  ------     --------------  ----- \n",
      " 0   id         6817 non-null   object\n",
      " 1   inst_name  6817 non-null   object\n",
      "dtypes: object(2)\n",
      "memory usage: 159.8+ KB\n",
      "None\n"
     ]
    },
    {
     "data": {
      "text/html": [
       "<div>\n",
       "<style scoped>\n",
       "    .dataframe tbody tr th:only-of-type {\n",
       "        vertical-align: middle;\n",
       "    }\n",
       "\n",
       "    .dataframe tbody tr th {\n",
       "        vertical-align: top;\n",
       "    }\n",
       "\n",
       "    .dataframe thead th {\n",
       "        text-align: right;\n",
       "    }\n",
       "</style>\n",
       "<table border=\"1\" class=\"dataframe\">\n",
       "  <thead>\n",
       "    <tr style=\"text-align: right;\">\n",
       "      <th></th>\n",
       "      <th>id</th>\n",
       "      <th>inst_name</th>\n",
       "    </tr>\n",
       "  </thead>\n",
       "  <tbody>\n",
       "    <tr>\n",
       "      <th>1693</th>\n",
       "      <td>35192</td>\n",
       "      <td>Grace College and Seminary</td>\n",
       "    </tr>\n",
       "    <tr>\n",
       "      <th>1686</th>\n",
       "      <td>35181</td>\n",
       "      <td>Anderson University</td>\n",
       "    </tr>\n",
       "  </tbody>\n",
       "</table>\n",
       "</div>"
      ],
      "text/plain": [
       "         id                   inst_name\n",
       "1693  35192  Grace College and Seminary\n",
       "1686  35181         Anderson University"
      ]
     },
     "execution_count": 15,
     "metadata": {},
     "output_type": "execute_result"
    }
   ],
   "source": [
    "df_rev = get_reviews_df(df)\n",
    "print(df_rev.info())\n",
    "df_rev.head(2)"
   ]
  },
  {
   "cell_type": "code",
   "execution_count": 16,
   "id": "be7fd506-c5f7-4a57-b6bc-de44cecadb3e",
   "metadata": {},
   "outputs": [
    {
     "data": {
      "text/html": [
       "<div>\n",
       "<style scoped>\n",
       "    .dataframe tbody tr th:only-of-type {\n",
       "        vertical-align: middle;\n",
       "    }\n",
       "\n",
       "    .dataframe tbody tr th {\n",
       "        vertical-align: top;\n",
       "    }\n",
       "\n",
       "    .dataframe thead th {\n",
       "        text-align: right;\n",
       "    }\n",
       "</style>\n",
       "<table border=\"1\" class=\"dataframe\">\n",
       "  <thead>\n",
       "    <tr style=\"text-align: right;\">\n",
       "      <th></th>\n",
       "      <th>id</th>\n",
       "      <th>inst_name</th>\n",
       "    </tr>\n",
       "  </thead>\n",
       "  <tbody>\n",
       "    <tr>\n",
       "      <th>count</th>\n",
       "      <td>6817</td>\n",
       "      <td>6817</td>\n",
       "    </tr>\n",
       "    <tr>\n",
       "      <th>unique</th>\n",
       "      <td>6817</td>\n",
       "      <td>874</td>\n",
       "    </tr>\n",
       "    <tr>\n",
       "      <th>top</th>\n",
       "      <td>35192</td>\n",
       "      <td>Portland Community College</td>\n",
       "    </tr>\n",
       "    <tr>\n",
       "      <th>freq</th>\n",
       "      <td>1</td>\n",
       "      <td>205</td>\n",
       "    </tr>\n",
       "  </tbody>\n",
       "</table>\n",
       "</div>"
      ],
      "text/plain": [
       "           id                   inst_name\n",
       "count    6817                        6817\n",
       "unique   6817                         874\n",
       "top     35192  Portland Community College\n",
       "freq        1                         205"
      ]
     },
     "execution_count": 16,
     "metadata": {},
     "output_type": "execute_result"
    }
   ],
   "source": [
    "df_rev.describe()"
   ]
  },
  {
   "cell_type": "code",
   "execution_count": 28,
   "id": "8a7cd54e-3ff3-4e19-a765-264afbd401cb",
   "metadata": {},
   "outputs": [
    {
     "data": {
      "text/html": [
       "<div>\n",
       "<style scoped>\n",
       "    .dataframe tbody tr th:only-of-type {\n",
       "        vertical-align: middle;\n",
       "    }\n",
       "\n",
       "    .dataframe tbody tr th {\n",
       "        vertical-align: top;\n",
       "    }\n",
       "\n",
       "    .dataframe thead th {\n",
       "        text-align: right;\n",
       "    }\n",
       "</style>\n",
       "<table border=\"1\" class=\"dataframe\">\n",
       "  <thead>\n",
       "    <tr style=\"text-align: right;\">\n",
       "      <th></th>\n",
       "      <th>id</th>\n",
       "      <th>contribution</th>\n",
       "      <th>primary</th>\n",
       "      <th>corporate</th>\n",
       "      <th>location</th>\n",
       "    </tr>\n",
       "  </thead>\n",
       "  <tbody>\n",
       "    <tr>\n",
       "      <th>1688</th>\n",
       "      <td>7158</td>\n",
       "      <td>Author</td>\n",
       "      <td>False</td>\n",
       "      <td>False</td>\n",
       "      <td>Portland Community College</td>\n",
       "    </tr>\n",
       "    <tr>\n",
       "      <th>1688</th>\n",
       "      <td>7159</td>\n",
       "      <td>Author</td>\n",
       "      <td>False</td>\n",
       "      <td>False</td>\n",
       "      <td>Portland Community College</td>\n",
       "    </tr>\n",
       "    <tr>\n",
       "      <th>1688</th>\n",
       "      <td>7160</td>\n",
       "      <td>Author</td>\n",
       "      <td>False</td>\n",
       "      <td>False</td>\n",
       "      <td>Portland Community College</td>\n",
       "    </tr>\n",
       "    <tr>\n",
       "      <th>1533</th>\n",
       "      <td>6676</td>\n",
       "      <td>Author</td>\n",
       "      <td>True</td>\n",
       "      <td>False</td>\n",
       "      <td>Portland Community College</td>\n",
       "    </tr>\n",
       "    <tr>\n",
       "      <th>1430</th>\n",
       "      <td>6294</td>\n",
       "      <td>Author</td>\n",
       "      <td>True</td>\n",
       "      <td>False</td>\n",
       "      <td>Portland Community College</td>\n",
       "    </tr>\n",
       "    <tr>\n",
       "      <th>999</th>\n",
       "      <td>5418</td>\n",
       "      <td>Author</td>\n",
       "      <td>False</td>\n",
       "      <td>False</td>\n",
       "      <td>Portland Community College</td>\n",
       "    </tr>\n",
       "    <tr>\n",
       "      <th>944</th>\n",
       "      <td>5327</td>\n",
       "      <td>Author</td>\n",
       "      <td>False</td>\n",
       "      <td>False</td>\n",
       "      <td>Portland Community College</td>\n",
       "    </tr>\n",
       "    <tr>\n",
       "      <th>888</th>\n",
       "      <td>5236</td>\n",
       "      <td>Author</td>\n",
       "      <td>False</td>\n",
       "      <td>False</td>\n",
       "      <td>Portland Community College</td>\n",
       "    </tr>\n",
       "    <tr>\n",
       "      <th>700</th>\n",
       "      <td>4839</td>\n",
       "      <td>Author</td>\n",
       "      <td>False</td>\n",
       "      <td>False</td>\n",
       "      <td>Portland Community College</td>\n",
       "    </tr>\n",
       "    <tr>\n",
       "      <th>699</th>\n",
       "      <td>4838</td>\n",
       "      <td>Author</td>\n",
       "      <td>False</td>\n",
       "      <td>False</td>\n",
       "      <td>Portland Community College</td>\n",
       "    </tr>\n",
       "    <tr>\n",
       "      <th>698</th>\n",
       "      <td>4837</td>\n",
       "      <td>Author</td>\n",
       "      <td>False</td>\n",
       "      <td>False</td>\n",
       "      <td>Portland Community College</td>\n",
       "    </tr>\n",
       "  </tbody>\n",
       "</table>\n",
       "</div>"
      ],
      "text/plain": [
       "        id contribution primary corporate                    location\n",
       "1688  7158       Author   False     False  Portland Community College\n",
       "1688  7159       Author   False     False  Portland Community College\n",
       "1688  7160       Author   False     False  Portland Community College\n",
       "1533  6676       Author    True     False  Portland Community College\n",
       "1430  6294       Author    True     False  Portland Community College\n",
       "999   5418       Author   False     False  Portland Community College\n",
       "944   5327       Author   False     False  Portland Community College\n",
       "888   5236       Author   False     False  Portland Community College\n",
       "700   4839       Author   False     False  Portland Community College\n",
       "699   4838       Author   False     False  Portland Community College\n",
       "698   4837       Author   False     False  Portland Community College"
      ]
     },
     "execution_count": 28,
     "metadata": {},
     "output_type": "execute_result"
    }
   ],
   "source": [
    "df_cont[df_cont.location == df_rev.inst_name.value_counts().index[0]]"
   ]
  },
  {
   "cell_type": "markdown",
   "id": "b8ef6936-a1fe-4ab3-845f-c96ca839f76f",
   "metadata": {},
   "source": [
    "This is a **review** node, not **reviewer** and there is some overlep between rev.intitute_name and contributors.location , but I will leave them as two distinct nodes. Maybe in future versions I change."
   ]
  },
  {
   "cell_type": "code",
   "execution_count": 42,
   "id": "c4e2072f-d4e9-4aa0-b945-dd43b14d667d",
   "metadata": {
    "jupyter": {
     "source_hidden": true
    }
   },
   "outputs": [
    {
     "data": {
      "text/html": [
       "<figure>\n",
       "    <img src=\"Images/OTL data model-v0.5.png\" width=\"800\" height=\"200\">\n",
       "    <figcaption>Data model ver. 0.5</figcaption>\n",
       "</figure>\n"
      ],
      "text/plain": [
       "<IPython.core.display.HTML object>"
      ]
     },
     "metadata": {},
     "output_type": "display_data"
    }
   ],
   "source": [
    "%%HTML\n",
    "<figure>\n",
    "    <img src=\"Images/OTL data model-v0.5.png\" width=\"800\" height=\"200\">\n",
    "    <figcaption>Data model ver. 0.5</figcaption>\n",
    "</figure>"
   ]
  },
  {
   "cell_type": "markdown",
   "id": "d82dcdd7-103a-4978-8fd4-d07003b08018",
   "metadata": {},
   "source": [
    "# Creating..."
   ]
  },
  {
   "cell_type": "code",
   "execution_count": 43,
   "id": "c31e2917-ef35-4d7f-ae06-599659c840f5",
   "metadata": {
    "jupyter": {
     "source_hidden": true
    }
   },
   "outputs": [
    {
     "data": {
      "text/html": [
       "<figure>\n",
       "    <img src=\"Images/OTL data model-v0.5.png\" width=\"800\" height=\"200\">\n",
       "    <figcaption>Data model ver. 0.5</figcaption>\n",
       "</figure>\n"
      ],
      "text/plain": [
       "<IPython.core.display.HTML object>"
      ]
     },
     "metadata": {},
     "output_type": "display_data"
    }
   ],
   "source": [
    "%%HTML\n",
    "<figure>\n",
    "    <img src=\"Images/OTL data model-v0.5.png\" width=\"800\" height=\"200\">\n",
    "    <figcaption>Data model ver. 0.5</figcaption>\n",
    "</figure>"
   ]
  },
  {
   "cell_type": "markdown",
   "id": "85b49e89-fa5b-47dc-a77e-c424a6221bca",
   "metadata": {},
   "source": [
    "## ... Constraints"
   ]
  },
  {
   "cell_type": "markdown",
   "id": "4704bbc5-da39-4b19-92b3-7e9fcbd44f83",
   "metadata": {},
   "source": [
    "Uniques id for the nodes."
   ]
  },
  {
   "cell_type": "code",
   "execution_count": 10,
   "id": "13a1c90c-5649-4e4a-af31-b162c2fddc61",
   "metadata": {
    "jupyter": {
     "source_hidden": true
    }
   },
   "outputs": [
    {
     "data": {
      "text/html": [
       "<style>pre { line-height: 125%; }\n",
       "td.linenos .normal { color: inherit; background-color: transparent; padding-left: 5px; padding-right: 5px; }\n",
       "span.linenos { color: inherit; background-color: transparent; padding-left: 5px; padding-right: 5px; }\n",
       "td.linenos .special { color: #000000; background-color: #ffffc0; padding-left: 5px; padding-right: 5px; }\n",
       "span.linenos.special { color: #000000; background-color: #ffffc0; padding-left: 5px; padding-right: 5px; }\n",
       ".output_html .hll { background-color: #ffffcc }\n",
       ".output_html { background: #f8f8f8; }\n",
       ".output_html .c { color: #3D7B7B; font-style: italic } /* Comment */\n",
       ".output_html .err { border: 1px solid #FF0000 } /* Error */\n",
       ".output_html .k { color: #008000; font-weight: bold } /* Keyword */\n",
       ".output_html .o { color: #666666 } /* Operator */\n",
       ".output_html .ch { color: #3D7B7B; font-style: italic } /* Comment.Hashbang */\n",
       ".output_html .cm { color: #3D7B7B; font-style: italic } /* Comment.Multiline */\n",
       ".output_html .cp { color: #9C6500 } /* Comment.Preproc */\n",
       ".output_html .cpf { color: #3D7B7B; font-style: italic } /* Comment.PreprocFile */\n",
       ".output_html .c1 { color: #3D7B7B; font-style: italic } /* Comment.Single */\n",
       ".output_html .cs { color: #3D7B7B; font-style: italic } /* Comment.Special */\n",
       ".output_html .gd { color: #A00000 } /* Generic.Deleted */\n",
       ".output_html .ge { font-style: italic } /* Generic.Emph */\n",
       ".output_html .gr { color: #E40000 } /* Generic.Error */\n",
       ".output_html .gh { color: #000080; font-weight: bold } /* Generic.Heading */\n",
       ".output_html .gi { color: #008400 } /* Generic.Inserted */\n",
       ".output_html .go { color: #717171 } /* Generic.Output */\n",
       ".output_html .gp { color: #000080; font-weight: bold } /* Generic.Prompt */\n",
       ".output_html .gs { font-weight: bold } /* Generic.Strong */\n",
       ".output_html .gu { color: #800080; font-weight: bold } /* Generic.Subheading */\n",
       ".output_html .gt { color: #0044DD } /* Generic.Traceback */\n",
       ".output_html .kc { color: #008000; font-weight: bold } /* Keyword.Constant */\n",
       ".output_html .kd { color: #008000; font-weight: bold } /* Keyword.Declaration */\n",
       ".output_html .kn { color: #008000; font-weight: bold } /* Keyword.Namespace */\n",
       ".output_html .kp { color: #008000 } /* Keyword.Pseudo */\n",
       ".output_html .kr { color: #008000; font-weight: bold } /* Keyword.Reserved */\n",
       ".output_html .kt { color: #B00040 } /* Keyword.Type */\n",
       ".output_html .m { color: #666666 } /* Literal.Number */\n",
       ".output_html .s { color: #BA2121 } /* Literal.String */\n",
       ".output_html .na { color: #687822 } /* Name.Attribute */\n",
       ".output_html .nb { color: #008000 } /* Name.Builtin */\n",
       ".output_html .nc { color: #0000FF; font-weight: bold } /* Name.Class */\n",
       ".output_html .no { color: #880000 } /* Name.Constant */\n",
       ".output_html .nd { color: #AA22FF } /* Name.Decorator */\n",
       ".output_html .ni { color: #717171; font-weight: bold } /* Name.Entity */\n",
       ".output_html .ne { color: #CB3F38; font-weight: bold } /* Name.Exception */\n",
       ".output_html .nf { color: #0000FF } /* Name.Function */\n",
       ".output_html .nl { color: #767600 } /* Name.Label */\n",
       ".output_html .nn { color: #0000FF; font-weight: bold } /* Name.Namespace */\n",
       ".output_html .nt { color: #008000; font-weight: bold } /* Name.Tag */\n",
       ".output_html .nv { color: #19177C } /* Name.Variable */\n",
       ".output_html .ow { color: #AA22FF; font-weight: bold } /* Operator.Word */\n",
       ".output_html .w { color: #bbbbbb } /* Text.Whitespace */\n",
       ".output_html .mb { color: #666666 } /* Literal.Number.Bin */\n",
       ".output_html .mf { color: #666666 } /* Literal.Number.Float */\n",
       ".output_html .mh { color: #666666 } /* Literal.Number.Hex */\n",
       ".output_html .mi { color: #666666 } /* Literal.Number.Integer */\n",
       ".output_html .mo { color: #666666 } /* Literal.Number.Oct */\n",
       ".output_html .sa { color: #BA2121 } /* Literal.String.Affix */\n",
       ".output_html .sb { color: #BA2121 } /* Literal.String.Backtick */\n",
       ".output_html .sc { color: #BA2121 } /* Literal.String.Char */\n",
       ".output_html .dl { color: #BA2121 } /* Literal.String.Delimiter */\n",
       ".output_html .sd { color: #BA2121; font-style: italic } /* Literal.String.Doc */\n",
       ".output_html .s2 { color: #BA2121 } /* Literal.String.Double */\n",
       ".output_html .se { color: #AA5D1F; font-weight: bold } /* Literal.String.Escape */\n",
       ".output_html .sh { color: #BA2121 } /* Literal.String.Heredoc */\n",
       ".output_html .si { color: #A45A77; font-weight: bold } /* Literal.String.Interpol */\n",
       ".output_html .sx { color: #008000 } /* Literal.String.Other */\n",
       ".output_html .sr { color: #A45A77 } /* Literal.String.Regex */\n",
       ".output_html .s1 { color: #BA2121 } /* Literal.String.Single */\n",
       ".output_html .ss { color: #19177C } /* Literal.String.Symbol */\n",
       ".output_html .bp { color: #008000 } /* Name.Builtin.Pseudo */\n",
       ".output_html .fm { color: #0000FF } /* Name.Function.Magic */\n",
       ".output_html .vc { color: #19177C } /* Name.Variable.Class */\n",
       ".output_html .vg { color: #19177C } /* Name.Variable.Global */\n",
       ".output_html .vi { color: #19177C } /* Name.Variable.Instance */\n",
       ".output_html .vm { color: #19177C } /* Name.Variable.Magic */\n",
       ".output_html .il { color: #666666 } /* Literal.Number.Integer.Long */</style><div class=\"highlight\"><pre><span></span><span class=\"k\">CREATE</span><span class=\"w\"> </span><span class=\"n\">CONSTRAINT</span><span class=\"w\"> </span><span class=\"n\">bookId</span><span class=\"w\"> </span><span class=\"n\">FOR</span><span class=\"w\"> </span><span class=\"p\">(</span><span class=\"n\">b</span><span class=\"p\">:</span><span class=\"n\">Book</span><span class=\"p\">)</span>\n",
       "<span class=\"n\">REQUIRE</span><span class=\"w\"> </span><span class=\"n\">b</span><span class=\"p\">.</span><span class=\"n\">id</span><span class=\"w\"> </span><span class=\"k\">IS</span><span class=\"w\"> </span><span class=\"k\">UNIQUE</span><span class=\"p\">;</span>\n",
       "\n",
       "<span class=\"k\">CREATE</span><span class=\"w\"> </span><span class=\"n\">CONSTRAINT</span><span class=\"w\"> </span><span class=\"n\">subjectId</span><span class=\"w\"> </span><span class=\"n\">FOR</span><span class=\"w\"> </span><span class=\"p\">(</span><span class=\"n\">s</span><span class=\"p\">:</span><span class=\"n\">Subject</span><span class=\"p\">)</span>\n",
       "<span class=\"n\">REQUIRE</span><span class=\"w\"> </span><span class=\"n\">s</span><span class=\"p\">.</span><span class=\"n\">id</span><span class=\"w\"> </span><span class=\"k\">IS</span><span class=\"w\"> </span><span class=\"k\">UNIQUE</span><span class=\"p\">;</span>\n",
       "\n",
       "<span class=\"k\">CREATE</span><span class=\"w\"> </span><span class=\"n\">CONSTRAINT</span><span class=\"w\"> </span><span class=\"n\">publisherId</span><span class=\"w\"> </span><span class=\"n\">FOR</span><span class=\"w\"> </span><span class=\"p\">(</span><span class=\"n\">p</span><span class=\"p\">:</span><span class=\"n\">Publisher</span><span class=\"p\">)</span>\n",
       "<span class=\"n\">REQUIRE</span><span class=\"w\"> </span><span class=\"n\">p</span><span class=\"p\">.</span><span class=\"n\">id</span><span class=\"w\"> </span><span class=\"k\">IS</span><span class=\"w\"> </span><span class=\"k\">UNIQUE</span><span class=\"p\">;</span>\n",
       "\n",
       "<span class=\"k\">CREATE</span><span class=\"w\"> </span><span class=\"n\">CONSTRAINT</span><span class=\"w\"> </span><span class=\"n\">contributorId</span><span class=\"w\"> </span><span class=\"n\">FOR</span><span class=\"w\"> </span><span class=\"p\">(</span><span class=\"n\">c</span><span class=\"p\">:</span><span class=\"n\">Contributor</span><span class=\"p\">)</span>\n",
       "<span class=\"n\">REQUIRE</span><span class=\"w\"> </span><span class=\"n\">c</span><span class=\"p\">.</span><span class=\"n\">id</span><span class=\"w\"> </span><span class=\"k\">IS</span><span class=\"w\"> </span><span class=\"k\">UNIQUE</span><span class=\"p\">;</span>\n",
       "\n",
       "<span class=\"k\">CREATE</span><span class=\"w\"> </span><span class=\"n\">CONSTRAINT</span><span class=\"w\"> </span><span class=\"n\">reviewId</span><span class=\"w\"> </span><span class=\"n\">FOR</span><span class=\"w\"> </span><span class=\"p\">(</span><span class=\"n\">r</span><span class=\"p\">:</span><span class=\"n\">Review</span><span class=\"p\">)</span>\n",
       "<span class=\"n\">REQUIRE</span><span class=\"w\"> </span><span class=\"n\">r</span><span class=\"p\">.</span><span class=\"n\">id</span><span class=\"w\"> </span><span class=\"k\">IS</span><span class=\"w\"> </span><span class=\"k\">UNIQUE</span>\n",
       "</pre></div>\n"
      ],
      "text/latex": [
       "\\begin{Verbatim}[commandchars=\\\\\\{\\}]\n",
       "\\PY{k}{CREATE}\\PY{+w}{ }\\PY{n}{CONSTRAINT}\\PY{+w}{ }\\PY{n}{bookId}\\PY{+w}{ }\\PY{n}{FOR}\\PY{+w}{ }\\PY{p}{(}\\PY{n}{b}\\PY{p}{:}\\PY{n}{Book}\\PY{p}{)}\n",
       "\\PY{n}{REQUIRE}\\PY{+w}{ }\\PY{n}{b}\\PY{p}{.}\\PY{n}{id}\\PY{+w}{ }\\PY{k}{IS}\\PY{+w}{ }\\PY{k}{UNIQUE}\\PY{p}{;}\n",
       "\n",
       "\\PY{k}{CREATE}\\PY{+w}{ }\\PY{n}{CONSTRAINT}\\PY{+w}{ }\\PY{n}{subjectId}\\PY{+w}{ }\\PY{n}{FOR}\\PY{+w}{ }\\PY{p}{(}\\PY{n}{s}\\PY{p}{:}\\PY{n}{Subject}\\PY{p}{)}\n",
       "\\PY{n}{REQUIRE}\\PY{+w}{ }\\PY{n}{s}\\PY{p}{.}\\PY{n}{id}\\PY{+w}{ }\\PY{k}{IS}\\PY{+w}{ }\\PY{k}{UNIQUE}\\PY{p}{;}\n",
       "\n",
       "\\PY{k}{CREATE}\\PY{+w}{ }\\PY{n}{CONSTRAINT}\\PY{+w}{ }\\PY{n}{publisherId}\\PY{+w}{ }\\PY{n}{FOR}\\PY{+w}{ }\\PY{p}{(}\\PY{n}{p}\\PY{p}{:}\\PY{n}{Publisher}\\PY{p}{)}\n",
       "\\PY{n}{REQUIRE}\\PY{+w}{ }\\PY{n}{p}\\PY{p}{.}\\PY{n}{id}\\PY{+w}{ }\\PY{k}{IS}\\PY{+w}{ }\\PY{k}{UNIQUE}\\PY{p}{;}\n",
       "\n",
       "\\PY{k}{CREATE}\\PY{+w}{ }\\PY{n}{CONSTRAINT}\\PY{+w}{ }\\PY{n}{contributorId}\\PY{+w}{ }\\PY{n}{FOR}\\PY{+w}{ }\\PY{p}{(}\\PY{n}{c}\\PY{p}{:}\\PY{n}{Contributor}\\PY{p}{)}\n",
       "\\PY{n}{REQUIRE}\\PY{+w}{ }\\PY{n}{c}\\PY{p}{.}\\PY{n}{id}\\PY{+w}{ }\\PY{k}{IS}\\PY{+w}{ }\\PY{k}{UNIQUE}\\PY{p}{;}\n",
       "\n",
       "\\PY{k}{CREATE}\\PY{+w}{ }\\PY{n}{CONSTRAINT}\\PY{+w}{ }\\PY{n}{reviewId}\\PY{+w}{ }\\PY{n}{FOR}\\PY{+w}{ }\\PY{p}{(}\\PY{n}{r}\\PY{p}{:}\\PY{n}{Review}\\PY{p}{)}\n",
       "\\PY{n}{REQUIRE}\\PY{+w}{ }\\PY{n}{r}\\PY{p}{.}\\PY{n}{id}\\PY{+w}{ }\\PY{k}{IS}\\PY{+w}{ }\\PY{k}{UNIQUE}\n",
       "\\end{Verbatim}\n"
      ],
      "text/plain": [
       "\n",
       "CREATE CONSTRAINT bookId FOR (b:Book)\n",
       "REQUIRE b.id IS UNIQUE;\n",
       "\n",
       "CREATE CONSTRAINT subjectId FOR (s:Subject)\n",
       "REQUIRE s.id IS UNIQUE;\n",
       "\n",
       "CREATE CONSTRAINT publisherId FOR (p:Publisher)\n",
       "REQUIRE p.id IS UNIQUE;\n",
       "\n",
       "CREATE CONSTRAINT contributorId FOR (c:Contributor)\n",
       "REQUIRE c.id IS UNIQUE;\n",
       "\n",
       "CREATE CONSTRAINT reviewId FOR (r:Review)\n",
       "REQUIRE r.id IS UNIQUE"
      ]
     },
     "execution_count": 10,
     "metadata": {},
     "output_type": "execute_result"
    }
   ],
   "source": [
    "constraints1 = \"\"\"\n",
    "CREATE CONSTRAINT bookId FOR (b:Book)\n",
    "REQUIRE b.id IS UNIQUE;\n",
    "\n",
    "CREATE CONSTRAINT subjectId FOR (s:Subject)\n",
    "REQUIRE s.id IS UNIQUE;\n",
    "\n",
    "CREATE CONSTRAINT publisherId FOR (p:Publisher)\n",
    "REQUIRE p.id IS UNIQUE;\n",
    "\n",
    "CREATE CONSTRAINT contributorId FOR (c:Contributor)\n",
    "REQUIRE c.id IS UNIQUE;\n",
    "\n",
    "CREATE CONSTRAINT reviewId FOR (r:Review)\n",
    "REQUIRE r.id IS UNIQUE\n",
    "\"\"\"\n",
    "\n",
    "Code(constraints1, language='cypher')"
   ]
  },
  {
   "cell_type": "raw",
   "id": "e154559e-e770-4bdb-b7f8-ad2b63cb867b",
   "metadata": {},
   "source": [
    "Uniques id for relationships"
   ]
  },
  {
   "cell_type": "code",
   "execution_count": 16,
   "id": "2d085b67-9f9e-4e58-9b83-725f32d033c5",
   "metadata": {
    "jupyter": {
     "source_hidden": true
    }
   },
   "outputs": [
    {
     "data": {
      "text/html": [
       "<style>pre { line-height: 125%; }\n",
       "td.linenos .normal { color: inherit; background-color: transparent; padding-left: 5px; padding-right: 5px; }\n",
       "span.linenos { color: inherit; background-color: transparent; padding-left: 5px; padding-right: 5px; }\n",
       "td.linenos .special { color: #000000; background-color: #ffffc0; padding-left: 5px; padding-right: 5px; }\n",
       "span.linenos.special { color: #000000; background-color: #ffffc0; padding-left: 5px; padding-right: 5px; }\n",
       ".output_html .hll { background-color: #ffffcc }\n",
       ".output_html { background: #f8f8f8; }\n",
       ".output_html .c { color: #3D7B7B; font-style: italic } /* Comment */\n",
       ".output_html .err { border: 1px solid #FF0000 } /* Error */\n",
       ".output_html .k { color: #008000; font-weight: bold } /* Keyword */\n",
       ".output_html .o { color: #666666 } /* Operator */\n",
       ".output_html .ch { color: #3D7B7B; font-style: italic } /* Comment.Hashbang */\n",
       ".output_html .cm { color: #3D7B7B; font-style: italic } /* Comment.Multiline */\n",
       ".output_html .cp { color: #9C6500 } /* Comment.Preproc */\n",
       ".output_html .cpf { color: #3D7B7B; font-style: italic } /* Comment.PreprocFile */\n",
       ".output_html .c1 { color: #3D7B7B; font-style: italic } /* Comment.Single */\n",
       ".output_html .cs { color: #3D7B7B; font-style: italic } /* Comment.Special */\n",
       ".output_html .gd { color: #A00000 } /* Generic.Deleted */\n",
       ".output_html .ge { font-style: italic } /* Generic.Emph */\n",
       ".output_html .gr { color: #E40000 } /* Generic.Error */\n",
       ".output_html .gh { color: #000080; font-weight: bold } /* Generic.Heading */\n",
       ".output_html .gi { color: #008400 } /* Generic.Inserted */\n",
       ".output_html .go { color: #717171 } /* Generic.Output */\n",
       ".output_html .gp { color: #000080; font-weight: bold } /* Generic.Prompt */\n",
       ".output_html .gs { font-weight: bold } /* Generic.Strong */\n",
       ".output_html .gu { color: #800080; font-weight: bold } /* Generic.Subheading */\n",
       ".output_html .gt { color: #0044DD } /* Generic.Traceback */\n",
       ".output_html .kc { color: #008000; font-weight: bold } /* Keyword.Constant */\n",
       ".output_html .kd { color: #008000; font-weight: bold } /* Keyword.Declaration */\n",
       ".output_html .kn { color: #008000; font-weight: bold } /* Keyword.Namespace */\n",
       ".output_html .kp { color: #008000 } /* Keyword.Pseudo */\n",
       ".output_html .kr { color: #008000; font-weight: bold } /* Keyword.Reserved */\n",
       ".output_html .kt { color: #B00040 } /* Keyword.Type */\n",
       ".output_html .m { color: #666666 } /* Literal.Number */\n",
       ".output_html .s { color: #BA2121 } /* Literal.String */\n",
       ".output_html .na { color: #687822 } /* Name.Attribute */\n",
       ".output_html .nb { color: #008000 } /* Name.Builtin */\n",
       ".output_html .nc { color: #0000FF; font-weight: bold } /* Name.Class */\n",
       ".output_html .no { color: #880000 } /* Name.Constant */\n",
       ".output_html .nd { color: #AA22FF } /* Name.Decorator */\n",
       ".output_html .ni { color: #717171; font-weight: bold } /* Name.Entity */\n",
       ".output_html .ne { color: #CB3F38; font-weight: bold } /* Name.Exception */\n",
       ".output_html .nf { color: #0000FF } /* Name.Function */\n",
       ".output_html .nl { color: #767600 } /* Name.Label */\n",
       ".output_html .nn { color: #0000FF; font-weight: bold } /* Name.Namespace */\n",
       ".output_html .nt { color: #008000; font-weight: bold } /* Name.Tag */\n",
       ".output_html .nv { color: #19177C } /* Name.Variable */\n",
       ".output_html .ow { color: #AA22FF; font-weight: bold } /* Operator.Word */\n",
       ".output_html .w { color: #bbbbbb } /* Text.Whitespace */\n",
       ".output_html .mb { color: #666666 } /* Literal.Number.Bin */\n",
       ".output_html .mf { color: #666666 } /* Literal.Number.Float */\n",
       ".output_html .mh { color: #666666 } /* Literal.Number.Hex */\n",
       ".output_html .mi { color: #666666 } /* Literal.Number.Integer */\n",
       ".output_html .mo { color: #666666 } /* Literal.Number.Oct */\n",
       ".output_html .sa { color: #BA2121 } /* Literal.String.Affix */\n",
       ".output_html .sb { color: #BA2121 } /* Literal.String.Backtick */\n",
       ".output_html .sc { color: #BA2121 } /* Literal.String.Char */\n",
       ".output_html .dl { color: #BA2121 } /* Literal.String.Delimiter */\n",
       ".output_html .sd { color: #BA2121; font-style: italic } /* Literal.String.Doc */\n",
       ".output_html .s2 { color: #BA2121 } /* Literal.String.Double */\n",
       ".output_html .se { color: #AA5D1F; font-weight: bold } /* Literal.String.Escape */\n",
       ".output_html .sh { color: #BA2121 } /* Literal.String.Heredoc */\n",
       ".output_html .si { color: #A45A77; font-weight: bold } /* Literal.String.Interpol */\n",
       ".output_html .sx { color: #008000 } /* Literal.String.Other */\n",
       ".output_html .sr { color: #A45A77 } /* Literal.String.Regex */\n",
       ".output_html .s1 { color: #BA2121 } /* Literal.String.Single */\n",
       ".output_html .ss { color: #19177C } /* Literal.String.Symbol */\n",
       ".output_html .bp { color: #008000 } /* Name.Builtin.Pseudo */\n",
       ".output_html .fm { color: #0000FF } /* Name.Function.Magic */\n",
       ".output_html .vc { color: #19177C } /* Name.Variable.Class */\n",
       ".output_html .vg { color: #19177C } /* Name.Variable.Global */\n",
       ".output_html .vi { color: #19177C } /* Name.Variable.Instance */\n",
       ".output_html .vm { color: #19177C } /* Name.Variable.Magic */\n",
       ".output_html .il { color: #666666 } /* Literal.Number.Integer.Long */</style><div class=\"highlight\"><pre><span></span><span class=\"k\">CREATE</span><span class=\"w\"> </span><span class=\"n\">CONSTRAINT</span><span class=\"w\"> </span><span class=\"n\">publishedId</span><span class=\"w\"> </span><span class=\"n\">FOR</span><span class=\"w\"> </span><span class=\"p\">()</span><span class=\"o\">-[</span><span class=\"n\">p</span><span class=\"p\">:</span><span class=\"n\">PUBLISHED</span><span class=\"o\">]-&gt;</span><span class=\"p\">()</span>\n",
       "<span class=\"n\">REQUIRE</span><span class=\"w\"> </span><span class=\"n\">p</span><span class=\"p\">.</span><span class=\"n\">id</span><span class=\"w\"> </span><span class=\"k\">IS</span><span class=\"w\"> </span><span class=\"k\">UNIQUE</span><span class=\"p\">;</span>\n",
       "\n",
       "<span class=\"k\">CREATE</span><span class=\"w\"> </span><span class=\"n\">CONSTRAINT</span><span class=\"w\"> </span><span class=\"n\">has_formatID</span><span class=\"w\"> </span><span class=\"n\">FOR</span><span class=\"w\"> </span><span class=\"p\">()</span><span class=\"o\">-[</span><span class=\"n\">r</span><span class=\"p\">:</span><span class=\"n\">HAS_FORMAT</span><span class=\"o\">]-&gt;</span><span class=\"p\">()</span>\n",
       "<span class=\"n\">REQUIRE</span><span class=\"w\"> </span><span class=\"n\">r</span><span class=\"p\">.</span><span class=\"n\">id</span><span class=\"w\"> </span><span class=\"k\">IS</span><span class=\"w\"> </span><span class=\"k\">UNIQUE</span>\n",
       "</pre></div>\n"
      ],
      "text/latex": [
       "\\begin{Verbatim}[commandchars=\\\\\\{\\}]\n",
       "\\PY{k}{CREATE}\\PY{+w}{ }\\PY{n}{CONSTRAINT}\\PY{+w}{ }\\PY{n}{publishedId}\\PY{+w}{ }\\PY{n}{FOR}\\PY{+w}{ }\\PY{p}{(}\\PY{p}{)}\\PY{o}{\\PYZhy{}[}\\PY{n}{p}\\PY{p}{:}\\PY{n}{PUBLISHED}\\PY{o}{]\\PYZhy{}\\PYZgt{}}\\PY{p}{(}\\PY{p}{)}\n",
       "\\PY{n}{REQUIRE}\\PY{+w}{ }\\PY{n}{p}\\PY{p}{.}\\PY{n}{id}\\PY{+w}{ }\\PY{k}{IS}\\PY{+w}{ }\\PY{k}{UNIQUE}\\PY{p}{;}\n",
       "\n",
       "\\PY{k}{CREATE}\\PY{+w}{ }\\PY{n}{CONSTRAINT}\\PY{+w}{ }\\PY{n}{has\\PYZus{}formatID}\\PY{+w}{ }\\PY{n}{FOR}\\PY{+w}{ }\\PY{p}{(}\\PY{p}{)}\\PY{o}{\\PYZhy{}[}\\PY{n}{r}\\PY{p}{:}\\PY{n}{HAS\\PYZus{}FORMAT}\\PY{o}{]\\PYZhy{}\\PYZgt{}}\\PY{p}{(}\\PY{p}{)}\n",
       "\\PY{n}{REQUIRE}\\PY{+w}{ }\\PY{n}{r}\\PY{p}{.}\\PY{n}{id}\\PY{+w}{ }\\PY{k}{IS}\\PY{+w}{ }\\PY{k}{UNIQUE}\n",
       "\\end{Verbatim}\n"
      ],
      "text/plain": [
       "\n",
       "CREATE CONSTRAINT publishedId FOR ()-[p:PUBLISHED]->()\n",
       "REQUIRE p.id IS UNIQUE;\n",
       "\n",
       "CREATE CONSTRAINT has_formatID FOR ()-[r:HAS_FORMAT]->()\n",
       "REQUIRE r.id IS UNIQUE"
      ]
     },
     "execution_count": 16,
     "metadata": {},
     "output_type": "execute_result"
    }
   ],
   "source": [
    "constraints2 = \"\"\"\n",
    "CREATE CONSTRAINT publishedId FOR ()-[p:PUBLISHED]->()\n",
    "REQUIRE p.id IS UNIQUE;\n",
    "\n",
    "CREATE CONSTRAINT has_formatID FOR ()-[r:HAS_FORMAT]->()\n",
    "REQUIRE r.id IS UNIQUE\n",
    "\"\"\"\n",
    "Code(constraints2, language='cypher')"
   ]
  },
  {
   "cell_type": "markdown",
   "id": "f548e5c7-417c-482a-95cf-d90fa9e5ed28",
   "metadata": {},
   "source": [
    "Uniques name for the nodes."
   ]
  },
  {
   "cell_type": "code",
   "execution_count": 17,
   "id": "74759127-f542-4eaf-9d25-880e5f388040",
   "metadata": {
    "jupyter": {
     "source_hidden": true
    }
   },
   "outputs": [
    {
     "data": {
      "text/html": [
       "<style>pre { line-height: 125%; }\n",
       "td.linenos .normal { color: inherit; background-color: transparent; padding-left: 5px; padding-right: 5px; }\n",
       "span.linenos { color: inherit; background-color: transparent; padding-left: 5px; padding-right: 5px; }\n",
       "td.linenos .special { color: #000000; background-color: #ffffc0; padding-left: 5px; padding-right: 5px; }\n",
       "span.linenos.special { color: #000000; background-color: #ffffc0; padding-left: 5px; padding-right: 5px; }\n",
       ".output_html .hll { background-color: #ffffcc }\n",
       ".output_html { background: #f8f8f8; }\n",
       ".output_html .c { color: #3D7B7B; font-style: italic } /* Comment */\n",
       ".output_html .err { border: 1px solid #FF0000 } /* Error */\n",
       ".output_html .k { color: #008000; font-weight: bold } /* Keyword */\n",
       ".output_html .o { color: #666666 } /* Operator */\n",
       ".output_html .ch { color: #3D7B7B; font-style: italic } /* Comment.Hashbang */\n",
       ".output_html .cm { color: #3D7B7B; font-style: italic } /* Comment.Multiline */\n",
       ".output_html .cp { color: #9C6500 } /* Comment.Preproc */\n",
       ".output_html .cpf { color: #3D7B7B; font-style: italic } /* Comment.PreprocFile */\n",
       ".output_html .c1 { color: #3D7B7B; font-style: italic } /* Comment.Single */\n",
       ".output_html .cs { color: #3D7B7B; font-style: italic } /* Comment.Special */\n",
       ".output_html .gd { color: #A00000 } /* Generic.Deleted */\n",
       ".output_html .ge { font-style: italic } /* Generic.Emph */\n",
       ".output_html .gr { color: #E40000 } /* Generic.Error */\n",
       ".output_html .gh { color: #000080; font-weight: bold } /* Generic.Heading */\n",
       ".output_html .gi { color: #008400 } /* Generic.Inserted */\n",
       ".output_html .go { color: #717171 } /* Generic.Output */\n",
       ".output_html .gp { color: #000080; font-weight: bold } /* Generic.Prompt */\n",
       ".output_html .gs { font-weight: bold } /* Generic.Strong */\n",
       ".output_html .gu { color: #800080; font-weight: bold } /* Generic.Subheading */\n",
       ".output_html .gt { color: #0044DD } /* Generic.Traceback */\n",
       ".output_html .kc { color: #008000; font-weight: bold } /* Keyword.Constant */\n",
       ".output_html .kd { color: #008000; font-weight: bold } /* Keyword.Declaration */\n",
       ".output_html .kn { color: #008000; font-weight: bold } /* Keyword.Namespace */\n",
       ".output_html .kp { color: #008000 } /* Keyword.Pseudo */\n",
       ".output_html .kr { color: #008000; font-weight: bold } /* Keyword.Reserved */\n",
       ".output_html .kt { color: #B00040 } /* Keyword.Type */\n",
       ".output_html .m { color: #666666 } /* Literal.Number */\n",
       ".output_html .s { color: #BA2121 } /* Literal.String */\n",
       ".output_html .na { color: #687822 } /* Name.Attribute */\n",
       ".output_html .nb { color: #008000 } /* Name.Builtin */\n",
       ".output_html .nc { color: #0000FF; font-weight: bold } /* Name.Class */\n",
       ".output_html .no { color: #880000 } /* Name.Constant */\n",
       ".output_html .nd { color: #AA22FF } /* Name.Decorator */\n",
       ".output_html .ni { color: #717171; font-weight: bold } /* Name.Entity */\n",
       ".output_html .ne { color: #CB3F38; font-weight: bold } /* Name.Exception */\n",
       ".output_html .nf { color: #0000FF } /* Name.Function */\n",
       ".output_html .nl { color: #767600 } /* Name.Label */\n",
       ".output_html .nn { color: #0000FF; font-weight: bold } /* Name.Namespace */\n",
       ".output_html .nt { color: #008000; font-weight: bold } /* Name.Tag */\n",
       ".output_html .nv { color: #19177C } /* Name.Variable */\n",
       ".output_html .ow { color: #AA22FF; font-weight: bold } /* Operator.Word */\n",
       ".output_html .w { color: #bbbbbb } /* Text.Whitespace */\n",
       ".output_html .mb { color: #666666 } /* Literal.Number.Bin */\n",
       ".output_html .mf { color: #666666 } /* Literal.Number.Float */\n",
       ".output_html .mh { color: #666666 } /* Literal.Number.Hex */\n",
       ".output_html .mi { color: #666666 } /* Literal.Number.Integer */\n",
       ".output_html .mo { color: #666666 } /* Literal.Number.Oct */\n",
       ".output_html .sa { color: #BA2121 } /* Literal.String.Affix */\n",
       ".output_html .sb { color: #BA2121 } /* Literal.String.Backtick */\n",
       ".output_html .sc { color: #BA2121 } /* Literal.String.Char */\n",
       ".output_html .dl { color: #BA2121 } /* Literal.String.Delimiter */\n",
       ".output_html .sd { color: #BA2121; font-style: italic } /* Literal.String.Doc */\n",
       ".output_html .s2 { color: #BA2121 } /* Literal.String.Double */\n",
       ".output_html .se { color: #AA5D1F; font-weight: bold } /* Literal.String.Escape */\n",
       ".output_html .sh { color: #BA2121 } /* Literal.String.Heredoc */\n",
       ".output_html .si { color: #A45A77; font-weight: bold } /* Literal.String.Interpol */\n",
       ".output_html .sx { color: #008000 } /* Literal.String.Other */\n",
       ".output_html .sr { color: #A45A77 } /* Literal.String.Regex */\n",
       ".output_html .s1 { color: #BA2121 } /* Literal.String.Single */\n",
       ".output_html .ss { color: #19177C } /* Literal.String.Symbol */\n",
       ".output_html .bp { color: #008000 } /* Name.Builtin.Pseudo */\n",
       ".output_html .fm { color: #0000FF } /* Name.Function.Magic */\n",
       ".output_html .vc { color: #19177C } /* Name.Variable.Class */\n",
       ".output_html .vg { color: #19177C } /* Name.Variable.Global */\n",
       ".output_html .vi { color: #19177C } /* Name.Variable.Instance */\n",
       ".output_html .vm { color: #19177C } /* Name.Variable.Magic */\n",
       ".output_html .il { color: #666666 } /* Literal.Number.Integer.Long */</style><div class=\"highlight\"><pre><span></span><span class=\"k\">CREATE</span><span class=\"w\"> </span><span class=\"n\">CONSTRAINT</span><span class=\"w\"> </span><span class=\"n\">formatName</span><span class=\"w\"> </span><span class=\"n\">FOR</span><span class=\"w\"> </span><span class=\"p\">(</span><span class=\"n\">f</span><span class=\"p\">:</span><span class=\"n\">Format</span><span class=\"p\">)</span>\n",
       "<span class=\"n\">REQUIRE</span><span class=\"w\"> </span><span class=\"n\">f</span><span class=\"p\">.</span><span class=\"n\">name</span><span class=\"w\"> </span><span class=\"k\">IS</span><span class=\"w\"> </span><span class=\"k\">UNIQUE</span><span class=\"p\">;</span>\n",
       "\n",
       "<span class=\"k\">CREATE</span><span class=\"w\"> </span><span class=\"n\">CONSTRAINT</span><span class=\"w\"> </span><span class=\"n\">languageName</span><span class=\"w\"> </span><span class=\"n\">FOR</span><span class=\"w\"> </span><span class=\"p\">(</span><span class=\"n\">lg</span><span class=\"p\">:</span><span class=\"n\">Language</span><span class=\"p\">)</span>\n",
       "<span class=\"n\">REQUIRE</span><span class=\"w\"> </span><span class=\"n\">lg</span><span class=\"p\">.</span><span class=\"n\">name</span><span class=\"w\"> </span><span class=\"k\">IS</span><span class=\"w\"> </span><span class=\"k\">UNIQUE</span><span class=\"p\">;</span>\n",
       "\n",
       "<span class=\"k\">CREATE</span><span class=\"w\"> </span><span class=\"n\">CONSTRAINT</span><span class=\"w\"> </span><span class=\"n\">licenseName</span><span class=\"w\"> </span><span class=\"n\">FOR</span><span class=\"w\"> </span><span class=\"p\">(</span><span class=\"n\">lcs</span><span class=\"p\">:</span><span class=\"n\">License</span><span class=\"p\">)</span>\n",
       "<span class=\"n\">REQUIRE</span><span class=\"w\"> </span><span class=\"n\">lcs</span><span class=\"p\">.</span><span class=\"n\">name</span><span class=\"w\"> </span><span class=\"k\">IS</span><span class=\"w\"> </span><span class=\"k\">UNIQUE</span><span class=\"p\">;</span>\n",
       "\n",
       "<span class=\"k\">CREATE</span><span class=\"w\"> </span><span class=\"n\">CONSTRAINT</span><span class=\"w\"> </span><span class=\"n\">locationName</span><span class=\"w\"> </span><span class=\"n\">FOR</span><span class=\"w\"> </span><span class=\"p\">(</span><span class=\"n\">loc</span><span class=\"p\">:</span><span class=\"n\">Location</span><span class=\"p\">)</span>\n",
       "<span class=\"n\">REQUIRE</span><span class=\"w\"> </span><span class=\"n\">loc</span><span class=\"p\">.</span><span class=\"n\">name</span><span class=\"w\"> </span><span class=\"k\">IS</span><span class=\"w\"> </span><span class=\"k\">UNIQUE</span><span class=\"p\">;</span>\n",
       "\n",
       "<span class=\"k\">CREATE</span><span class=\"w\"> </span><span class=\"n\">CONSTRAINT</span><span class=\"w\"> </span><span class=\"n\">institutionName</span><span class=\"w\"> </span><span class=\"n\">FOR</span><span class=\"w\"> </span><span class=\"p\">(</span><span class=\"n\">i</span><span class=\"p\">:</span><span class=\"n\">Institution</span><span class=\"p\">)</span>\n",
       "<span class=\"n\">REQUIRE</span><span class=\"w\"> </span><span class=\"n\">i</span><span class=\"p\">.</span><span class=\"n\">name</span><span class=\"w\"> </span><span class=\"k\">IS</span><span class=\"w\"> </span><span class=\"k\">UNIQUE</span>\n",
       "</pre></div>\n"
      ],
      "text/latex": [
       "\\begin{Verbatim}[commandchars=\\\\\\{\\}]\n",
       "\\PY{k}{CREATE}\\PY{+w}{ }\\PY{n}{CONSTRAINT}\\PY{+w}{ }\\PY{n}{formatName}\\PY{+w}{ }\\PY{n}{FOR}\\PY{+w}{ }\\PY{p}{(}\\PY{n}{f}\\PY{p}{:}\\PY{n}{Format}\\PY{p}{)}\n",
       "\\PY{n}{REQUIRE}\\PY{+w}{ }\\PY{n}{f}\\PY{p}{.}\\PY{n}{name}\\PY{+w}{ }\\PY{k}{IS}\\PY{+w}{ }\\PY{k}{UNIQUE}\\PY{p}{;}\n",
       "\n",
       "\\PY{k}{CREATE}\\PY{+w}{ }\\PY{n}{CONSTRAINT}\\PY{+w}{ }\\PY{n}{languageName}\\PY{+w}{ }\\PY{n}{FOR}\\PY{+w}{ }\\PY{p}{(}\\PY{n}{lg}\\PY{p}{:}\\PY{n}{Language}\\PY{p}{)}\n",
       "\\PY{n}{REQUIRE}\\PY{+w}{ }\\PY{n}{lg}\\PY{p}{.}\\PY{n}{name}\\PY{+w}{ }\\PY{k}{IS}\\PY{+w}{ }\\PY{k}{UNIQUE}\\PY{p}{;}\n",
       "\n",
       "\\PY{k}{CREATE}\\PY{+w}{ }\\PY{n}{CONSTRAINT}\\PY{+w}{ }\\PY{n}{licenseName}\\PY{+w}{ }\\PY{n}{FOR}\\PY{+w}{ }\\PY{p}{(}\\PY{n}{lcs}\\PY{p}{:}\\PY{n}{License}\\PY{p}{)}\n",
       "\\PY{n}{REQUIRE}\\PY{+w}{ }\\PY{n}{lcs}\\PY{p}{.}\\PY{n}{name}\\PY{+w}{ }\\PY{k}{IS}\\PY{+w}{ }\\PY{k}{UNIQUE}\\PY{p}{;}\n",
       "\n",
       "\\PY{k}{CREATE}\\PY{+w}{ }\\PY{n}{CONSTRAINT}\\PY{+w}{ }\\PY{n}{locationName}\\PY{+w}{ }\\PY{n}{FOR}\\PY{+w}{ }\\PY{p}{(}\\PY{n}{loc}\\PY{p}{:}\\PY{n}{Location}\\PY{p}{)}\n",
       "\\PY{n}{REQUIRE}\\PY{+w}{ }\\PY{n}{loc}\\PY{p}{.}\\PY{n}{name}\\PY{+w}{ }\\PY{k}{IS}\\PY{+w}{ }\\PY{k}{UNIQUE}\\PY{p}{;}\n",
       "\n",
       "\\PY{k}{CREATE}\\PY{+w}{ }\\PY{n}{CONSTRAINT}\\PY{+w}{ }\\PY{n}{institutionName}\\PY{+w}{ }\\PY{n}{FOR}\\PY{+w}{ }\\PY{p}{(}\\PY{n}{i}\\PY{p}{:}\\PY{n}{Institution}\\PY{p}{)}\n",
       "\\PY{n}{REQUIRE}\\PY{+w}{ }\\PY{n}{i}\\PY{p}{.}\\PY{n}{name}\\PY{+w}{ }\\PY{k}{IS}\\PY{+w}{ }\\PY{k}{UNIQUE}\n",
       "\\end{Verbatim}\n"
      ],
      "text/plain": [
       "\n",
       "CREATE CONSTRAINT formatName FOR (f:Format)\n",
       "REQUIRE f.name IS UNIQUE;\n",
       "\n",
       "CREATE CONSTRAINT languageName FOR (lg:Language)\n",
       "REQUIRE lg.name IS UNIQUE;\n",
       "\n",
       "CREATE CONSTRAINT licenseName FOR (lcs:License)\n",
       "REQUIRE lcs.name IS UNIQUE;\n",
       "\n",
       "CREATE CONSTRAINT locationName FOR (loc:Location)\n",
       "REQUIRE loc.name IS UNIQUE;\n",
       "\n",
       "CREATE CONSTRAINT institutionName FOR (i:Institution)\n",
       "REQUIRE i.name IS UNIQUE"
      ]
     },
     "execution_count": 17,
     "metadata": {},
     "output_type": "execute_result"
    }
   ],
   "source": [
    "constraints3 = \"\"\"\n",
    "CREATE CONSTRAINT formatName FOR (f:Format)\n",
    "REQUIRE f.name IS UNIQUE;\n",
    "\n",
    "CREATE CONSTRAINT languageName FOR (lg:Language)\n",
    "REQUIRE lg.name IS UNIQUE;\n",
    "\n",
    "CREATE CONSTRAINT licenseName FOR (lcs:License)\n",
    "REQUIRE lcs.name IS UNIQUE;\n",
    "\n",
    "CREATE CONSTRAINT locationName FOR (loc:Location)\n",
    "REQUIRE loc.name IS UNIQUE;\n",
    "\n",
    "CREATE CONSTRAINT institutionName FOR (i:Institution)\n",
    "REQUIRE i.name IS UNIQUE\n",
    "\"\"\"\n",
    "Code(constraints3, language='cypher')"
   ]
  },
  {
   "cell_type": "markdown",
   "id": "0ea14a9f-3a43-4160-a9ea-d3f1fe1ed442",
   "metadata": {},
   "source": [
    "## Loading"
   ]
  },
  {
   "cell_type": "code",
   "execution_count": 25,
   "id": "df4dc8b5-2dd5-42c1-8799-c3d9ee07ca2e",
   "metadata": {
    "jupyter": {
     "source_hidden": true
    }
   },
   "outputs": [
    {
     "data": {
      "text/html": [
       "<style>pre { line-height: 125%; }\n",
       "td.linenos .normal { color: inherit; background-color: transparent; padding-left: 5px; padding-right: 5px; }\n",
       "span.linenos { color: inherit; background-color: transparent; padding-left: 5px; padding-right: 5px; }\n",
       "td.linenos .special { color: #000000; background-color: #ffffc0; padding-left: 5px; padding-right: 5px; }\n",
       "span.linenos.special { color: #000000; background-color: #ffffc0; padding-left: 5px; padding-right: 5px; }\n",
       ".output_html .hll { background-color: #ffffcc }\n",
       ".output_html { background: #f8f8f8; }\n",
       ".output_html .c { color: #3D7B7B; font-style: italic } /* Comment */\n",
       ".output_html .err { border: 1px solid #FF0000 } /* Error */\n",
       ".output_html .k { color: #008000; font-weight: bold } /* Keyword */\n",
       ".output_html .o { color: #666666 } /* Operator */\n",
       ".output_html .ch { color: #3D7B7B; font-style: italic } /* Comment.Hashbang */\n",
       ".output_html .cm { color: #3D7B7B; font-style: italic } /* Comment.Multiline */\n",
       ".output_html .cp { color: #9C6500 } /* Comment.Preproc */\n",
       ".output_html .cpf { color: #3D7B7B; font-style: italic } /* Comment.PreprocFile */\n",
       ".output_html .c1 { color: #3D7B7B; font-style: italic } /* Comment.Single */\n",
       ".output_html .cs { color: #3D7B7B; font-style: italic } /* Comment.Special */\n",
       ".output_html .gd { color: #A00000 } /* Generic.Deleted */\n",
       ".output_html .ge { font-style: italic } /* Generic.Emph */\n",
       ".output_html .gr { color: #E40000 } /* Generic.Error */\n",
       ".output_html .gh { color: #000080; font-weight: bold } /* Generic.Heading */\n",
       ".output_html .gi { color: #008400 } /* Generic.Inserted */\n",
       ".output_html .go { color: #717171 } /* Generic.Output */\n",
       ".output_html .gp { color: #000080; font-weight: bold } /* Generic.Prompt */\n",
       ".output_html .gs { font-weight: bold } /* Generic.Strong */\n",
       ".output_html .gu { color: #800080; font-weight: bold } /* Generic.Subheading */\n",
       ".output_html .gt { color: #0044DD } /* Generic.Traceback */\n",
       ".output_html .kc { color: #008000; font-weight: bold } /* Keyword.Constant */\n",
       ".output_html .kd { color: #008000; font-weight: bold } /* Keyword.Declaration */\n",
       ".output_html .kn { color: #008000; font-weight: bold } /* Keyword.Namespace */\n",
       ".output_html .kp { color: #008000 } /* Keyword.Pseudo */\n",
       ".output_html .kr { color: #008000; font-weight: bold } /* Keyword.Reserved */\n",
       ".output_html .kt { color: #B00040 } /* Keyword.Type */\n",
       ".output_html .m { color: #666666 } /* Literal.Number */\n",
       ".output_html .s { color: #BA2121 } /* Literal.String */\n",
       ".output_html .na { color: #687822 } /* Name.Attribute */\n",
       ".output_html .nb { color: #008000 } /* Name.Builtin */\n",
       ".output_html .nc { color: #0000FF; font-weight: bold } /* Name.Class */\n",
       ".output_html .no { color: #880000 } /* Name.Constant */\n",
       ".output_html .nd { color: #AA22FF } /* Name.Decorator */\n",
       ".output_html .ni { color: #717171; font-weight: bold } /* Name.Entity */\n",
       ".output_html .ne { color: #CB3F38; font-weight: bold } /* Name.Exception */\n",
       ".output_html .nf { color: #0000FF } /* Name.Function */\n",
       ".output_html .nl { color: #767600 } /* Name.Label */\n",
       ".output_html .nn { color: #0000FF; font-weight: bold } /* Name.Namespace */\n",
       ".output_html .nt { color: #008000; font-weight: bold } /* Name.Tag */\n",
       ".output_html .nv { color: #19177C } /* Name.Variable */\n",
       ".output_html .ow { color: #AA22FF; font-weight: bold } /* Operator.Word */\n",
       ".output_html .w { color: #bbbbbb } /* Text.Whitespace */\n",
       ".output_html .mb { color: #666666 } /* Literal.Number.Bin */\n",
       ".output_html .mf { color: #666666 } /* Literal.Number.Float */\n",
       ".output_html .mh { color: #666666 } /* Literal.Number.Hex */\n",
       ".output_html .mi { color: #666666 } /* Literal.Number.Integer */\n",
       ".output_html .mo { color: #666666 } /* Literal.Number.Oct */\n",
       ".output_html .sa { color: #BA2121 } /* Literal.String.Affix */\n",
       ".output_html .sb { color: #BA2121 } /* Literal.String.Backtick */\n",
       ".output_html .sc { color: #BA2121 } /* Literal.String.Char */\n",
       ".output_html .dl { color: #BA2121 } /* Literal.String.Delimiter */\n",
       ".output_html .sd { color: #BA2121; font-style: italic } /* Literal.String.Doc */\n",
       ".output_html .s2 { color: #BA2121 } /* Literal.String.Double */\n",
       ".output_html .se { color: #AA5D1F; font-weight: bold } /* Literal.String.Escape */\n",
       ".output_html .sh { color: #BA2121 } /* Literal.String.Heredoc */\n",
       ".output_html .si { color: #A45A77; font-weight: bold } /* Literal.String.Interpol */\n",
       ".output_html .sx { color: #008000 } /* Literal.String.Other */\n",
       ".output_html .sr { color: #A45A77 } /* Literal.String.Regex */\n",
       ".output_html .s1 { color: #BA2121 } /* Literal.String.Single */\n",
       ".output_html .ss { color: #19177C } /* Literal.String.Symbol */\n",
       ".output_html .bp { color: #008000 } /* Name.Builtin.Pseudo */\n",
       ".output_html .fm { color: #0000FF } /* Name.Function.Magic */\n",
       ".output_html .vc { color: #19177C } /* Name.Variable.Class */\n",
       ".output_html .vg { color: #19177C } /* Name.Variable.Global */\n",
       ".output_html .vi { color: #19177C } /* Name.Variable.Instance */\n",
       ".output_html .vm { color: #19177C } /* Name.Variable.Magic */\n",
       ".output_html .il { color: #666666 } /* Literal.Number.Integer.Long */</style><div class=\"highlight\"><pre><span></span><span class=\"c1\">:auto  // only needed when using Neo4j Browser</span>\n",
       "<span class=\"c1\">CALL apoc.load.json(&#39;https://github.com/V-O-A/Open-textbooks-graph-database/raw/master/Data/OTL_textbooks_v0.json&#39;) YIELD value</span>\n",
       "<span class=\"k\">UNWIND</span><span class=\"w\"> </span><span class=\"n\">keys</span><span class=\"p\">(</span><span class=\"n\">value</span><span class=\"p\">)</span><span class=\"w\"> </span><span class=\"k\">as</span><span class=\"w\"> </span><span class=\"n\">k</span>\n",
       "<span class=\"k\">CALL</span><span class=\"w\"> </span><span class=\"p\">{</span>\n",
       "<span class=\"w\">    </span><span class=\"k\">WITH</span><span class=\"w\"> </span><span class=\"n\">k</span><span class=\"p\">,</span><span class=\"w\"> </span><span class=\"n\">value</span>\n",
       "<span class=\"w\">    </span><span class=\"k\">MERGE</span><span class=\"w\"> </span><span class=\"p\">(</span><span class=\"n\">nb</span><span class=\"p\">:</span><span class=\"n\">Book</span><span class=\"w\"> </span><span class=\"p\">{</span><span class=\"n\">id</span><span class=\"p\">:</span><span class=\"w\"> </span><span class=\"n\">k</span><span class=\"p\">})</span>\n",
       "<span class=\"w\">    </span><span class=\"k\">SET</span><span class=\"w\"> </span><span class=\"n\">nb</span><span class=\"w\"> </span><span class=\"err\">+</span><span class=\"p\">=</span><span class=\"w\"> </span><span class=\"p\">{</span><span class=\"n\">title</span><span class=\"p\">:</span><span class=\"w\"> </span><span class=\"n\">value</span><span class=\"o\">[</span><span class=\"n\">k</span><span class=\"o\">]</span><span class=\"p\">.</span><span class=\"n\">title</span><span class=\"p\">,</span><span class=\"w\"> </span><span class=\"n\">edition_statement</span><span class=\"p\">:</span><span class=\"w\"> </span><span class=\"n\">value</span><span class=\"o\">[</span><span class=\"n\">k</span><span class=\"o\">]</span><span class=\"p\">.</span><span class=\"n\">edition_statement</span><span class=\"p\">,</span><span class=\"w\"> </span><span class=\"n\">volume</span><span class=\"p\">:</span><span class=\"w\"> </span><span class=\"n\">value</span><span class=\"o\">[</span><span class=\"n\">k</span><span class=\"o\">]</span><span class=\"p\">.</span><span class=\"n\">volume</span><span class=\"p\">,</span><span class=\"w\"> </span><span class=\"n\">copyright_year</span><span class=\"p\">:</span><span class=\"w\"> </span><span class=\"n\">toInteger</span><span class=\"p\">(</span><span class=\"n\">value</span><span class=\"o\">[</span><span class=\"n\">k</span><span class=\"o\">]</span><span class=\"p\">.</span><span class=\"n\">copyright_year</span><span class=\"p\">),</span><span class=\"w\"> </span><span class=\"n\">ISBN10</span><span class=\"p\">:</span><span class=\"w\"> </span><span class=\"n\">value</span><span class=\"o\">[</span><span class=\"n\">k</span><span class=\"o\">]</span><span class=\"p\">.</span><span class=\"n\">ISBN10</span><span class=\"p\">,</span><span class=\"w\"> </span><span class=\"n\">ISBN13</span><span class=\"p\">:</span><span class=\"w\"> </span><span class=\"n\">value</span><span class=\"o\">[</span><span class=\"n\">k</span><span class=\"o\">]</span><span class=\"p\">.</span><span class=\"n\">ISBN13</span><span class=\"p\">,</span><span class=\"w\"> </span><span class=\"n\">description</span><span class=\"p\">:</span><span class=\"w\"> </span><span class=\"n\">value</span><span class=\"o\">[</span><span class=\"n\">k</span><span class=\"o\">]</span><span class=\"p\">.</span><span class=\"n\">description</span><span class=\"p\">,</span><span class=\"w\"> </span><span class=\"n\">rating</span><span class=\"p\">:</span><span class=\"w\"> </span><span class=\"n\">value</span><span class=\"o\">[</span><span class=\"n\">k</span><span class=\"o\">]</span><span class=\"p\">.</span><span class=\"n\">rating</span><span class=\"p\">,</span><span class=\"w\"> </span><span class=\"n\">url</span><span class=\"p\">:</span><span class=\"w\"> </span><span class=\"n\">value</span><span class=\"o\">[</span><span class=\"n\">k</span><span class=\"o\">]</span><span class=\"p\">.</span><span class=\"n\">url</span><span class=\"p\">}</span>\n",
       "<span class=\"w\">    </span><span class=\"k\">MERGE</span><span class=\"w\"> </span><span class=\"p\">(</span><span class=\"n\">lang</span><span class=\"p\">:</span><span class=\"n\">Language</span><span class=\"w\"> </span><span class=\"p\">{</span><span class=\"n\">name</span><span class=\"p\">:</span><span class=\"w\"> </span><span class=\"n\">value</span><span class=\"o\">[</span><span class=\"n\">k</span><span class=\"o\">]</span><span class=\"p\">.</span><span class=\"n\">language</span><span class=\"p\">})</span>\n",
       "<span class=\"w\">    </span><span class=\"k\">MERGE</span><span class=\"w\"> </span><span class=\"p\">(</span><span class=\"n\">nb</span><span class=\"p\">)</span><span class=\"o\">-[</span><span class=\"p\">:</span><span class=\"n\">AVALIABLE_IN</span><span class=\"o\">]-&gt;</span><span class=\"p\">(</span><span class=\"n\">lang</span><span class=\"p\">)</span>\n",
       "<span class=\"w\">    </span><span class=\"k\">MERGE</span><span class=\"w\"> </span><span class=\"p\">(</span><span class=\"n\">lcs</span><span class=\"p\">:</span><span class=\"n\">License</span><span class=\"w\"> </span><span class=\"p\">{</span><span class=\"n\">name</span><span class=\"p\">:</span><span class=\"w\"> </span><span class=\"n\">value</span><span class=\"o\">[</span><span class=\"n\">k</span><span class=\"o\">]</span><span class=\"p\">.</span><span class=\"n\">license</span><span class=\"p\">})</span>\n",
       "<span class=\"w\">    </span><span class=\"k\">MERGE</span><span class=\"w\"> </span><span class=\"p\">(</span><span class=\"n\">nb</span><span class=\"p\">)</span><span class=\"o\">-[</span><span class=\"p\">:</span><span class=\"n\">HAS_LICENSE</span><span class=\"o\">]-&gt;</span><span class=\"p\">(</span><span class=\"n\">lcs</span><span class=\"p\">)</span>\n",
       "<span class=\"w\">    </span><span class=\"k\">FOREACH</span><span class=\"w\"> </span><span class=\"p\">(</span><span class=\"n\">f</span><span class=\"w\"> </span><span class=\"k\">IN</span><span class=\"w\"> </span><span class=\"n\">value</span><span class=\"o\">[</span><span class=\"n\">k</span><span class=\"o\">]</span><span class=\"p\">.</span><span class=\"n\">formats</span><span class=\"w\"> </span><span class=\"p\">|</span>\n",
       "<span class=\"w\">        </span><span class=\"k\">MERGE</span><span class=\"w\"> </span><span class=\"p\">(</span><span class=\"n\">nfm</span><span class=\"p\">:</span><span class=\"n\">Format</span><span class=\"w\"> </span><span class=\"p\">{</span><span class=\"n\">name</span><span class=\"p\">:</span><span class=\"w\"> </span><span class=\"n\">f</span><span class=\"p\">.</span><span class=\"n\">format</span><span class=\"p\">})</span>\n",
       "<span class=\"w\">        </span><span class=\"k\">MERGE</span><span class=\"w\"> </span><span class=\"p\">(</span><span class=\"n\">nfm</span><span class=\"p\">)</span><span class=\"o\">&lt;-[</span><span class=\"p\">:</span><span class=\"n\">HAS_FORMAT</span><span class=\"w\"> </span><span class=\"p\">{</span><span class=\"n\">id</span><span class=\"p\">:</span><span class=\"w\"> </span><span class=\"n\">f</span><span class=\"p\">.</span><span class=\"n\">id</span><span class=\"p\">,</span><span class=\"w\"> </span><span class=\"n\">url</span><span class=\"p\">:</span><span class=\"w\"> </span><span class=\"n\">f</span><span class=\"p\">.</span><span class=\"n\">url</span><span class=\"p\">}</span><span class=\"o\">]-</span><span class=\"p\">(</span><span class=\"n\">nb</span><span class=\"p\">)</span>\n",
       "<span class=\"w\">        </span><span class=\"p\">)</span>\n",
       "<span class=\"w\">    </span><span class=\"k\">FOREACH</span><span class=\"w\"> </span><span class=\"p\">(</span><span class=\"n\">p</span><span class=\"w\"> </span><span class=\"k\">IN</span><span class=\"w\"> </span><span class=\"n\">value</span><span class=\"o\">[</span><span class=\"n\">k</span><span class=\"o\">]</span><span class=\"p\">.</span><span class=\"n\">publishers</span><span class=\"w\"> </span><span class=\"p\">|</span>\n",
       "<span class=\"w\">        </span><span class=\"k\">MERGE</span><span class=\"w\"> </span><span class=\"p\">(</span><span class=\"n\">npub</span><span class=\"p\">:</span><span class=\"n\">Publisher</span><span class=\"w\"> </span><span class=\"p\">{</span><span class=\"n\">name</span><span class=\"p\">:</span><span class=\"w\"> </span><span class=\"n\">p</span><span class=\"p\">.</span><span class=\"n\">name</span><span class=\"p\">})</span>\n",
       "<span class=\"w\">        </span><span class=\"k\">MERGE</span><span class=\"w\"> </span><span class=\"p\">(</span><span class=\"n\">npub</span><span class=\"p\">)</span><span class=\"o\">-[</span><span class=\"n\">rpub</span><span class=\"p\">:</span><span class=\"n\">PUBLISHED</span><span class=\"w\"> </span><span class=\"p\">{</span><span class=\"n\">id</span><span class=\"p\">:</span><span class=\"w\"> </span><span class=\"n\">p</span><span class=\"p\">.</span><span class=\"n\">id</span><span class=\"p\">}</span><span class=\"o\">]-&gt;</span><span class=\"p\">(</span><span class=\"n\">nb</span><span class=\"p\">)</span>\n",
       "<span class=\"w\">        </span><span class=\"k\">SET</span><span class=\"w\"> </span><span class=\"n\">rpub</span><span class=\"w\"> </span><span class=\"err\">+</span><span class=\"p\">=</span><span class=\"w\"> </span><span class=\"p\">{</span><span class=\"n\">year</span><span class=\"p\">:</span><span class=\"w\"> </span><span class=\"n\">p</span><span class=\"p\">.</span><span class=\"n\">year</span><span class=\"p\">,</span><span class=\"w\"> </span><span class=\"n\">url</span><span class=\"p\">:</span><span class=\"w\"> </span><span class=\"n\">p</span><span class=\"p\">.</span><span class=\"n\">url</span><span class=\"p\">}</span>\n",
       "<span class=\"w\">    </span><span class=\"p\">)</span>\n",
       "<span class=\"w\">    </span><span class=\"k\">FOREACH</span><span class=\"w\"> </span><span class=\"p\">(</span><span class=\"n\">s</span><span class=\"w\"> </span><span class=\"k\">IN</span><span class=\"w\"> </span><span class=\"n\">value</span><span class=\"o\">[</span><span class=\"n\">k</span><span class=\"o\">]</span><span class=\"p\">.</span><span class=\"n\">subjects</span><span class=\"w\"> </span><span class=\"p\">|</span>\n",
       "<span class=\"w\">        </span><span class=\"k\">MERGE</span><span class=\"w\"> </span><span class=\"p\">(</span><span class=\"n\">nsub</span><span class=\"p\">:</span><span class=\"n\">Subject</span><span class=\"w\"> </span><span class=\"p\">{</span><span class=\"n\">id</span><span class=\"p\">:</span><span class=\"w\"> </span><span class=\"n\">s</span><span class=\"p\">.</span><span class=\"n\">id</span><span class=\"p\">})</span>\n",
       "<span class=\"w\">        </span><span class=\"k\">SET</span><span class=\"w\"> </span><span class=\"n\">nsub</span><span class=\"w\"> </span><span class=\"err\">+</span><span class=\"p\">=</span><span class=\"w\"> </span><span class=\"p\">{</span><span class=\"n\">name</span><span class=\"p\">:</span><span class=\"w\"> </span><span class=\"n\">s</span><span class=\"p\">.</span><span class=\"n\">name</span><span class=\"p\">,</span><span class=\"w\"> </span><span class=\"n\">url</span><span class=\"p\">:</span><span class=\"w\"> </span><span class=\"n\">s</span><span class=\"p\">.</span><span class=\"n\">url</span><span class=\"p\">,</span><span class=\"w\"> </span><span class=\"n\">parent_id</span><span class=\"p\">:</span><span class=\"w\"> </span><span class=\"n\">s</span><span class=\"p\">.</span><span class=\"n\">parent_subject_id</span><span class=\"p\">}</span>\n",
       "<span class=\"w\">        </span><span class=\"k\">MERGE</span><span class=\"w\"> </span><span class=\"p\">(</span><span class=\"n\">nb</span><span class=\"p\">)</span><span class=\"o\">-[</span><span class=\"p\">:</span><span class=\"n\">HAS_SUBJECT</span><span class=\"o\">]-&gt;</span><span class=\"p\">(</span><span class=\"n\">nsub</span><span class=\"p\">)</span>\n",
       "<span class=\"w\">        </span><span class=\"p\">)</span>\n",
       "<span class=\"w\">    </span><span class=\"k\">FOREACH</span><span class=\"w\"> </span><span class=\"p\">(</span><span class=\"n\">c</span><span class=\"w\"> </span><span class=\"k\">IN</span><span class=\"w\"> </span><span class=\"n\">value</span><span class=\"o\">[</span><span class=\"n\">k</span><span class=\"o\">]</span><span class=\"p\">.</span><span class=\"n\">contributors</span><span class=\"w\"> </span><span class=\"p\">|</span>\n",
       "<span class=\"w\">        </span><span class=\"k\">MERGE</span><span class=\"w\"> </span><span class=\"p\">(</span><span class=\"n\">ncont</span><span class=\"p\">:</span><span class=\"n\">Contributor</span><span class=\"w\"> </span><span class=\"p\">{</span><span class=\"n\">id</span><span class=\"p\">:</span><span class=\"w\"> </span><span class=\"n\">c</span><span class=\"p\">.</span><span class=\"n\">id</span><span class=\"p\">})</span>\n",
       "<span class=\"w\">        </span><span class=\"k\">SET</span><span class=\"w\"> </span><span class=\"n\">ncont</span><span class=\"w\"> </span><span class=\"err\">+</span><span class=\"p\">=</span><span class=\"w\"> </span><span class=\"p\">{</span><span class=\"n\">title</span><span class=\"p\">:</span><span class=\"w\"> </span><span class=\"n\">c</span><span class=\"p\">.</span><span class=\"n\">title</span><span class=\"p\">,</span><span class=\"w\"> </span><span class=\"n\">first_name</span><span class=\"p\">:</span><span class=\"w\"> </span><span class=\"n\">c</span><span class=\"p\">.</span><span class=\"n\">first_name</span><span class=\"p\">,</span><span class=\"w\"> </span><span class=\"n\">middle_name</span><span class=\"p\">:</span><span class=\"w\"> </span><span class=\"n\">c</span><span class=\"p\">.</span><span class=\"n\">middle_name</span><span class=\"p\">,</span><span class=\"w\"> </span><span class=\"n\">last_name</span><span class=\"p\">:</span><span class=\"w\"> </span><span class=\"n\">c</span><span class=\"p\">.</span><span class=\"n\">last_name</span><span class=\"p\">,</span><span class=\"w\"> </span><span class=\"n\">background</span><span class=\"p\">:</span><span class=\"w\"> </span><span class=\"n\">c</span><span class=\"p\">.</span><span class=\"n\">background_text</span><span class=\"p\">,</span><span class=\"w\"> </span><span class=\"n\">contribution</span><span class=\"p\">:</span><span class=\"w\"> </span><span class=\"n\">c</span><span class=\"p\">.</span><span class=\"n\">contribution</span><span class=\"p\">,</span><span class=\"w\"> </span><span class=\"n\">primary</span><span class=\"p\">:</span><span class=\"w\"> </span><span class=\"n\">c</span><span class=\"p\">.</span><span class=\"n\">primary</span><span class=\"p\">,</span><span class=\"w\"> </span><span class=\"n\">corporate</span><span class=\"p\">:</span><span class=\"w\"> </span><span class=\"n\">c</span><span class=\"p\">.</span><span class=\"n\">corporate</span><span class=\"p\">,</span><span class=\"w\"> </span><span class=\"n\">location</span><span class=\"p\">:</span><span class=\"w\"> </span><span class=\"n\">c</span><span class=\"p\">.</span><span class=\"n\">location</span><span class=\"p\">}</span>\n",
       "<span class=\"w\">        </span><span class=\"k\">MERGE</span><span class=\"w\"> </span><span class=\"p\">(</span><span class=\"n\">ncont</span><span class=\"p\">)</span><span class=\"o\">-[</span><span class=\"p\">:</span><span class=\"n\">CONTRIBUTED</span><span class=\"o\">]-&gt;</span><span class=\"p\">(</span><span class=\"n\">nb</span><span class=\"p\">)</span>\n",
       "<span class=\"w\">        </span><span class=\"p\">)</span>\n",
       "<span class=\"w\">    </span><span class=\"k\">FOREACH</span><span class=\"w\"> </span><span class=\"p\">(</span><span class=\"n\">r</span><span class=\"w\"> </span><span class=\"k\">IN</span><span class=\"w\"> </span><span class=\"n\">value</span><span class=\"o\">[</span><span class=\"n\">k</span><span class=\"o\">]</span><span class=\"p\">.</span><span class=\"n\">reviews</span><span class=\"w\"> </span><span class=\"p\">|</span>\n",
       "<span class=\"w\">        </span><span class=\"k\">MERGE</span><span class=\"w\"> </span><span class=\"p\">(</span><span class=\"n\">nrev</span><span class=\"p\">:</span><span class=\"n\">Review</span><span class=\"w\"> </span><span class=\"p\">{</span><span class=\"n\">id</span><span class=\"p\">:</span><span class=\"w\"> </span><span class=\"n\">r</span><span class=\"p\">.</span><span class=\"n\">id</span><span class=\"p\">})</span>\n",
       "<span class=\"w\">        </span><span class=\"k\">SET</span><span class=\"w\"> </span><span class=\"n\">nrev</span><span class=\"w\"> </span><span class=\"err\">+</span><span class=\"p\">=</span><span class=\"w\"> </span><span class=\"p\">{</span><span class=\"n\">first_name</span><span class=\"p\">:</span><span class=\"w\"> </span><span class=\"n\">r</span><span class=\"p\">.</span><span class=\"n\">first_name</span><span class=\"p\">,</span><span class=\"w\"> </span><span class=\"n\">last_name</span><span class=\"p\">:</span><span class=\"w\"> </span><span class=\"n\">r</span><span class=\"p\">.</span><span class=\"n\">last_name</span><span class=\"p\">,</span><span class=\"w\"> </span><span class=\"n\">position</span><span class=\"p\">:</span><span class=\"w\"> </span><span class=\"n\">r</span><span class=\"p\">.</span><span class=\"n\">position</span><span class=\"p\">,</span>\n",
       "<span class=\"w\">        </span><span class=\"n\">comprehensiveness_rating</span><span class=\"p\">:</span><span class=\"w\"> </span><span class=\"n\">r</span><span class=\"p\">.</span><span class=\"n\">comprehensiveness_rating</span><span class=\"p\">,</span><span class=\"w\"> </span><span class=\"n\">comprehensiveness_review</span><span class=\"p\">:</span><span class=\"w\"> </span><span class=\"n\">r</span><span class=\"p\">.</span><span class=\"n\">comprehensiveness_review</span><span class=\"p\">,</span>\n",
       "<span class=\"w\">        </span><span class=\"n\">accuracy_rating</span><span class=\"p\">:</span><span class=\"w\"> </span><span class=\"n\">r</span><span class=\"p\">.</span><span class=\"n\">accuracy_rating</span><span class=\"p\">,</span><span class=\"w\"> </span><span class=\"n\">accuracy_review</span><span class=\"p\">:</span><span class=\"w\"> </span><span class=\"n\">r</span><span class=\"p\">.</span><span class=\"n\">accuracy_review</span><span class=\"p\">,</span>\n",
       "<span class=\"w\">        </span><span class=\"n\">relevance_rating</span><span class=\"p\">:</span><span class=\"w\"> </span><span class=\"n\">r</span><span class=\"p\">.</span><span class=\"n\">relevance_rating</span><span class=\"p\">,</span><span class=\"w\"> </span><span class=\"n\">relevance_review</span><span class=\"p\">:</span><span class=\"w\"> </span><span class=\"n\">r</span><span class=\"p\">.</span><span class=\"n\">relevance_review</span><span class=\"p\">,</span>\n",
       "<span class=\"w\">        </span><span class=\"n\">clarity_rating</span><span class=\"p\">:</span><span class=\"w\"> </span><span class=\"n\">r</span><span class=\"p\">.</span><span class=\"n\">clarity_rating</span><span class=\"p\">,</span><span class=\"w\"> </span><span class=\"n\">clarity_review</span><span class=\"p\">:</span><span class=\"w\"> </span><span class=\"n\">r</span><span class=\"p\">.</span><span class=\"n\">clarity_review</span><span class=\"p\">,</span>\n",
       "<span class=\"w\">        </span><span class=\"n\">consistency_rating</span><span class=\"p\">:</span><span class=\"w\"> </span><span class=\"n\">r</span><span class=\"p\">.</span><span class=\"n\">consistency_rating</span><span class=\"p\">,</span><span class=\"w\"> </span><span class=\"n\">consistency_review</span><span class=\"p\">:</span><span class=\"w\"> </span><span class=\"n\">r</span><span class=\"p\">.</span><span class=\"n\">consistency_review</span><span class=\"p\">,</span>\n",
       "<span class=\"w\">        </span><span class=\"n\">modularity_rating</span><span class=\"p\">:</span><span class=\"w\"> </span><span class=\"n\">r</span><span class=\"p\">.</span><span class=\"n\">modularity_rating</span><span class=\"p\">,</span><span class=\"w\"> </span><span class=\"n\">modularity_review</span><span class=\"p\">:</span><span class=\"w\"> </span><span class=\"n\">r</span><span class=\"p\">.</span><span class=\"n\">modularity_review</span><span class=\"p\">,</span>\n",
       "<span class=\"w\">        </span><span class=\"n\">organization_rating</span><span class=\"p\">:</span><span class=\"w\"> </span><span class=\"n\">r</span><span class=\"p\">.</span><span class=\"n\">organization_rating</span><span class=\"p\">,</span><span class=\"w\"> </span><span class=\"n\">organization_review</span><span class=\"p\">:</span><span class=\"w\"> </span><span class=\"n\">r</span><span class=\"p\">.</span><span class=\"n\">organization_review</span><span class=\"p\">,</span>\n",
       "<span class=\"w\">        </span><span class=\"n\">interface_rating</span><span class=\"p\">:</span><span class=\"w\"> </span><span class=\"n\">r</span><span class=\"p\">.</span><span class=\"n\">interface_rating</span><span class=\"p\">,</span><span class=\"w\"> </span><span class=\"n\">interface_review</span><span class=\"p\">:</span><span class=\"w\"> </span><span class=\"n\">r</span><span class=\"p\">.</span><span class=\"n\">interface_review</span><span class=\"p\">,</span>\n",
       "<span class=\"w\">        </span><span class=\"n\">grammatical_rating</span><span class=\"p\">:</span><span class=\"w\"> </span><span class=\"n\">r</span><span class=\"p\">.</span><span class=\"n\">grammatical_rating</span><span class=\"p\">,</span><span class=\"w\"> </span><span class=\"n\">grammatical_review</span><span class=\"p\">:</span><span class=\"w\"> </span><span class=\"n\">r</span><span class=\"p\">.</span><span class=\"n\">grammatical_review</span><span class=\"p\">,</span>\n",
       "<span class=\"w\">        </span><span class=\"n\">cultural_rating</span><span class=\"p\">:</span><span class=\"w\"> </span><span class=\"n\">r</span><span class=\"p\">.</span><span class=\"n\">cultural_rating</span><span class=\"p\">,</span><span class=\"w\"> </span><span class=\"n\">cultural_review</span><span class=\"p\">:</span><span class=\"w\"> </span><span class=\"n\">r</span><span class=\"p\">.</span><span class=\"n\">cultural_review</span><span class=\"p\">,</span>\n",
       "<span class=\"w\">        </span><span class=\"n\">overall_rating</span><span class=\"p\">:</span><span class=\"w\"> </span><span class=\"n\">r</span><span class=\"p\">.</span><span class=\"n\">overall_rating</span><span class=\"p\">,</span><span class=\"w\"> </span><span class=\"n\">overall_review</span><span class=\"p\">:</span><span class=\"w\"> </span><span class=\"n\">r</span><span class=\"p\">.</span><span class=\"n\">overall_review</span><span class=\"p\">,</span>\n",
       "<span class=\"w\">        </span><span class=\"n\">created_at</span><span class=\"p\">:</span><span class=\"w\"> </span><span class=\"n\">r</span><span class=\"p\">.</span><span class=\"n\">created_at</span><span class=\"p\">,</span><span class=\"w\"> </span><span class=\"n\">updated_at</span><span class=\"p\">:</span><span class=\"w\"> </span><span class=\"n\">r</span><span class=\"p\">.</span><span class=\"n\">updated_at</span><span class=\"p\">}</span>\n",
       "<span class=\"w\">        </span><span class=\"k\">MERGE</span><span class=\"w\"> </span><span class=\"p\">(</span><span class=\"n\">inst</span><span class=\"p\">:</span><span class=\"n\">Institution</span><span class=\"w\"> </span><span class=\"p\">{</span><span class=\"n\">name</span><span class=\"p\">:</span><span class=\"w\"> </span><span class=\"n\">r</span><span class=\"p\">.</span><span class=\"n\">institution_name</span><span class=\"p\">})</span>\n",
       "<span class=\"w\">        </span><span class=\"k\">MERGE</span><span class=\"w\"> </span><span class=\"p\">(</span><span class=\"n\">nrev</span><span class=\"p\">)</span><span class=\"o\">-[</span><span class=\"p\">:</span><span class=\"n\">IN_INSTITUTTION</span><span class=\"o\">]-&gt;</span><span class=\"p\">(</span><span class=\"n\">inst</span><span class=\"p\">)</span>\n",
       "<span class=\"w\">        </span><span class=\"k\">MERGE</span><span class=\"w\"> </span><span class=\"p\">(</span><span class=\"n\">nb</span><span class=\"p\">)</span><span class=\"o\">-[</span><span class=\"p\">:</span><span class=\"n\">HAS_REVIEW</span><span class=\"o\">]-&gt;</span><span class=\"p\">(</span><span class=\"n\">nrev</span><span class=\"p\">)</span>\n",
       "<span class=\"w\">        </span><span class=\"p\">)</span>\n",
       "<span class=\"p\">}</span><span class=\"w\"> </span><span class=\"k\">IN</span><span class=\"w\"> </span><span class=\"n\">TRANSACTIONS</span>\n",
       "<span class=\"w\">    </span><span class=\"n\">ON</span><span class=\"w\"> </span><span class=\"n\">ERROR</span><span class=\"w\"> </span><span class=\"n\">FAIL</span>\n",
       "</pre></div>\n"
      ],
      "text/latex": [
       "\\begin{Verbatim}[commandchars=\\\\\\{\\}]\n",
       "\\PY{c+c1}{:auto  // only needed when using Neo4j Browser}\n",
       "\\PY{c+c1}{CALL apoc.load.json(\\PYZsq{}https://github.com/V\\PYZhy{}O\\PYZhy{}A/Open\\PYZhy{}textbooks\\PYZhy{}graph\\PYZhy{}database/raw/master/Data/OTL\\PYZus{}textbooks\\PYZus{}v0.json\\PYZsq{}) YIELD value}\n",
       "\\PY{k}{UNWIND}\\PY{+w}{ }\\PY{n}{keys}\\PY{p}{(}\\PY{n}{value}\\PY{p}{)}\\PY{+w}{ }\\PY{k}{as}\\PY{+w}{ }\\PY{n}{k}\n",
       "\\PY{k}{CALL}\\PY{+w}{ }\\PY{p}{\\PYZob{}}\n",
       "\\PY{+w}{    }\\PY{k}{WITH}\\PY{+w}{ }\\PY{n}{k}\\PY{p}{,}\\PY{+w}{ }\\PY{n}{value}\n",
       "\\PY{+w}{    }\\PY{k}{MERGE}\\PY{+w}{ }\\PY{p}{(}\\PY{n}{nb}\\PY{p}{:}\\PY{n}{Book}\\PY{+w}{ }\\PY{p}{\\PYZob{}}\\PY{n}{id}\\PY{p}{:}\\PY{+w}{ }\\PY{n}{k}\\PY{p}{\\PYZcb{}}\\PY{p}{)}\n",
       "\\PY{+w}{    }\\PY{k}{SET}\\PY{+w}{ }\\PY{n}{nb}\\PY{+w}{ }\\PY{err}{+}\\PY{p}{=}\\PY{+w}{ }\\PY{p}{\\PYZob{}}\\PY{n}{title}\\PY{p}{:}\\PY{+w}{ }\\PY{n}{value}\\PY{o}{[}\\PY{n}{k}\\PY{o}{]}\\PY{p}{.}\\PY{n}{title}\\PY{p}{,}\\PY{+w}{ }\\PY{n}{edition\\PYZus{}statement}\\PY{p}{:}\\PY{+w}{ }\\PY{n}{value}\\PY{o}{[}\\PY{n}{k}\\PY{o}{]}\\PY{p}{.}\\PY{n}{edition\\PYZus{}statement}\\PY{p}{,}\\PY{+w}{ }\\PY{n}{volume}\\PY{p}{:}\\PY{+w}{ }\\PY{n}{value}\\PY{o}{[}\\PY{n}{k}\\PY{o}{]}\\PY{p}{.}\\PY{n}{volume}\\PY{p}{,}\\PY{+w}{ }\\PY{n}{copyright\\PYZus{}year}\\PY{p}{:}\\PY{+w}{ }\\PY{n}{toInteger}\\PY{p}{(}\\PY{n}{value}\\PY{o}{[}\\PY{n}{k}\\PY{o}{]}\\PY{p}{.}\\PY{n}{copyright\\PYZus{}year}\\PY{p}{)}\\PY{p}{,}\\PY{+w}{ }\\PY{n}{ISBN10}\\PY{p}{:}\\PY{+w}{ }\\PY{n}{value}\\PY{o}{[}\\PY{n}{k}\\PY{o}{]}\\PY{p}{.}\\PY{n}{ISBN10}\\PY{p}{,}\\PY{+w}{ }\\PY{n}{ISBN13}\\PY{p}{:}\\PY{+w}{ }\\PY{n}{value}\\PY{o}{[}\\PY{n}{k}\\PY{o}{]}\\PY{p}{.}\\PY{n}{ISBN13}\\PY{p}{,}\\PY{+w}{ }\\PY{n}{description}\\PY{p}{:}\\PY{+w}{ }\\PY{n}{value}\\PY{o}{[}\\PY{n}{k}\\PY{o}{]}\\PY{p}{.}\\PY{n}{description}\\PY{p}{,}\\PY{+w}{ }\\PY{n}{rating}\\PY{p}{:}\\PY{+w}{ }\\PY{n}{value}\\PY{o}{[}\\PY{n}{k}\\PY{o}{]}\\PY{p}{.}\\PY{n}{rating}\\PY{p}{,}\\PY{+w}{ }\\PY{n}{url}\\PY{p}{:}\\PY{+w}{ }\\PY{n}{value}\\PY{o}{[}\\PY{n}{k}\\PY{o}{]}\\PY{p}{.}\\PY{n}{url}\\PY{p}{\\PYZcb{}}\n",
       "\\PY{+w}{    }\\PY{k}{MERGE}\\PY{+w}{ }\\PY{p}{(}\\PY{n}{lang}\\PY{p}{:}\\PY{n}{Language}\\PY{+w}{ }\\PY{p}{\\PYZob{}}\\PY{n}{name}\\PY{p}{:}\\PY{+w}{ }\\PY{n}{value}\\PY{o}{[}\\PY{n}{k}\\PY{o}{]}\\PY{p}{.}\\PY{n}{language}\\PY{p}{\\PYZcb{}}\\PY{p}{)}\n",
       "\\PY{+w}{    }\\PY{k}{MERGE}\\PY{+w}{ }\\PY{p}{(}\\PY{n}{nb}\\PY{p}{)}\\PY{o}{\\PYZhy{}[}\\PY{p}{:}\\PY{n}{AVALIABLE\\PYZus{}IN}\\PY{o}{]\\PYZhy{}\\PYZgt{}}\\PY{p}{(}\\PY{n}{lang}\\PY{p}{)}\n",
       "\\PY{+w}{    }\\PY{k}{MERGE}\\PY{+w}{ }\\PY{p}{(}\\PY{n}{lcs}\\PY{p}{:}\\PY{n}{License}\\PY{+w}{ }\\PY{p}{\\PYZob{}}\\PY{n}{name}\\PY{p}{:}\\PY{+w}{ }\\PY{n}{value}\\PY{o}{[}\\PY{n}{k}\\PY{o}{]}\\PY{p}{.}\\PY{n}{license}\\PY{p}{\\PYZcb{}}\\PY{p}{)}\n",
       "\\PY{+w}{    }\\PY{k}{MERGE}\\PY{+w}{ }\\PY{p}{(}\\PY{n}{nb}\\PY{p}{)}\\PY{o}{\\PYZhy{}[}\\PY{p}{:}\\PY{n}{HAS\\PYZus{}LICENSE}\\PY{o}{]\\PYZhy{}\\PYZgt{}}\\PY{p}{(}\\PY{n}{lcs}\\PY{p}{)}\n",
       "\\PY{+w}{    }\\PY{k}{FOREACH}\\PY{+w}{ }\\PY{p}{(}\\PY{n}{f}\\PY{+w}{ }\\PY{k}{IN}\\PY{+w}{ }\\PY{n}{value}\\PY{o}{[}\\PY{n}{k}\\PY{o}{]}\\PY{p}{.}\\PY{n}{formats}\\PY{+w}{ }\\PY{p}{|}\n",
       "\\PY{+w}{        }\\PY{k}{MERGE}\\PY{+w}{ }\\PY{p}{(}\\PY{n}{nfm}\\PY{p}{:}\\PY{n}{Format}\\PY{+w}{ }\\PY{p}{\\PYZob{}}\\PY{n}{name}\\PY{p}{:}\\PY{+w}{ }\\PY{n}{f}\\PY{p}{.}\\PY{n}{format}\\PY{p}{\\PYZcb{}}\\PY{p}{)}\n",
       "\\PY{+w}{        }\\PY{k}{MERGE}\\PY{+w}{ }\\PY{p}{(}\\PY{n}{nfm}\\PY{p}{)}\\PY{o}{\\PYZlt{}\\PYZhy{}[}\\PY{p}{:}\\PY{n}{HAS\\PYZus{}FORMAT}\\PY{+w}{ }\\PY{p}{\\PYZob{}}\\PY{n}{id}\\PY{p}{:}\\PY{+w}{ }\\PY{n}{f}\\PY{p}{.}\\PY{n}{id}\\PY{p}{,}\\PY{+w}{ }\\PY{n}{url}\\PY{p}{:}\\PY{+w}{ }\\PY{n}{f}\\PY{p}{.}\\PY{n}{url}\\PY{p}{\\PYZcb{}}\\PY{o}{]\\PYZhy{}}\\PY{p}{(}\\PY{n}{nb}\\PY{p}{)}\n",
       "\\PY{+w}{        }\\PY{p}{)}\n",
       "\\PY{+w}{    }\\PY{k}{FOREACH}\\PY{+w}{ }\\PY{p}{(}\\PY{n}{p}\\PY{+w}{ }\\PY{k}{IN}\\PY{+w}{ }\\PY{n}{value}\\PY{o}{[}\\PY{n}{k}\\PY{o}{]}\\PY{p}{.}\\PY{n}{publishers}\\PY{+w}{ }\\PY{p}{|}\n",
       "\\PY{+w}{        }\\PY{k}{MERGE}\\PY{+w}{ }\\PY{p}{(}\\PY{n}{npub}\\PY{p}{:}\\PY{n}{Publisher}\\PY{+w}{ }\\PY{p}{\\PYZob{}}\\PY{n}{name}\\PY{p}{:}\\PY{+w}{ }\\PY{n}{p}\\PY{p}{.}\\PY{n}{name}\\PY{p}{\\PYZcb{}}\\PY{p}{)}\n",
       "\\PY{+w}{        }\\PY{k}{MERGE}\\PY{+w}{ }\\PY{p}{(}\\PY{n}{npub}\\PY{p}{)}\\PY{o}{\\PYZhy{}[}\\PY{n}{rpub}\\PY{p}{:}\\PY{n}{PUBLISHED}\\PY{+w}{ }\\PY{p}{\\PYZob{}}\\PY{n}{id}\\PY{p}{:}\\PY{+w}{ }\\PY{n}{p}\\PY{p}{.}\\PY{n}{id}\\PY{p}{\\PYZcb{}}\\PY{o}{]\\PYZhy{}\\PYZgt{}}\\PY{p}{(}\\PY{n}{nb}\\PY{p}{)}\n",
       "\\PY{+w}{        }\\PY{k}{SET}\\PY{+w}{ }\\PY{n}{rpub}\\PY{+w}{ }\\PY{err}{+}\\PY{p}{=}\\PY{+w}{ }\\PY{p}{\\PYZob{}}\\PY{n}{year}\\PY{p}{:}\\PY{+w}{ }\\PY{n}{p}\\PY{p}{.}\\PY{n}{year}\\PY{p}{,}\\PY{+w}{ }\\PY{n}{url}\\PY{p}{:}\\PY{+w}{ }\\PY{n}{p}\\PY{p}{.}\\PY{n}{url}\\PY{p}{\\PYZcb{}}\n",
       "\\PY{+w}{    }\\PY{p}{)}\n",
       "\\PY{+w}{    }\\PY{k}{FOREACH}\\PY{+w}{ }\\PY{p}{(}\\PY{n}{s}\\PY{+w}{ }\\PY{k}{IN}\\PY{+w}{ }\\PY{n}{value}\\PY{o}{[}\\PY{n}{k}\\PY{o}{]}\\PY{p}{.}\\PY{n}{subjects}\\PY{+w}{ }\\PY{p}{|}\n",
       "\\PY{+w}{        }\\PY{k}{MERGE}\\PY{+w}{ }\\PY{p}{(}\\PY{n}{nsub}\\PY{p}{:}\\PY{n}{Subject}\\PY{+w}{ }\\PY{p}{\\PYZob{}}\\PY{n}{id}\\PY{p}{:}\\PY{+w}{ }\\PY{n}{s}\\PY{p}{.}\\PY{n}{id}\\PY{p}{\\PYZcb{}}\\PY{p}{)}\n",
       "\\PY{+w}{        }\\PY{k}{SET}\\PY{+w}{ }\\PY{n}{nsub}\\PY{+w}{ }\\PY{err}{+}\\PY{p}{=}\\PY{+w}{ }\\PY{p}{\\PYZob{}}\\PY{n}{name}\\PY{p}{:}\\PY{+w}{ }\\PY{n}{s}\\PY{p}{.}\\PY{n}{name}\\PY{p}{,}\\PY{+w}{ }\\PY{n}{url}\\PY{p}{:}\\PY{+w}{ }\\PY{n}{s}\\PY{p}{.}\\PY{n}{url}\\PY{p}{,}\\PY{+w}{ }\\PY{n}{parent\\PYZus{}id}\\PY{p}{:}\\PY{+w}{ }\\PY{n}{s}\\PY{p}{.}\\PY{n}{parent\\PYZus{}subject\\PYZus{}id}\\PY{p}{\\PYZcb{}}\n",
       "\\PY{+w}{        }\\PY{k}{MERGE}\\PY{+w}{ }\\PY{p}{(}\\PY{n}{nb}\\PY{p}{)}\\PY{o}{\\PYZhy{}[}\\PY{p}{:}\\PY{n}{HAS\\PYZus{}SUBJECT}\\PY{o}{]\\PYZhy{}\\PYZgt{}}\\PY{p}{(}\\PY{n}{nsub}\\PY{p}{)}\n",
       "\\PY{+w}{        }\\PY{p}{)}\n",
       "\\PY{+w}{    }\\PY{k}{FOREACH}\\PY{+w}{ }\\PY{p}{(}\\PY{n}{c}\\PY{+w}{ }\\PY{k}{IN}\\PY{+w}{ }\\PY{n}{value}\\PY{o}{[}\\PY{n}{k}\\PY{o}{]}\\PY{p}{.}\\PY{n}{contributors}\\PY{+w}{ }\\PY{p}{|}\n",
       "\\PY{+w}{        }\\PY{k}{MERGE}\\PY{+w}{ }\\PY{p}{(}\\PY{n}{ncont}\\PY{p}{:}\\PY{n}{Contributor}\\PY{+w}{ }\\PY{p}{\\PYZob{}}\\PY{n}{id}\\PY{p}{:}\\PY{+w}{ }\\PY{n}{c}\\PY{p}{.}\\PY{n}{id}\\PY{p}{\\PYZcb{}}\\PY{p}{)}\n",
       "\\PY{+w}{        }\\PY{k}{SET}\\PY{+w}{ }\\PY{n}{ncont}\\PY{+w}{ }\\PY{err}{+}\\PY{p}{=}\\PY{+w}{ }\\PY{p}{\\PYZob{}}\\PY{n}{title}\\PY{p}{:}\\PY{+w}{ }\\PY{n}{c}\\PY{p}{.}\\PY{n}{title}\\PY{p}{,}\\PY{+w}{ }\\PY{n}{first\\PYZus{}name}\\PY{p}{:}\\PY{+w}{ }\\PY{n}{c}\\PY{p}{.}\\PY{n}{first\\PYZus{}name}\\PY{p}{,}\\PY{+w}{ }\\PY{n}{middle\\PYZus{}name}\\PY{p}{:}\\PY{+w}{ }\\PY{n}{c}\\PY{p}{.}\\PY{n}{middle\\PYZus{}name}\\PY{p}{,}\\PY{+w}{ }\\PY{n}{last\\PYZus{}name}\\PY{p}{:}\\PY{+w}{ }\\PY{n}{c}\\PY{p}{.}\\PY{n}{last\\PYZus{}name}\\PY{p}{,}\\PY{+w}{ }\\PY{n}{background}\\PY{p}{:}\\PY{+w}{ }\\PY{n}{c}\\PY{p}{.}\\PY{n}{background\\PYZus{}text}\\PY{p}{,}\\PY{+w}{ }\\PY{n}{contribution}\\PY{p}{:}\\PY{+w}{ }\\PY{n}{c}\\PY{p}{.}\\PY{n}{contribution}\\PY{p}{,}\\PY{+w}{ }\\PY{n}{primary}\\PY{p}{:}\\PY{+w}{ }\\PY{n}{c}\\PY{p}{.}\\PY{n}{primary}\\PY{p}{,}\\PY{+w}{ }\\PY{n}{corporate}\\PY{p}{:}\\PY{+w}{ }\\PY{n}{c}\\PY{p}{.}\\PY{n}{corporate}\\PY{p}{,}\\PY{+w}{ }\\PY{n}{location}\\PY{p}{:}\\PY{+w}{ }\\PY{n}{c}\\PY{p}{.}\\PY{n}{location}\\PY{p}{\\PYZcb{}}\n",
       "\\PY{+w}{        }\\PY{k}{MERGE}\\PY{+w}{ }\\PY{p}{(}\\PY{n}{ncont}\\PY{p}{)}\\PY{o}{\\PYZhy{}[}\\PY{p}{:}\\PY{n}{CONTRIBUTED}\\PY{o}{]\\PYZhy{}\\PYZgt{}}\\PY{p}{(}\\PY{n}{nb}\\PY{p}{)}\n",
       "\\PY{+w}{        }\\PY{p}{)}\n",
       "\\PY{+w}{    }\\PY{k}{FOREACH}\\PY{+w}{ }\\PY{p}{(}\\PY{n}{r}\\PY{+w}{ }\\PY{k}{IN}\\PY{+w}{ }\\PY{n}{value}\\PY{o}{[}\\PY{n}{k}\\PY{o}{]}\\PY{p}{.}\\PY{n}{reviews}\\PY{+w}{ }\\PY{p}{|}\n",
       "\\PY{+w}{        }\\PY{k}{MERGE}\\PY{+w}{ }\\PY{p}{(}\\PY{n}{nrev}\\PY{p}{:}\\PY{n}{Review}\\PY{+w}{ }\\PY{p}{\\PYZob{}}\\PY{n}{id}\\PY{p}{:}\\PY{+w}{ }\\PY{n}{r}\\PY{p}{.}\\PY{n}{id}\\PY{p}{\\PYZcb{}}\\PY{p}{)}\n",
       "\\PY{+w}{        }\\PY{k}{SET}\\PY{+w}{ }\\PY{n}{nrev}\\PY{+w}{ }\\PY{err}{+}\\PY{p}{=}\\PY{+w}{ }\\PY{p}{\\PYZob{}}\\PY{n}{first\\PYZus{}name}\\PY{p}{:}\\PY{+w}{ }\\PY{n}{r}\\PY{p}{.}\\PY{n}{first\\PYZus{}name}\\PY{p}{,}\\PY{+w}{ }\\PY{n}{last\\PYZus{}name}\\PY{p}{:}\\PY{+w}{ }\\PY{n}{r}\\PY{p}{.}\\PY{n}{last\\PYZus{}name}\\PY{p}{,}\\PY{+w}{ }\\PY{n}{position}\\PY{p}{:}\\PY{+w}{ }\\PY{n}{r}\\PY{p}{.}\\PY{n}{position}\\PY{p}{,}\n",
       "\\PY{+w}{        }\\PY{n}{comprehensiveness\\PYZus{}rating}\\PY{p}{:}\\PY{+w}{ }\\PY{n}{r}\\PY{p}{.}\\PY{n}{comprehensiveness\\PYZus{}rating}\\PY{p}{,}\\PY{+w}{ }\\PY{n}{comprehensiveness\\PYZus{}review}\\PY{p}{:}\\PY{+w}{ }\\PY{n}{r}\\PY{p}{.}\\PY{n}{comprehensiveness\\PYZus{}review}\\PY{p}{,}\n",
       "\\PY{+w}{        }\\PY{n}{accuracy\\PYZus{}rating}\\PY{p}{:}\\PY{+w}{ }\\PY{n}{r}\\PY{p}{.}\\PY{n}{accuracy\\PYZus{}rating}\\PY{p}{,}\\PY{+w}{ }\\PY{n}{accuracy\\PYZus{}review}\\PY{p}{:}\\PY{+w}{ }\\PY{n}{r}\\PY{p}{.}\\PY{n}{accuracy\\PYZus{}review}\\PY{p}{,}\n",
       "\\PY{+w}{        }\\PY{n}{relevance\\PYZus{}rating}\\PY{p}{:}\\PY{+w}{ }\\PY{n}{r}\\PY{p}{.}\\PY{n}{relevance\\PYZus{}rating}\\PY{p}{,}\\PY{+w}{ }\\PY{n}{relevance\\PYZus{}review}\\PY{p}{:}\\PY{+w}{ }\\PY{n}{r}\\PY{p}{.}\\PY{n}{relevance\\PYZus{}review}\\PY{p}{,}\n",
       "\\PY{+w}{        }\\PY{n}{clarity\\PYZus{}rating}\\PY{p}{:}\\PY{+w}{ }\\PY{n}{r}\\PY{p}{.}\\PY{n}{clarity\\PYZus{}rating}\\PY{p}{,}\\PY{+w}{ }\\PY{n}{clarity\\PYZus{}review}\\PY{p}{:}\\PY{+w}{ }\\PY{n}{r}\\PY{p}{.}\\PY{n}{clarity\\PYZus{}review}\\PY{p}{,}\n",
       "\\PY{+w}{        }\\PY{n}{consistency\\PYZus{}rating}\\PY{p}{:}\\PY{+w}{ }\\PY{n}{r}\\PY{p}{.}\\PY{n}{consistency\\PYZus{}rating}\\PY{p}{,}\\PY{+w}{ }\\PY{n}{consistency\\PYZus{}review}\\PY{p}{:}\\PY{+w}{ }\\PY{n}{r}\\PY{p}{.}\\PY{n}{consistency\\PYZus{}review}\\PY{p}{,}\n",
       "\\PY{+w}{        }\\PY{n}{modularity\\PYZus{}rating}\\PY{p}{:}\\PY{+w}{ }\\PY{n}{r}\\PY{p}{.}\\PY{n}{modularity\\PYZus{}rating}\\PY{p}{,}\\PY{+w}{ }\\PY{n}{modularity\\PYZus{}review}\\PY{p}{:}\\PY{+w}{ }\\PY{n}{r}\\PY{p}{.}\\PY{n}{modularity\\PYZus{}review}\\PY{p}{,}\n",
       "\\PY{+w}{        }\\PY{n}{organization\\PYZus{}rating}\\PY{p}{:}\\PY{+w}{ }\\PY{n}{r}\\PY{p}{.}\\PY{n}{organization\\PYZus{}rating}\\PY{p}{,}\\PY{+w}{ }\\PY{n}{organization\\PYZus{}review}\\PY{p}{:}\\PY{+w}{ }\\PY{n}{r}\\PY{p}{.}\\PY{n}{organization\\PYZus{}review}\\PY{p}{,}\n",
       "\\PY{+w}{        }\\PY{n}{interface\\PYZus{}rating}\\PY{p}{:}\\PY{+w}{ }\\PY{n}{r}\\PY{p}{.}\\PY{n}{interface\\PYZus{}rating}\\PY{p}{,}\\PY{+w}{ }\\PY{n}{interface\\PYZus{}review}\\PY{p}{:}\\PY{+w}{ }\\PY{n}{r}\\PY{p}{.}\\PY{n}{interface\\PYZus{}review}\\PY{p}{,}\n",
       "\\PY{+w}{        }\\PY{n}{grammatical\\PYZus{}rating}\\PY{p}{:}\\PY{+w}{ }\\PY{n}{r}\\PY{p}{.}\\PY{n}{grammatical\\PYZus{}rating}\\PY{p}{,}\\PY{+w}{ }\\PY{n}{grammatical\\PYZus{}review}\\PY{p}{:}\\PY{+w}{ }\\PY{n}{r}\\PY{p}{.}\\PY{n}{grammatical\\PYZus{}review}\\PY{p}{,}\n",
       "\\PY{+w}{        }\\PY{n}{cultural\\PYZus{}rating}\\PY{p}{:}\\PY{+w}{ }\\PY{n}{r}\\PY{p}{.}\\PY{n}{cultural\\PYZus{}rating}\\PY{p}{,}\\PY{+w}{ }\\PY{n}{cultural\\PYZus{}review}\\PY{p}{:}\\PY{+w}{ }\\PY{n}{r}\\PY{p}{.}\\PY{n}{cultural\\PYZus{}review}\\PY{p}{,}\n",
       "\\PY{+w}{        }\\PY{n}{overall\\PYZus{}rating}\\PY{p}{:}\\PY{+w}{ }\\PY{n}{r}\\PY{p}{.}\\PY{n}{overall\\PYZus{}rating}\\PY{p}{,}\\PY{+w}{ }\\PY{n}{overall\\PYZus{}review}\\PY{p}{:}\\PY{+w}{ }\\PY{n}{r}\\PY{p}{.}\\PY{n}{overall\\PYZus{}review}\\PY{p}{,}\n",
       "\\PY{+w}{        }\\PY{n}{created\\PYZus{}at}\\PY{p}{:}\\PY{+w}{ }\\PY{n}{r}\\PY{p}{.}\\PY{n}{created\\PYZus{}at}\\PY{p}{,}\\PY{+w}{ }\\PY{n}{updated\\PYZus{}at}\\PY{p}{:}\\PY{+w}{ }\\PY{n}{r}\\PY{p}{.}\\PY{n}{updated\\PYZus{}at}\\PY{p}{\\PYZcb{}}\n",
       "\\PY{+w}{        }\\PY{k}{MERGE}\\PY{+w}{ }\\PY{p}{(}\\PY{n}{inst}\\PY{p}{:}\\PY{n}{Institution}\\PY{+w}{ }\\PY{p}{\\PYZob{}}\\PY{n}{name}\\PY{p}{:}\\PY{+w}{ }\\PY{n}{r}\\PY{p}{.}\\PY{n}{institution\\PYZus{}name}\\PY{p}{\\PYZcb{}}\\PY{p}{)}\n",
       "\\PY{+w}{        }\\PY{k}{MERGE}\\PY{+w}{ }\\PY{p}{(}\\PY{n}{nrev}\\PY{p}{)}\\PY{o}{\\PYZhy{}[}\\PY{p}{:}\\PY{n}{IN\\PYZus{}INSTITUTTION}\\PY{o}{]\\PYZhy{}\\PYZgt{}}\\PY{p}{(}\\PY{n}{inst}\\PY{p}{)}\n",
       "\\PY{+w}{        }\\PY{k}{MERGE}\\PY{+w}{ }\\PY{p}{(}\\PY{n}{nb}\\PY{p}{)}\\PY{o}{\\PYZhy{}[}\\PY{p}{:}\\PY{n}{HAS\\PYZus{}REVIEW}\\PY{o}{]\\PYZhy{}\\PYZgt{}}\\PY{p}{(}\\PY{n}{nrev}\\PY{p}{)}\n",
       "\\PY{+w}{        }\\PY{p}{)}\n",
       "\\PY{p}{\\PYZcb{}}\\PY{+w}{ }\\PY{k}{IN}\\PY{+w}{ }\\PY{n}{TRANSACTIONS}\n",
       "\\PY{+w}{    }\\PY{n}{ON}\\PY{+w}{ }\\PY{n}{ERROR}\\PY{+w}{ }\\PY{n}{FAIL}\n",
       "\\end{Verbatim}\n"
      ],
      "text/plain": [
       "\n",
       ":auto  // only needed when using Neo4j Browser\n",
       "CALL apoc.load.json('https://github.com/V-O-A/Open-textbooks-graph-database/raw/master/Data/OTL_textbooks_v0.json') YIELD value\n",
       "UNWIND keys(value) as k\n",
       "CALL {\n",
       "    WITH k, value\n",
       "    MERGE (nb:Book {id: k})\n",
       "    SET nb += {title: value[k].title, edition_statement: value[k].edition_statement, volume: value[k].volume, copyright_year: toInteger(value[k].copyright_year), ISBN10: value[k].ISBN10, ISBN13: value[k].ISBN13, description: value[k].description, rating: value[k].rating, url: value[k].url}\n",
       "    MERGE (lang:Language {name: value[k].language})\n",
       "    MERGE (nb)-[:AVALIABLE_IN]->(lang)\n",
       "    MERGE (lcs:License {name: value[k].license})\n",
       "    MERGE (nb)-[:HAS_LICENSE]->(lcs)\n",
       "    FOREACH (f IN value[k].formats |\n",
       "        MERGE (nfm:Format {name: f.format})\n",
       "        MERGE (nfm)<-[:HAS_FORMAT {id: f.id, url: f.url}]-(nb)\n",
       "        )\n",
       "    FOREACH (p IN value[k].publishers |\n",
       "        MERGE (npub:Publisher {name: p.name})\n",
       "        MERGE (npub)-[rpub:PUBLISHED {id: p.id}]->(nb)\n",
       "        SET rpub += {year: p.year, url: p.url}\n",
       "    )\n",
       "    FOREACH (s IN value[k].subjects |\n",
       "        MERGE (nsub:Subject {id: s.id})\n",
       "        SET nsub += {name: s.name, url: s.url, parent_id: s.parent_subject_id}\n",
       "        MERGE (nb)-[:HAS_SUBJECT]->(nsub)\n",
       "        )\n",
       "    FOREACH (c IN value[k].contributors |\n",
       "        MERGE (ncont:Contributor {id: c.id})\n",
       "        SET ncont += {title: c.title, first_name: c.first_name, middle_name: c.middle_name, last_name: c.last_name, background: c.background_text, contribution: c.contribution, primary: c.primary, corporate: c.corporate, location: c.location}\n",
       "        MERGE (ncont)-[:CONTRIBUTED]->(nb)\n",
       "        )\n",
       "    FOREACH (r IN value[k].reviews |\n",
       "        MERGE (nrev:Review {id: r.id})\n",
       "        SET nrev += {first_name: r.first_name, last_name: r.last_name, position: r.position,\n",
       "        comprehensiveness_rating: r.comprehensiveness_rating, comprehensiveness_review: r.comprehensiveness_review,\n",
       "        accuracy_rating: r.accuracy_rating, accuracy_review: r.accuracy_review,\n",
       "        relevance_rating: r.relevance_rating, relevance_review: r.relevance_review,\n",
       "        clarity_rating: r.clarity_rating, clarity_review: r.clarity_review,\n",
       "        consistency_rating: r.consistency_rating, consistency_review: r.consistency_review,\n",
       "        modularity_rating: r.modularity_rating, modularity_review: r.modularity_review,\n",
       "        organization_rating: r.organization_rating, organization_review: r.organization_review,\n",
       "        interface_rating: r.interface_rating, interface_review: r.interface_review,\n",
       "        grammatical_rating: r.grammatical_rating, grammatical_review: r.grammatical_review,\n",
       "        cultural_rating: r.cultural_rating, cultural_review: r.cultural_review,\n",
       "        overall_rating: r.overall_rating, overall_review: r.overall_review,\n",
       "        created_at: r.created_at, updated_at: r.updated_at}\n",
       "        MERGE (inst:Institution {name: r.institution_name})\n",
       "        MERGE (nrev)-[:IN_INSTITUTTION]->(inst)\n",
       "        MERGE (nb)-[:HAS_REVIEW]->(nrev)\n",
       "        )\n",
       "} IN TRANSACTIONS\n",
       "    ON ERROR FAIL"
      ]
     },
     "execution_count": 25,
     "metadata": {},
     "output_type": "execute_result"
    }
   ],
   "source": [
    "loading = \"\"\"\n",
    ":auto  // only needed when using Neo4j Browser\n",
    "CALL apoc.load.json('https://github.com/V-O-A/Open-textbooks-graph-database/raw/master/Data/OTL_textbooks_v0.json') YIELD value\n",
    "UNWIND keys(value) as k\n",
    "CALL {\n",
    "    WITH k, value\n",
    "    MERGE (nb:Book {id: k})\n",
    "    SET nb += {title: value[k].title, edition_statement: value[k].edition_statement, volume: value[k].volume, copyright_year: toInteger(value[k].copyright_year), ISBN10: value[k].ISBN10, ISBN13: value[k].ISBN13, description: value[k].description, rating: value[k].rating, url: value[k].url}\n",
    "    MERGE (lang:Language {name: value[k].language})\n",
    "    MERGE (nb)-[:AVALIABLE_IN]->(lang)\n",
    "    MERGE (lcs:License {name: value[k].license})\n",
    "    MERGE (nb)-[:HAS_LICENSE]->(lcs)\n",
    "    FOREACH (f IN value[k].formats |\n",
    "        MERGE (nfm:Format {name: f.format})\n",
    "        MERGE (nfm)<-[:HAS_FORMAT {id: f.id, url: f.url}]-(nb)\n",
    "        )\n",
    "    FOREACH (p IN value[k].publishers |\n",
    "        MERGE (npub:Publisher {name: p.name})\n",
    "        MERGE (npub)-[rpub:PUBLISHED {id: p.id}]->(nb)\n",
    "        SET rpub += {year: p.year, url: p.url}\n",
    "    )\n",
    "    FOREACH (s IN value[k].subjects |\n",
    "        MERGE (nsub:Subject {id: s.id})\n",
    "        SET nsub += {name: s.name, url: s.url, parent_id: s.parent_subject_id}\n",
    "        MERGE (nb)-[:HAS_SUBJECT]->(nsub)\n",
    "        )\n",
    "    FOREACH (c IN value[k].contributors |\n",
    "        MERGE (ncont:Contributor {id: c.id})\n",
    "        SET ncont += {title: c.title, first_name: c.first_name, middle_name: c.middle_name, last_name: c.last_name, background: c.background_text, contribution: c.contribution, primary: c.primary, corporate: c.corporate, location: c.location}\n",
    "        MERGE (ncont)-[:CONTRIBUTED]->(nb)\n",
    "        )\n",
    "    FOREACH (r IN value[k].reviews |\n",
    "        MERGE (nrev:Review {id: r.id})\n",
    "        SET nrev += {first_name: r.first_name, last_name: r.last_name, position: r.position,\n",
    "        comprehensiveness_rating: r.comprehensiveness_rating, comprehensiveness_review: r.comprehensiveness_review,\n",
    "        accuracy_rating: r.accuracy_rating, accuracy_review: r.accuracy_review,\n",
    "        relevance_rating: r.relevance_rating, relevance_review: r.relevance_review,\n",
    "        clarity_rating: r.clarity_rating, clarity_review: r.clarity_review,\n",
    "        consistency_rating: r.consistency_rating, consistency_review: r.consistency_review,\n",
    "        modularity_rating: r.modularity_rating, modularity_review: r.modularity_review,\n",
    "        organization_rating: r.organization_rating, organization_review: r.organization_review,\n",
    "        interface_rating: r.interface_rating, interface_review: r.interface_review,\n",
    "        grammatical_rating: r.grammatical_rating, grammatical_review: r.grammatical_review,\n",
    "        cultural_rating: r.cultural_rating, cultural_review: r.cultural_review,\n",
    "        overall_rating: r.overall_rating, overall_review: r.overall_review,\n",
    "        created_at: r.created_at, updated_at: r.updated_at}\n",
    "        MERGE (inst:Institution {name: r.institution_name})\n",
    "        MERGE (nrev)-[:IN_INSTITUTTION]->(inst)\n",
    "        MERGE (nb)-[:HAS_REVIEW]->(nrev)\n",
    "        )\n",
    "} IN TRANSACTIONS\n",
    "    ON ERROR FAIL\n",
    "\"\"\"\n",
    "Code(loading, language='cypher')"
   ]
  },
  {
   "cell_type": "markdown",
   "id": "be7a10b6-458d-4b30-8817-faeec87d98c6",
   "metadata": {},
   "source": [
    "Almost done."
   ]
  },
  {
   "cell_type": "markdown",
   "id": "6ba7a01d-d480-4c95-ae0f-f05ecfef96de",
   "metadata": {},
   "source": [
    "## ... Labels"
   ]
  },
  {
   "cell_type": "markdown",
   "id": "b3af97bd-4719-4818-9966-be0426bf3e9a",
   "metadata": {},
   "source": [
    "Contributor node"
   ]
  },
  {
   "cell_type": "code",
   "execution_count": 26,
   "id": "9c5423a7-b234-4def-b378-bd4f43a25d42",
   "metadata": {
    "jupyter": {
     "source_hidden": true
    }
   },
   "outputs": [
    {
     "data": {
      "text/html": [
       "<style>pre { line-height: 125%; }\n",
       "td.linenos .normal { color: inherit; background-color: transparent; padding-left: 5px; padding-right: 5px; }\n",
       "span.linenos { color: inherit; background-color: transparent; padding-left: 5px; padding-right: 5px; }\n",
       "td.linenos .special { color: #000000; background-color: #ffffc0; padding-left: 5px; padding-right: 5px; }\n",
       "span.linenos.special { color: #000000; background-color: #ffffc0; padding-left: 5px; padding-right: 5px; }\n",
       ".output_html .hll { background-color: #ffffcc }\n",
       ".output_html { background: #f8f8f8; }\n",
       ".output_html .c { color: #3D7B7B; font-style: italic } /* Comment */\n",
       ".output_html .err { border: 1px solid #FF0000 } /* Error */\n",
       ".output_html .k { color: #008000; font-weight: bold } /* Keyword */\n",
       ".output_html .o { color: #666666 } /* Operator */\n",
       ".output_html .ch { color: #3D7B7B; font-style: italic } /* Comment.Hashbang */\n",
       ".output_html .cm { color: #3D7B7B; font-style: italic } /* Comment.Multiline */\n",
       ".output_html .cp { color: #9C6500 } /* Comment.Preproc */\n",
       ".output_html .cpf { color: #3D7B7B; font-style: italic } /* Comment.PreprocFile */\n",
       ".output_html .c1 { color: #3D7B7B; font-style: italic } /* Comment.Single */\n",
       ".output_html .cs { color: #3D7B7B; font-style: italic } /* Comment.Special */\n",
       ".output_html .gd { color: #A00000 } /* Generic.Deleted */\n",
       ".output_html .ge { font-style: italic } /* Generic.Emph */\n",
       ".output_html .gr { color: #E40000 } /* Generic.Error */\n",
       ".output_html .gh { color: #000080; font-weight: bold } /* Generic.Heading */\n",
       ".output_html .gi { color: #008400 } /* Generic.Inserted */\n",
       ".output_html .go { color: #717171 } /* Generic.Output */\n",
       ".output_html .gp { color: #000080; font-weight: bold } /* Generic.Prompt */\n",
       ".output_html .gs { font-weight: bold } /* Generic.Strong */\n",
       ".output_html .gu { color: #800080; font-weight: bold } /* Generic.Subheading */\n",
       ".output_html .gt { color: #0044DD } /* Generic.Traceback */\n",
       ".output_html .kc { color: #008000; font-weight: bold } /* Keyword.Constant */\n",
       ".output_html .kd { color: #008000; font-weight: bold } /* Keyword.Declaration */\n",
       ".output_html .kn { color: #008000; font-weight: bold } /* Keyword.Namespace */\n",
       ".output_html .kp { color: #008000 } /* Keyword.Pseudo */\n",
       ".output_html .kr { color: #008000; font-weight: bold } /* Keyword.Reserved */\n",
       ".output_html .kt { color: #B00040 } /* Keyword.Type */\n",
       ".output_html .m { color: #666666 } /* Literal.Number */\n",
       ".output_html .s { color: #BA2121 } /* Literal.String */\n",
       ".output_html .na { color: #687822 } /* Name.Attribute */\n",
       ".output_html .nb { color: #008000 } /* Name.Builtin */\n",
       ".output_html .nc { color: #0000FF; font-weight: bold } /* Name.Class */\n",
       ".output_html .no { color: #880000 } /* Name.Constant */\n",
       ".output_html .nd { color: #AA22FF } /* Name.Decorator */\n",
       ".output_html .ni { color: #717171; font-weight: bold } /* Name.Entity */\n",
       ".output_html .ne { color: #CB3F38; font-weight: bold } /* Name.Exception */\n",
       ".output_html .nf { color: #0000FF } /* Name.Function */\n",
       ".output_html .nl { color: #767600 } /* Name.Label */\n",
       ".output_html .nn { color: #0000FF; font-weight: bold } /* Name.Namespace */\n",
       ".output_html .nt { color: #008000; font-weight: bold } /* Name.Tag */\n",
       ".output_html .nv { color: #19177C } /* Name.Variable */\n",
       ".output_html .ow { color: #AA22FF; font-weight: bold } /* Operator.Word */\n",
       ".output_html .w { color: #bbbbbb } /* Text.Whitespace */\n",
       ".output_html .mb { color: #666666 } /* Literal.Number.Bin */\n",
       ".output_html .mf { color: #666666 } /* Literal.Number.Float */\n",
       ".output_html .mh { color: #666666 } /* Literal.Number.Hex */\n",
       ".output_html .mi { color: #666666 } /* Literal.Number.Integer */\n",
       ".output_html .mo { color: #666666 } /* Literal.Number.Oct */\n",
       ".output_html .sa { color: #BA2121 } /* Literal.String.Affix */\n",
       ".output_html .sb { color: #BA2121 } /* Literal.String.Backtick */\n",
       ".output_html .sc { color: #BA2121 } /* Literal.String.Char */\n",
       ".output_html .dl { color: #BA2121 } /* Literal.String.Delimiter */\n",
       ".output_html .sd { color: #BA2121; font-style: italic } /* Literal.String.Doc */\n",
       ".output_html .s2 { color: #BA2121 } /* Literal.String.Double */\n",
       ".output_html .se { color: #AA5D1F; font-weight: bold } /* Literal.String.Escape */\n",
       ".output_html .sh { color: #BA2121 } /* Literal.String.Heredoc */\n",
       ".output_html .si { color: #A45A77; font-weight: bold } /* Literal.String.Interpol */\n",
       ".output_html .sx { color: #008000 } /* Literal.String.Other */\n",
       ".output_html .sr { color: #A45A77 } /* Literal.String.Regex */\n",
       ".output_html .s1 { color: #BA2121 } /* Literal.String.Single */\n",
       ".output_html .ss { color: #19177C } /* Literal.String.Symbol */\n",
       ".output_html .bp { color: #008000 } /* Name.Builtin.Pseudo */\n",
       ".output_html .fm { color: #0000FF } /* Name.Function.Magic */\n",
       ".output_html .vc { color: #19177C } /* Name.Variable.Class */\n",
       ".output_html .vg { color: #19177C } /* Name.Variable.Global */\n",
       ".output_html .vi { color: #19177C } /* Name.Variable.Instance */\n",
       ".output_html .vm { color: #19177C } /* Name.Variable.Magic */\n",
       ".output_html .il { color: #666666 } /* Literal.Number.Integer.Long */</style><div class=\"highlight\"><pre><span></span><span class=\"k\">MATCH</span><span class=\"w\"> </span><span class=\"p\">(</span><span class=\"n\">c</span><span class=\"p\">:</span><span class=\"n\">Contributor</span><span class=\"p\">)</span>\n",
       "<span class=\"k\">WHERE</span><span class=\"w\"> </span><span class=\"n\">c</span><span class=\"p\">.</span><span class=\"n\">contribution</span><span class=\"w\"> </span><span class=\"p\">=</span><span class=\"w\"> </span><span class=\"err\">&#39;</span><span class=\"n\">Author</span><span class=\"err\">&#39;</span><span class=\"w\"> </span><span class=\"k\">SET</span><span class=\"w\"> </span><span class=\"n\">c</span><span class=\"p\">:</span><span class=\"n\">Author</span><span class=\"p\">;</span>\n",
       "<span class=\"k\">MATCH</span><span class=\"w\"> </span><span class=\"p\">(</span><span class=\"n\">cont</span><span class=\"p\">:</span><span class=\"n\">Contributor</span><span class=\"p\">)</span>\n",
       "<span class=\"k\">WHERE</span><span class=\"w\"> </span><span class=\"n\">cont</span><span class=\"p\">.</span><span class=\"n\">contribution</span><span class=\"w\"> </span><span class=\"p\">=</span><span class=\"w\"> </span><span class=\"err\">&#39;</span><span class=\"n\">Editor</span><span class=\"err\">&#39;</span><span class=\"w\"> </span><span class=\"k\">SET</span><span class=\"w\"> </span><span class=\"n\">cont</span><span class=\"p\">:</span><span class=\"n\">Editor</span><span class=\"p\">;</span>\n",
       "</pre></div>\n"
      ],
      "text/latex": [
       "\\begin{Verbatim}[commandchars=\\\\\\{\\}]\n",
       "\\PY{k}{MATCH}\\PY{+w}{ }\\PY{p}{(}\\PY{n}{c}\\PY{p}{:}\\PY{n}{Contributor}\\PY{p}{)}\n",
       "\\PY{k}{WHERE}\\PY{+w}{ }\\PY{n}{c}\\PY{p}{.}\\PY{n}{contribution}\\PY{+w}{ }\\PY{p}{=}\\PY{+w}{ }\\PY{err}{\\PYZsq{}}\\PY{n}{Author}\\PY{err}{\\PYZsq{}}\\PY{+w}{ }\\PY{k}{SET}\\PY{+w}{ }\\PY{n}{c}\\PY{p}{:}\\PY{n}{Author}\\PY{p}{;}\n",
       "\\PY{k}{MATCH}\\PY{+w}{ }\\PY{p}{(}\\PY{n}{cont}\\PY{p}{:}\\PY{n}{Contributor}\\PY{p}{)}\n",
       "\\PY{k}{WHERE}\\PY{+w}{ }\\PY{n}{cont}\\PY{p}{.}\\PY{n}{contribution}\\PY{+w}{ }\\PY{p}{=}\\PY{+w}{ }\\PY{err}{\\PYZsq{}}\\PY{n}{Editor}\\PY{err}{\\PYZsq{}}\\PY{+w}{ }\\PY{k}{SET}\\PY{+w}{ }\\PY{n}{cont}\\PY{p}{:}\\PY{n}{Editor}\\PY{p}{;}\n",
       "\\end{Verbatim}\n"
      ],
      "text/plain": [
       "\n",
       "MATCH (c:Contributor)\n",
       "WHERE c.contribution = 'Author' SET c:Author;\n",
       "MATCH (cont:Contributor)\n",
       "WHERE cont.contribution = 'Editor' SET cont:Editor;"
      ]
     },
     "execution_count": 26,
     "metadata": {},
     "output_type": "execute_result"
    }
   ],
   "source": [
    "labels1 = \"\"\"\n",
    "MATCH (c:Contributor)\n",
    "WHERE c.contribution = 'Author' SET c:Author;\n",
    "MATCH (cont:Contributor)\n",
    "WHERE cont.contribution = 'Editor' SET cont:Editor;\n",
    "\"\"\"\n",
    "Code(labels1, language='cypher')"
   ]
  },
  {
   "cell_type": "code",
   "execution_count": 27,
   "id": "ba562f09-481f-49d8-9c51-59c2085b714f",
   "metadata": {
    "jupyter": {
     "source_hidden": true
    }
   },
   "outputs": [
    {
     "data": {
      "text/html": [
       "<style>pre { line-height: 125%; }\n",
       "td.linenos .normal { color: inherit; background-color: transparent; padding-left: 5px; padding-right: 5px; }\n",
       "span.linenos { color: inherit; background-color: transparent; padding-left: 5px; padding-right: 5px; }\n",
       "td.linenos .special { color: #000000; background-color: #ffffc0; padding-left: 5px; padding-right: 5px; }\n",
       "span.linenos.special { color: #000000; background-color: #ffffc0; padding-left: 5px; padding-right: 5px; }\n",
       ".output_html .hll { background-color: #ffffcc }\n",
       ".output_html { background: #f8f8f8; }\n",
       ".output_html .c { color: #3D7B7B; font-style: italic } /* Comment */\n",
       ".output_html .err { border: 1px solid #FF0000 } /* Error */\n",
       ".output_html .k { color: #008000; font-weight: bold } /* Keyword */\n",
       ".output_html .o { color: #666666 } /* Operator */\n",
       ".output_html .ch { color: #3D7B7B; font-style: italic } /* Comment.Hashbang */\n",
       ".output_html .cm { color: #3D7B7B; font-style: italic } /* Comment.Multiline */\n",
       ".output_html .cp { color: #9C6500 } /* Comment.Preproc */\n",
       ".output_html .cpf { color: #3D7B7B; font-style: italic } /* Comment.PreprocFile */\n",
       ".output_html .c1 { color: #3D7B7B; font-style: italic } /* Comment.Single */\n",
       ".output_html .cs { color: #3D7B7B; font-style: italic } /* Comment.Special */\n",
       ".output_html .gd { color: #A00000 } /* Generic.Deleted */\n",
       ".output_html .ge { font-style: italic } /* Generic.Emph */\n",
       ".output_html .gr { color: #E40000 } /* Generic.Error */\n",
       ".output_html .gh { color: #000080; font-weight: bold } /* Generic.Heading */\n",
       ".output_html .gi { color: #008400 } /* Generic.Inserted */\n",
       ".output_html .go { color: #717171 } /* Generic.Output */\n",
       ".output_html .gp { color: #000080; font-weight: bold } /* Generic.Prompt */\n",
       ".output_html .gs { font-weight: bold } /* Generic.Strong */\n",
       ".output_html .gu { color: #800080; font-weight: bold } /* Generic.Subheading */\n",
       ".output_html .gt { color: #0044DD } /* Generic.Traceback */\n",
       ".output_html .kc { color: #008000; font-weight: bold } /* Keyword.Constant */\n",
       ".output_html .kd { color: #008000; font-weight: bold } /* Keyword.Declaration */\n",
       ".output_html .kn { color: #008000; font-weight: bold } /* Keyword.Namespace */\n",
       ".output_html .kp { color: #008000 } /* Keyword.Pseudo */\n",
       ".output_html .kr { color: #008000; font-weight: bold } /* Keyword.Reserved */\n",
       ".output_html .kt { color: #B00040 } /* Keyword.Type */\n",
       ".output_html .m { color: #666666 } /* Literal.Number */\n",
       ".output_html .s { color: #BA2121 } /* Literal.String */\n",
       ".output_html .na { color: #687822 } /* Name.Attribute */\n",
       ".output_html .nb { color: #008000 } /* Name.Builtin */\n",
       ".output_html .nc { color: #0000FF; font-weight: bold } /* Name.Class */\n",
       ".output_html .no { color: #880000 } /* Name.Constant */\n",
       ".output_html .nd { color: #AA22FF } /* Name.Decorator */\n",
       ".output_html .ni { color: #717171; font-weight: bold } /* Name.Entity */\n",
       ".output_html .ne { color: #CB3F38; font-weight: bold } /* Name.Exception */\n",
       ".output_html .nf { color: #0000FF } /* Name.Function */\n",
       ".output_html .nl { color: #767600 } /* Name.Label */\n",
       ".output_html .nn { color: #0000FF; font-weight: bold } /* Name.Namespace */\n",
       ".output_html .nt { color: #008000; font-weight: bold } /* Name.Tag */\n",
       ".output_html .nv { color: #19177C } /* Name.Variable */\n",
       ".output_html .ow { color: #AA22FF; font-weight: bold } /* Operator.Word */\n",
       ".output_html .w { color: #bbbbbb } /* Text.Whitespace */\n",
       ".output_html .mb { color: #666666 } /* Literal.Number.Bin */\n",
       ".output_html .mf { color: #666666 } /* Literal.Number.Float */\n",
       ".output_html .mh { color: #666666 } /* Literal.Number.Hex */\n",
       ".output_html .mi { color: #666666 } /* Literal.Number.Integer */\n",
       ".output_html .mo { color: #666666 } /* Literal.Number.Oct */\n",
       ".output_html .sa { color: #BA2121 } /* Literal.String.Affix */\n",
       ".output_html .sb { color: #BA2121 } /* Literal.String.Backtick */\n",
       ".output_html .sc { color: #BA2121 } /* Literal.String.Char */\n",
       ".output_html .dl { color: #BA2121 } /* Literal.String.Delimiter */\n",
       ".output_html .sd { color: #BA2121; font-style: italic } /* Literal.String.Doc */\n",
       ".output_html .s2 { color: #BA2121 } /* Literal.String.Double */\n",
       ".output_html .se { color: #AA5D1F; font-weight: bold } /* Literal.String.Escape */\n",
       ".output_html .sh { color: #BA2121 } /* Literal.String.Heredoc */\n",
       ".output_html .si { color: #A45A77; font-weight: bold } /* Literal.String.Interpol */\n",
       ".output_html .sx { color: #008000 } /* Literal.String.Other */\n",
       ".output_html .sr { color: #A45A77 } /* Literal.String.Regex */\n",
       ".output_html .s1 { color: #BA2121 } /* Literal.String.Single */\n",
       ".output_html .ss { color: #19177C } /* Literal.String.Symbol */\n",
       ".output_html .bp { color: #008000 } /* Name.Builtin.Pseudo */\n",
       ".output_html .fm { color: #0000FF } /* Name.Function.Magic */\n",
       ".output_html .vc { color: #19177C } /* Name.Variable.Class */\n",
       ".output_html .vg { color: #19177C } /* Name.Variable.Global */\n",
       ".output_html .vi { color: #19177C } /* Name.Variable.Instance */\n",
       ".output_html .vm { color: #19177C } /* Name.Variable.Magic */\n",
       ".output_html .il { color: #666666 } /* Literal.Number.Integer.Long */</style><div class=\"highlight\"><pre><span></span><span class=\"k\">MATCH</span><span class=\"w\"> </span><span class=\"p\">(</span><span class=\"n\">c</span><span class=\"p\">:</span><span class=\"n\">Contributor</span><span class=\"p\">)</span>\n",
       "<span class=\"k\">WHERE</span><span class=\"w\"> </span><span class=\"n\">c</span><span class=\"p\">.</span><span class=\"n\">primary</span><span class=\"w\"> </span><span class=\"p\">=</span><span class=\"w\"> </span><span class=\"k\">TRUE</span>\n",
       "<span class=\"k\">SET</span><span class=\"w\"> </span><span class=\"n\">c</span><span class=\"p\">:</span><span class=\"n\">Primary</span><span class=\"p\">;</span>\n",
       "\n",
       "<span class=\"k\">MATCH</span><span class=\"w\"> </span><span class=\"p\">(</span><span class=\"n\">cn</span><span class=\"p\">:</span><span class=\"n\">Contributor</span><span class=\"p\">)</span>\n",
       "<span class=\"k\">WHERE</span><span class=\"w\"> </span><span class=\"n\">cn</span><span class=\"p\">.</span><span class=\"n\">corporate</span><span class=\"w\"> </span><span class=\"p\">=</span><span class=\"w\"> </span><span class=\"k\">TRUE</span>\n",
       "<span class=\"k\">SET</span><span class=\"w\"> </span><span class=\"n\">cn</span><span class=\"p\">:</span><span class=\"n\">Corporate</span><span class=\"p\">;</span>\n",
       "\n",
       "<span class=\"k\">MATCH</span><span class=\"w\"> </span><span class=\"p\">(</span><span class=\"n\">cont</span><span class=\"p\">:</span><span class=\"n\">Contributor</span><span class=\"p\">)</span>\n",
       "<span class=\"k\">REMOVE</span><span class=\"w\"> </span><span class=\"n\">cont</span><span class=\"p\">.</span><span class=\"n\">primary</span><span class=\"p\">,</span><span class=\"w\"> </span><span class=\"n\">cont</span><span class=\"p\">.</span><span class=\"n\">corporate</span>\n",
       "</pre></div>\n"
      ],
      "text/latex": [
       "\\begin{Verbatim}[commandchars=\\\\\\{\\}]\n",
       "\\PY{k}{MATCH}\\PY{+w}{ }\\PY{p}{(}\\PY{n}{c}\\PY{p}{:}\\PY{n}{Contributor}\\PY{p}{)}\n",
       "\\PY{k}{WHERE}\\PY{+w}{ }\\PY{n}{c}\\PY{p}{.}\\PY{n}{primary}\\PY{+w}{ }\\PY{p}{=}\\PY{+w}{ }\\PY{k}{TRUE}\n",
       "\\PY{k}{SET}\\PY{+w}{ }\\PY{n}{c}\\PY{p}{:}\\PY{n}{Primary}\\PY{p}{;}\n",
       "\n",
       "\\PY{k}{MATCH}\\PY{+w}{ }\\PY{p}{(}\\PY{n}{cn}\\PY{p}{:}\\PY{n}{Contributor}\\PY{p}{)}\n",
       "\\PY{k}{WHERE}\\PY{+w}{ }\\PY{n}{cn}\\PY{p}{.}\\PY{n}{corporate}\\PY{+w}{ }\\PY{p}{=}\\PY{+w}{ }\\PY{k}{TRUE}\n",
       "\\PY{k}{SET}\\PY{+w}{ }\\PY{n}{cn}\\PY{p}{:}\\PY{n}{Corporate}\\PY{p}{;}\n",
       "\n",
       "\\PY{k}{MATCH}\\PY{+w}{ }\\PY{p}{(}\\PY{n}{cont}\\PY{p}{:}\\PY{n}{Contributor}\\PY{p}{)}\n",
       "\\PY{k}{REMOVE}\\PY{+w}{ }\\PY{n}{cont}\\PY{p}{.}\\PY{n}{primary}\\PY{p}{,}\\PY{+w}{ }\\PY{n}{cont}\\PY{p}{.}\\PY{n}{corporate}\n",
       "\\end{Verbatim}\n"
      ],
      "text/plain": [
       "\n",
       "MATCH (c:Contributor)\n",
       "WHERE c.primary = TRUE\n",
       "SET c:Primary;\n",
       "\n",
       "MATCH (cn:Contributor)\n",
       "WHERE cn.corporate = TRUE\n",
       "SET cn:Corporate;\n",
       "\n",
       "MATCH (cont:Contributor)\n",
       "REMOVE cont.primary, cont.corporate"
      ]
     },
     "execution_count": 27,
     "metadata": {},
     "output_type": "execute_result"
    }
   ],
   "source": [
    "labels2 = \"\"\"\n",
    "MATCH (c:Contributor)\n",
    "WHERE c.primary = TRUE\n",
    "SET c:Primary;\n",
    "\n",
    "MATCH (cn:Contributor)\n",
    "WHERE cn.corporate = TRUE\n",
    "SET cn:Corporate;\n",
    "\n",
    "MATCH (cont:Contributor)\n",
    "REMOVE cont.primary, cont.corporate\n",
    "\"\"\"\n",
    "Code(labels2, language='cypher')"
   ]
  },
  {
   "cell_type": "markdown",
   "id": "043fa034-3c89-44f1-acf7-29174aac5f51",
   "metadata": {},
   "source": [
    "## ... Relationships"
   ]
  },
  {
   "cell_type": "code",
   "execution_count": 28,
   "id": "16fd0cba-58c0-44bd-b0e0-00f3e88593d5",
   "metadata": {
    "jupyter": {
     "source_hidden": true
    }
   },
   "outputs": [
    {
     "data": {
      "text/html": [
       "<style>pre { line-height: 125%; }\n",
       "td.linenos .normal { color: inherit; background-color: transparent; padding-left: 5px; padding-right: 5px; }\n",
       "span.linenos { color: inherit; background-color: transparent; padding-left: 5px; padding-right: 5px; }\n",
       "td.linenos .special { color: #000000; background-color: #ffffc0; padding-left: 5px; padding-right: 5px; }\n",
       "span.linenos.special { color: #000000; background-color: #ffffc0; padding-left: 5px; padding-right: 5px; }\n",
       ".output_html .hll { background-color: #ffffcc }\n",
       ".output_html { background: #f8f8f8; }\n",
       ".output_html .c { color: #3D7B7B; font-style: italic } /* Comment */\n",
       ".output_html .err { border: 1px solid #FF0000 } /* Error */\n",
       ".output_html .k { color: #008000; font-weight: bold } /* Keyword */\n",
       ".output_html .o { color: #666666 } /* Operator */\n",
       ".output_html .ch { color: #3D7B7B; font-style: italic } /* Comment.Hashbang */\n",
       ".output_html .cm { color: #3D7B7B; font-style: italic } /* Comment.Multiline */\n",
       ".output_html .cp { color: #9C6500 } /* Comment.Preproc */\n",
       ".output_html .cpf { color: #3D7B7B; font-style: italic } /* Comment.PreprocFile */\n",
       ".output_html .c1 { color: #3D7B7B; font-style: italic } /* Comment.Single */\n",
       ".output_html .cs { color: #3D7B7B; font-style: italic } /* Comment.Special */\n",
       ".output_html .gd { color: #A00000 } /* Generic.Deleted */\n",
       ".output_html .ge { font-style: italic } /* Generic.Emph */\n",
       ".output_html .gr { color: #E40000 } /* Generic.Error */\n",
       ".output_html .gh { color: #000080; font-weight: bold } /* Generic.Heading */\n",
       ".output_html .gi { color: #008400 } /* Generic.Inserted */\n",
       ".output_html .go { color: #717171 } /* Generic.Output */\n",
       ".output_html .gp { color: #000080; font-weight: bold } /* Generic.Prompt */\n",
       ".output_html .gs { font-weight: bold } /* Generic.Strong */\n",
       ".output_html .gu { color: #800080; font-weight: bold } /* Generic.Subheading */\n",
       ".output_html .gt { color: #0044DD } /* Generic.Traceback */\n",
       ".output_html .kc { color: #008000; font-weight: bold } /* Keyword.Constant */\n",
       ".output_html .kd { color: #008000; font-weight: bold } /* Keyword.Declaration */\n",
       ".output_html .kn { color: #008000; font-weight: bold } /* Keyword.Namespace */\n",
       ".output_html .kp { color: #008000 } /* Keyword.Pseudo */\n",
       ".output_html .kr { color: #008000; font-weight: bold } /* Keyword.Reserved */\n",
       ".output_html .kt { color: #B00040 } /* Keyword.Type */\n",
       ".output_html .m { color: #666666 } /* Literal.Number */\n",
       ".output_html .s { color: #BA2121 } /* Literal.String */\n",
       ".output_html .na { color: #687822 } /* Name.Attribute */\n",
       ".output_html .nb { color: #008000 } /* Name.Builtin */\n",
       ".output_html .nc { color: #0000FF; font-weight: bold } /* Name.Class */\n",
       ".output_html .no { color: #880000 } /* Name.Constant */\n",
       ".output_html .nd { color: #AA22FF } /* Name.Decorator */\n",
       ".output_html .ni { color: #717171; font-weight: bold } /* Name.Entity */\n",
       ".output_html .ne { color: #CB3F38; font-weight: bold } /* Name.Exception */\n",
       ".output_html .nf { color: #0000FF } /* Name.Function */\n",
       ".output_html .nl { color: #767600 } /* Name.Label */\n",
       ".output_html .nn { color: #0000FF; font-weight: bold } /* Name.Namespace */\n",
       ".output_html .nt { color: #008000; font-weight: bold } /* Name.Tag */\n",
       ".output_html .nv { color: #19177C } /* Name.Variable */\n",
       ".output_html .ow { color: #AA22FF; font-weight: bold } /* Operator.Word */\n",
       ".output_html .w { color: #bbbbbb } /* Text.Whitespace */\n",
       ".output_html .mb { color: #666666 } /* Literal.Number.Bin */\n",
       ".output_html .mf { color: #666666 } /* Literal.Number.Float */\n",
       ".output_html .mh { color: #666666 } /* Literal.Number.Hex */\n",
       ".output_html .mi { color: #666666 } /* Literal.Number.Integer */\n",
       ".output_html .mo { color: #666666 } /* Literal.Number.Oct */\n",
       ".output_html .sa { color: #BA2121 } /* Literal.String.Affix */\n",
       ".output_html .sb { color: #BA2121 } /* Literal.String.Backtick */\n",
       ".output_html .sc { color: #BA2121 } /* Literal.String.Char */\n",
       ".output_html .dl { color: #BA2121 } /* Literal.String.Delimiter */\n",
       ".output_html .sd { color: #BA2121; font-style: italic } /* Literal.String.Doc */\n",
       ".output_html .s2 { color: #BA2121 } /* Literal.String.Double */\n",
       ".output_html .se { color: #AA5D1F; font-weight: bold } /* Literal.String.Escape */\n",
       ".output_html .sh { color: #BA2121 } /* Literal.String.Heredoc */\n",
       ".output_html .si { color: #A45A77; font-weight: bold } /* Literal.String.Interpol */\n",
       ".output_html .sx { color: #008000 } /* Literal.String.Other */\n",
       ".output_html .sr { color: #A45A77 } /* Literal.String.Regex */\n",
       ".output_html .s1 { color: #BA2121 } /* Literal.String.Single */\n",
       ".output_html .ss { color: #19177C } /* Literal.String.Symbol */\n",
       ".output_html .bp { color: #008000 } /* Name.Builtin.Pseudo */\n",
       ".output_html .fm { color: #0000FF } /* Name.Function.Magic */\n",
       ".output_html .vc { color: #19177C } /* Name.Variable.Class */\n",
       ".output_html .vg { color: #19177C } /* Name.Variable.Global */\n",
       ".output_html .vi { color: #19177C } /* Name.Variable.Instance */\n",
       ".output_html .vm { color: #19177C } /* Name.Variable.Magic */\n",
       ".output_html .il { color: #666666 } /* Literal.Number.Integer.Long */</style><div class=\"highlight\"><pre><span></span><span class=\"k\">MATCH</span><span class=\"w\"> </span><span class=\"p\">(</span><span class=\"n\">cs</span><span class=\"p\">:</span><span class=\"n\">Subject</span><span class=\"w\"> </span><span class=\"k\">WHERE</span><span class=\"w\"> </span><span class=\"n\">cs</span><span class=\"p\">.</span><span class=\"n\">parent_id</span><span class=\"w\"> </span><span class=\"n\">IS</span><span class=\"w\"> </span><span class=\"k\">NOT</span><span class=\"w\"> </span><span class=\"k\">NULL</span><span class=\"p\">)</span>\n",
       "<span class=\"k\">MATCH</span><span class=\"w\"> </span><span class=\"p\">(</span><span class=\"n\">ps</span><span class=\"p\">:</span><span class=\"n\">Subject</span><span class=\"w\"> </span><span class=\"p\">{</span><span class=\"n\">id</span><span class=\"p\">:</span><span class=\"w\"> </span><span class=\"n\">cs</span><span class=\"p\">.</span><span class=\"n\">parent_id</span><span class=\"p\">})</span>\n",
       "<span class=\"k\">MATCH</span><span class=\"w\"> </span><span class=\"p\">(</span><span class=\"n\">ps</span><span class=\"p\">)</span><span class=\"o\">&lt;-[</span><span class=\"n\">r</span><span class=\"p\">:</span><span class=\"n\">HAS_SUBJECT</span><span class=\"o\">]-</span><span class=\"p\">()</span>\n",
       "<span class=\"k\">DELETE</span><span class=\"w\"> </span><span class=\"n\">r</span>\n",
       "<span class=\"k\">WITH</span><span class=\"w\"> </span><span class=\"n\">ps</span><span class=\"p\">,</span><span class=\"w\"> </span><span class=\"n\">cs</span>\n",
       "<span class=\"w\">    </span><span class=\"k\">MERGE</span><span class=\"w\"> </span><span class=\"p\">(</span><span class=\"n\">cs</span><span class=\"p\">)</span><span class=\"o\">&lt;-[</span><span class=\"p\">:</span><span class=\"n\">HAS_CHILD</span><span class=\"o\">]-</span><span class=\"p\">(</span><span class=\"n\">ps</span><span class=\"p\">)</span>\n",
       "<span class=\"w\">    </span><span class=\"k\">REMOVE</span><span class=\"w\"> </span><span class=\"n\">cs</span><span class=\"p\">.</span><span class=\"n\">parent_id</span>\n",
       "</pre></div>\n"
      ],
      "text/latex": [
       "\\begin{Verbatim}[commandchars=\\\\\\{\\}]\n",
       "\\PY{k}{MATCH}\\PY{+w}{ }\\PY{p}{(}\\PY{n}{cs}\\PY{p}{:}\\PY{n}{Subject}\\PY{+w}{ }\\PY{k}{WHERE}\\PY{+w}{ }\\PY{n}{cs}\\PY{p}{.}\\PY{n}{parent\\PYZus{}id}\\PY{+w}{ }\\PY{n}{IS}\\PY{+w}{ }\\PY{k}{NOT}\\PY{+w}{ }\\PY{k}{NULL}\\PY{p}{)}\n",
       "\\PY{k}{MATCH}\\PY{+w}{ }\\PY{p}{(}\\PY{n}{ps}\\PY{p}{:}\\PY{n}{Subject}\\PY{+w}{ }\\PY{p}{\\PYZob{}}\\PY{n}{id}\\PY{p}{:}\\PY{+w}{ }\\PY{n}{cs}\\PY{p}{.}\\PY{n}{parent\\PYZus{}id}\\PY{p}{\\PYZcb{}}\\PY{p}{)}\n",
       "\\PY{k}{MATCH}\\PY{+w}{ }\\PY{p}{(}\\PY{n}{ps}\\PY{p}{)}\\PY{o}{\\PYZlt{}\\PYZhy{}[}\\PY{n}{r}\\PY{p}{:}\\PY{n}{HAS\\PYZus{}SUBJECT}\\PY{o}{]\\PYZhy{}}\\PY{p}{(}\\PY{p}{)}\n",
       "\\PY{k}{DELETE}\\PY{+w}{ }\\PY{n}{r}\n",
       "\\PY{k}{WITH}\\PY{+w}{ }\\PY{n}{ps}\\PY{p}{,}\\PY{+w}{ }\\PY{n}{cs}\n",
       "\\PY{+w}{    }\\PY{k}{MERGE}\\PY{+w}{ }\\PY{p}{(}\\PY{n}{cs}\\PY{p}{)}\\PY{o}{\\PYZlt{}\\PYZhy{}[}\\PY{p}{:}\\PY{n}{HAS\\PYZus{}CHILD}\\PY{o}{]\\PYZhy{}}\\PY{p}{(}\\PY{n}{ps}\\PY{p}{)}\n",
       "\\PY{+w}{    }\\PY{k}{REMOVE}\\PY{+w}{ }\\PY{n}{cs}\\PY{p}{.}\\PY{n}{parent\\PYZus{}id}\n",
       "\\end{Verbatim}\n"
      ],
      "text/plain": [
       "\n",
       "MATCH (cs:Subject WHERE cs.parent_id IS NOT NULL)\n",
       "MATCH (ps:Subject {id: cs.parent_id})\n",
       "MATCH (ps)<-[r:HAS_SUBJECT]-()\n",
       "DELETE r\n",
       "WITH ps, cs\n",
       "    MERGE (cs)<-[:HAS_CHILD]-(ps)\n",
       "    REMOVE cs.parent_id"
      ]
     },
     "execution_count": 28,
     "metadata": {},
     "output_type": "execute_result"
    }
   ],
   "source": [
    "relationships1 = \"\"\"\n",
    "MATCH (cs:Subject WHERE cs.parent_id IS NOT NULL)\n",
    "MATCH (ps:Subject {id: cs.parent_id})\n",
    "MATCH (ps)<-[r:HAS_SUBJECT]-()\n",
    "DELETE r\n",
    "WITH ps, cs\n",
    "    MERGE (cs)<-[:HAS_CHILD]-(ps)\n",
    "    REMOVE cs.parent_id\n",
    "\"\"\"\n",
    "Code(relationships1, language='cypher')"
   ]
  },
  {
   "cell_type": "markdown",
   "id": "5db591ad-7107-4948-958b-5490e37c236f",
   "metadata": {},
   "source": [
    "## Both"
   ]
  },
  {
   "cell_type": "code",
   "execution_count": 29,
   "id": "8d8eb30f-c7d9-4f7d-9dd3-911aaff5f1e5",
   "metadata": {
    "jupyter": {
     "source_hidden": true
    }
   },
   "outputs": [
    {
     "data": {
      "text/html": [
       "<style>pre { line-height: 125%; }\n",
       "td.linenos .normal { color: inherit; background-color: transparent; padding-left: 5px; padding-right: 5px; }\n",
       "span.linenos { color: inherit; background-color: transparent; padding-left: 5px; padding-right: 5px; }\n",
       "td.linenos .special { color: #000000; background-color: #ffffc0; padding-left: 5px; padding-right: 5px; }\n",
       "span.linenos.special { color: #000000; background-color: #ffffc0; padding-left: 5px; padding-right: 5px; }\n",
       ".output_html .hll { background-color: #ffffcc }\n",
       ".output_html { background: #f8f8f8; }\n",
       ".output_html .c { color: #3D7B7B; font-style: italic } /* Comment */\n",
       ".output_html .err { border: 1px solid #FF0000 } /* Error */\n",
       ".output_html .k { color: #008000; font-weight: bold } /* Keyword */\n",
       ".output_html .o { color: #666666 } /* Operator */\n",
       ".output_html .ch { color: #3D7B7B; font-style: italic } /* Comment.Hashbang */\n",
       ".output_html .cm { color: #3D7B7B; font-style: italic } /* Comment.Multiline */\n",
       ".output_html .cp { color: #9C6500 } /* Comment.Preproc */\n",
       ".output_html .cpf { color: #3D7B7B; font-style: italic } /* Comment.PreprocFile */\n",
       ".output_html .c1 { color: #3D7B7B; font-style: italic } /* Comment.Single */\n",
       ".output_html .cs { color: #3D7B7B; font-style: italic } /* Comment.Special */\n",
       ".output_html .gd { color: #A00000 } /* Generic.Deleted */\n",
       ".output_html .ge { font-style: italic } /* Generic.Emph */\n",
       ".output_html .gr { color: #E40000 } /* Generic.Error */\n",
       ".output_html .gh { color: #000080; font-weight: bold } /* Generic.Heading */\n",
       ".output_html .gi { color: #008400 } /* Generic.Inserted */\n",
       ".output_html .go { color: #717171 } /* Generic.Output */\n",
       ".output_html .gp { color: #000080; font-weight: bold } /* Generic.Prompt */\n",
       ".output_html .gs { font-weight: bold } /* Generic.Strong */\n",
       ".output_html .gu { color: #800080; font-weight: bold } /* Generic.Subheading */\n",
       ".output_html .gt { color: #0044DD } /* Generic.Traceback */\n",
       ".output_html .kc { color: #008000; font-weight: bold } /* Keyword.Constant */\n",
       ".output_html .kd { color: #008000; font-weight: bold } /* Keyword.Declaration */\n",
       ".output_html .kn { color: #008000; font-weight: bold } /* Keyword.Namespace */\n",
       ".output_html .kp { color: #008000 } /* Keyword.Pseudo */\n",
       ".output_html .kr { color: #008000; font-weight: bold } /* Keyword.Reserved */\n",
       ".output_html .kt { color: #B00040 } /* Keyword.Type */\n",
       ".output_html .m { color: #666666 } /* Literal.Number */\n",
       ".output_html .s { color: #BA2121 } /* Literal.String */\n",
       ".output_html .na { color: #687822 } /* Name.Attribute */\n",
       ".output_html .nb { color: #008000 } /* Name.Builtin */\n",
       ".output_html .nc { color: #0000FF; font-weight: bold } /* Name.Class */\n",
       ".output_html .no { color: #880000 } /* Name.Constant */\n",
       ".output_html .nd { color: #AA22FF } /* Name.Decorator */\n",
       ".output_html .ni { color: #717171; font-weight: bold } /* Name.Entity */\n",
       ".output_html .ne { color: #CB3F38; font-weight: bold } /* Name.Exception */\n",
       ".output_html .nf { color: #0000FF } /* Name.Function */\n",
       ".output_html .nl { color: #767600 } /* Name.Label */\n",
       ".output_html .nn { color: #0000FF; font-weight: bold } /* Name.Namespace */\n",
       ".output_html .nt { color: #008000; font-weight: bold } /* Name.Tag */\n",
       ".output_html .nv { color: #19177C } /* Name.Variable */\n",
       ".output_html .ow { color: #AA22FF; font-weight: bold } /* Operator.Word */\n",
       ".output_html .w { color: #bbbbbb } /* Text.Whitespace */\n",
       ".output_html .mb { color: #666666 } /* Literal.Number.Bin */\n",
       ".output_html .mf { color: #666666 } /* Literal.Number.Float */\n",
       ".output_html .mh { color: #666666 } /* Literal.Number.Hex */\n",
       ".output_html .mi { color: #666666 } /* Literal.Number.Integer */\n",
       ".output_html .mo { color: #666666 } /* Literal.Number.Oct */\n",
       ".output_html .sa { color: #BA2121 } /* Literal.String.Affix */\n",
       ".output_html .sb { color: #BA2121 } /* Literal.String.Backtick */\n",
       ".output_html .sc { color: #BA2121 } /* Literal.String.Char */\n",
       ".output_html .dl { color: #BA2121 } /* Literal.String.Delimiter */\n",
       ".output_html .sd { color: #BA2121; font-style: italic } /* Literal.String.Doc */\n",
       ".output_html .s2 { color: #BA2121 } /* Literal.String.Double */\n",
       ".output_html .se { color: #AA5D1F; font-weight: bold } /* Literal.String.Escape */\n",
       ".output_html .sh { color: #BA2121 } /* Literal.String.Heredoc */\n",
       ".output_html .si { color: #A45A77; font-weight: bold } /* Literal.String.Interpol */\n",
       ".output_html .sx { color: #008000 } /* Literal.String.Other */\n",
       ".output_html .sr { color: #A45A77 } /* Literal.String.Regex */\n",
       ".output_html .s1 { color: #BA2121 } /* Literal.String.Single */\n",
       ".output_html .ss { color: #19177C } /* Literal.String.Symbol */\n",
       ".output_html .bp { color: #008000 } /* Name.Builtin.Pseudo */\n",
       ".output_html .fm { color: #0000FF } /* Name.Function.Magic */\n",
       ".output_html .vc { color: #19177C } /* Name.Variable.Class */\n",
       ".output_html .vg { color: #19177C } /* Name.Variable.Global */\n",
       ".output_html .vi { color: #19177C } /* Name.Variable.Instance */\n",
       ".output_html .vm { color: #19177C } /* Name.Variable.Magic */\n",
       ".output_html .il { color: #666666 } /* Literal.Number.Integer.Long */</style><div class=\"highlight\"><pre><span></span><span class=\"k\">MATCH</span><span class=\"w\"> </span><span class=\"p\">(</span><span class=\"n\">c</span><span class=\"p\">:</span><span class=\"n\">Contributor</span><span class=\"w\"> </span><span class=\"k\">WHERE</span><span class=\"w\"> </span><span class=\"n\">c</span><span class=\"p\">.</span><span class=\"n\">location</span><span class=\"w\"> </span><span class=\"n\">IS</span><span class=\"w\"> </span><span class=\"k\">NOT</span><span class=\"w\"> </span><span class=\"k\">NULL</span><span class=\"p\">)</span>\n",
       "<span class=\"k\">MERGE</span><span class=\"w\"> </span><span class=\"p\">(</span><span class=\"n\">l</span><span class=\"p\">:</span><span class=\"n\">Location</span><span class=\"w\"> </span><span class=\"p\">{</span><span class=\"n\">name</span><span class=\"p\">:</span><span class=\"w\"> </span><span class=\"n\">c</span><span class=\"p\">.</span><span class=\"n\">location</span><span class=\"p\">})</span>\n",
       "<span class=\"k\">MERGE</span><span class=\"w\"> </span><span class=\"p\">(</span><span class=\"n\">c</span><span class=\"p\">)</span><span class=\"o\">-[</span><span class=\"p\">:</span><span class=\"n\">IN_LOCATION</span><span class=\"o\">]-&gt;</span><span class=\"p\">(</span><span class=\"n\">l</span><span class=\"p\">)</span>\n",
       "<span class=\"k\">REMOVE</span><span class=\"w\"> </span><span class=\"n\">c</span><span class=\"p\">.</span><span class=\"n\">location</span>\n",
       "</pre></div>\n"
      ],
      "text/latex": [
       "\\begin{Verbatim}[commandchars=\\\\\\{\\}]\n",
       "\\PY{k}{MATCH}\\PY{+w}{ }\\PY{p}{(}\\PY{n}{c}\\PY{p}{:}\\PY{n}{Contributor}\\PY{+w}{ }\\PY{k}{WHERE}\\PY{+w}{ }\\PY{n}{c}\\PY{p}{.}\\PY{n}{location}\\PY{+w}{ }\\PY{n}{IS}\\PY{+w}{ }\\PY{k}{NOT}\\PY{+w}{ }\\PY{k}{NULL}\\PY{p}{)}\n",
       "\\PY{k}{MERGE}\\PY{+w}{ }\\PY{p}{(}\\PY{n}{l}\\PY{p}{:}\\PY{n}{Location}\\PY{+w}{ }\\PY{p}{\\PYZob{}}\\PY{n}{name}\\PY{p}{:}\\PY{+w}{ }\\PY{n}{c}\\PY{p}{.}\\PY{n}{location}\\PY{p}{\\PYZcb{}}\\PY{p}{)}\n",
       "\\PY{k}{MERGE}\\PY{+w}{ }\\PY{p}{(}\\PY{n}{c}\\PY{p}{)}\\PY{o}{\\PYZhy{}[}\\PY{p}{:}\\PY{n}{IN\\PYZus{}LOCATION}\\PY{o}{]\\PYZhy{}\\PYZgt{}}\\PY{p}{(}\\PY{n}{l}\\PY{p}{)}\n",
       "\\PY{k}{REMOVE}\\PY{+w}{ }\\PY{n}{c}\\PY{p}{.}\\PY{n}{location}\n",
       "\\end{Verbatim}\n"
      ],
      "text/plain": [
       "\n",
       "MATCH (c:Contributor WHERE c.location IS NOT NULL)\n",
       "MERGE (l:Location {name: c.location})\n",
       "MERGE (c)-[:IN_LOCATION]->(l)\n",
       "REMOVE c.location"
      ]
     },
     "execution_count": 29,
     "metadata": {},
     "output_type": "execute_result"
    }
   ],
   "source": [
    "both = \"\"\"\n",
    "MATCH (c:Contributor WHERE c.location IS NOT NULL)\n",
    "MERGE (l:Location {name: c.location})\n",
    "MERGE (c)-[:IN_LOCATION]->(l)\n",
    "REMOVE c.location\n",
    "\"\"\"\n",
    "Code(both, language='cypher')"
   ]
  },
  {
   "cell_type": "markdown",
   "id": "9ce871a3-b8a4-4924-b20a-3f6c21c24f2e",
   "metadata": {},
   "source": [
    "# Notes"
   ]
  },
  {
   "cell_type": "markdown",
   "id": "484a4fb5-d486-4e7d-aaf1-fc917c48fe6c",
   "metadata": {},
   "source": [
    "## Duplicated nodes"
   ]
  },
  {
   "cell_type": "code",
   "execution_count": 30,
   "id": "cfa0ee94-824f-43b3-bfbe-ec82708b5aeb",
   "metadata": {
    "jupyter": {
     "source_hidden": true
    }
   },
   "outputs": [
    {
     "data": {
      "text/html": [
       "<style>pre { line-height: 125%; }\n",
       "td.linenos .normal { color: inherit; background-color: transparent; padding-left: 5px; padding-right: 5px; }\n",
       "span.linenos { color: inherit; background-color: transparent; padding-left: 5px; padding-right: 5px; }\n",
       "td.linenos .special { color: #000000; background-color: #ffffc0; padding-left: 5px; padding-right: 5px; }\n",
       "span.linenos.special { color: #000000; background-color: #ffffc0; padding-left: 5px; padding-right: 5px; }\n",
       ".output_html .hll { background-color: #ffffcc }\n",
       ".output_html { background: #f8f8f8; }\n",
       ".output_html .c { color: #3D7B7B; font-style: italic } /* Comment */\n",
       ".output_html .err { border: 1px solid #FF0000 } /* Error */\n",
       ".output_html .k { color: #008000; font-weight: bold } /* Keyword */\n",
       ".output_html .o { color: #666666 } /* Operator */\n",
       ".output_html .ch { color: #3D7B7B; font-style: italic } /* Comment.Hashbang */\n",
       ".output_html .cm { color: #3D7B7B; font-style: italic } /* Comment.Multiline */\n",
       ".output_html .cp { color: #9C6500 } /* Comment.Preproc */\n",
       ".output_html .cpf { color: #3D7B7B; font-style: italic } /* Comment.PreprocFile */\n",
       ".output_html .c1 { color: #3D7B7B; font-style: italic } /* Comment.Single */\n",
       ".output_html .cs { color: #3D7B7B; font-style: italic } /* Comment.Special */\n",
       ".output_html .gd { color: #A00000 } /* Generic.Deleted */\n",
       ".output_html .ge { font-style: italic } /* Generic.Emph */\n",
       ".output_html .gr { color: #E40000 } /* Generic.Error */\n",
       ".output_html .gh { color: #000080; font-weight: bold } /* Generic.Heading */\n",
       ".output_html .gi { color: #008400 } /* Generic.Inserted */\n",
       ".output_html .go { color: #717171 } /* Generic.Output */\n",
       ".output_html .gp { color: #000080; font-weight: bold } /* Generic.Prompt */\n",
       ".output_html .gs { font-weight: bold } /* Generic.Strong */\n",
       ".output_html .gu { color: #800080; font-weight: bold } /* Generic.Subheading */\n",
       ".output_html .gt { color: #0044DD } /* Generic.Traceback */\n",
       ".output_html .kc { color: #008000; font-weight: bold } /* Keyword.Constant */\n",
       ".output_html .kd { color: #008000; font-weight: bold } /* Keyword.Declaration */\n",
       ".output_html .kn { color: #008000; font-weight: bold } /* Keyword.Namespace */\n",
       ".output_html .kp { color: #008000 } /* Keyword.Pseudo */\n",
       ".output_html .kr { color: #008000; font-weight: bold } /* Keyword.Reserved */\n",
       ".output_html .kt { color: #B00040 } /* Keyword.Type */\n",
       ".output_html .m { color: #666666 } /* Literal.Number */\n",
       ".output_html .s { color: #BA2121 } /* Literal.String */\n",
       ".output_html .na { color: #687822 } /* Name.Attribute */\n",
       ".output_html .nb { color: #008000 } /* Name.Builtin */\n",
       ".output_html .nc { color: #0000FF; font-weight: bold } /* Name.Class */\n",
       ".output_html .no { color: #880000 } /* Name.Constant */\n",
       ".output_html .nd { color: #AA22FF } /* Name.Decorator */\n",
       ".output_html .ni { color: #717171; font-weight: bold } /* Name.Entity */\n",
       ".output_html .ne { color: #CB3F38; font-weight: bold } /* Name.Exception */\n",
       ".output_html .nf { color: #0000FF } /* Name.Function */\n",
       ".output_html .nl { color: #767600 } /* Name.Label */\n",
       ".output_html .nn { color: #0000FF; font-weight: bold } /* Name.Namespace */\n",
       ".output_html .nt { color: #008000; font-weight: bold } /* Name.Tag */\n",
       ".output_html .nv { color: #19177C } /* Name.Variable */\n",
       ".output_html .ow { color: #AA22FF; font-weight: bold } /* Operator.Word */\n",
       ".output_html .w { color: #bbbbbb } /* Text.Whitespace */\n",
       ".output_html .mb { color: #666666 } /* Literal.Number.Bin */\n",
       ".output_html .mf { color: #666666 } /* Literal.Number.Float */\n",
       ".output_html .mh { color: #666666 } /* Literal.Number.Hex */\n",
       ".output_html .mi { color: #666666 } /* Literal.Number.Integer */\n",
       ".output_html .mo { color: #666666 } /* Literal.Number.Oct */\n",
       ".output_html .sa { color: #BA2121 } /* Literal.String.Affix */\n",
       ".output_html .sb { color: #BA2121 } /* Literal.String.Backtick */\n",
       ".output_html .sc { color: #BA2121 } /* Literal.String.Char */\n",
       ".output_html .dl { color: #BA2121 } /* Literal.String.Delimiter */\n",
       ".output_html .sd { color: #BA2121; font-style: italic } /* Literal.String.Doc */\n",
       ".output_html .s2 { color: #BA2121 } /* Literal.String.Double */\n",
       ".output_html .se { color: #AA5D1F; font-weight: bold } /* Literal.String.Escape */\n",
       ".output_html .sh { color: #BA2121 } /* Literal.String.Heredoc */\n",
       ".output_html .si { color: #A45A77; font-weight: bold } /* Literal.String.Interpol */\n",
       ".output_html .sx { color: #008000 } /* Literal.String.Other */\n",
       ".output_html .sr { color: #A45A77 } /* Literal.String.Regex */\n",
       ".output_html .s1 { color: #BA2121 } /* Literal.String.Single */\n",
       ".output_html .ss { color: #19177C } /* Literal.String.Symbol */\n",
       ".output_html .bp { color: #008000 } /* Name.Builtin.Pseudo */\n",
       ".output_html .fm { color: #0000FF } /* Name.Function.Magic */\n",
       ".output_html .vc { color: #19177C } /* Name.Variable.Class */\n",
       ".output_html .vg { color: #19177C } /* Name.Variable.Global */\n",
       ".output_html .vi { color: #19177C } /* Name.Variable.Instance */\n",
       ".output_html .vm { color: #19177C } /* Name.Variable.Magic */\n",
       ".output_html .il { color: #666666 } /* Literal.Number.Integer.Long */</style><div class=\"highlight\"><pre><span></span><span class=\"k\">MATCH</span><span class=\"w\"> </span><span class=\"p\">(</span><span class=\"n\">gb</span><span class=\"p\">:</span><span class=\"n\">Contributor</span><span class=\"w\"> </span><span class=\"p\">{</span><span class=\"n\">first_name</span><span class=\"p\">:</span><span class=\"w\"> </span><span class=\"err\">&#39;</span><span class=\"n\">Gilbert</span><span class=\"err\">&#39;</span><span class=\"p\">,</span><span class=\"w\"> </span><span class=\"n\">last_name</span><span class=\"p\">:</span><span class=\"w\"> </span><span class=\"err\">&#39;</span><span class=\"n\">Strang</span><span class=\"err\">&#39;</span><span class=\"p\">})</span><span class=\"o\">-[</span><span class=\"n\">cont</span><span class=\"p\">:</span><span class=\"n\">CONTRIBUTED</span><span class=\"o\">]-</span><span class=\"p\">(</span><span class=\"n\">b</span><span class=\"p\">)</span>\n",
       "<span class=\"k\">MATCH</span><span class=\"w\"> </span><span class=\"p\">(</span><span class=\"n\">gb</span><span class=\"p\">)</span><span class=\"o\">-[</span><span class=\"p\">:</span><span class=\"n\">IN_LOCATION</span><span class=\"o\">]-</span><span class=\"p\">(</span><span class=\"n\">l</span><span class=\"p\">)</span>\n",
       "<span class=\"k\">RETURN</span><span class=\"w\"> </span><span class=\"p\">*</span>\n",
       "</pre></div>\n"
      ],
      "text/latex": [
       "\\begin{Verbatim}[commandchars=\\\\\\{\\}]\n",
       "\\PY{k}{MATCH}\\PY{+w}{ }\\PY{p}{(}\\PY{n}{gb}\\PY{p}{:}\\PY{n}{Contributor}\\PY{+w}{ }\\PY{p}{\\PYZob{}}\\PY{n}{first\\PYZus{}name}\\PY{p}{:}\\PY{+w}{ }\\PY{err}{\\PYZsq{}}\\PY{n}{Gilbert}\\PY{err}{\\PYZsq{}}\\PY{p}{,}\\PY{+w}{ }\\PY{n}{last\\PYZus{}name}\\PY{p}{:}\\PY{+w}{ }\\PY{err}{\\PYZsq{}}\\PY{n}{Strang}\\PY{err}{\\PYZsq{}}\\PY{p}{\\PYZcb{}}\\PY{p}{)}\\PY{o}{\\PYZhy{}[}\\PY{n}{cont}\\PY{p}{:}\\PY{n}{CONTRIBUTED}\\PY{o}{]\\PYZhy{}}\\PY{p}{(}\\PY{n}{b}\\PY{p}{)}\n",
       "\\PY{k}{MATCH}\\PY{+w}{ }\\PY{p}{(}\\PY{n}{gb}\\PY{p}{)}\\PY{o}{\\PYZhy{}[}\\PY{p}{:}\\PY{n}{IN\\PYZus{}LOCATION}\\PY{o}{]\\PYZhy{}}\\PY{p}{(}\\PY{n}{l}\\PY{p}{)}\n",
       "\\PY{k}{RETURN}\\PY{+w}{ }\\PY{p}{*}\n",
       "\\end{Verbatim}\n"
      ],
      "text/plain": [
       "\n",
       "MATCH (gb:Contributor {first_name: 'Gilbert', last_name: 'Strang'})-[cont:CONTRIBUTED]-(b)\n",
       "MATCH (gb)-[:IN_LOCATION]-(l)\n",
       "RETURN *"
      ]
     },
     "execution_count": 30,
     "metadata": {},
     "output_type": "execute_result"
    }
   ],
   "source": [
    "notes1 = \"\"\"\n",
    "MATCH (gb:Contributor {first_name: 'Gilbert', last_name: 'Strang'})-[cont:CONTRIBUTED]-(b)\n",
    "MATCH (gb)-[:IN_LOCATION]-(l)\n",
    "RETURN *\n",
    "\"\"\"\n",
    "Code(notes1, language='cypher')"
   ]
  },
  {
   "cell_type": "code",
   "execution_count": 31,
   "id": "0bd3959c-c71e-4e85-aa5c-bd54a028663e",
   "metadata": {
    "jupyter": {
     "source_hidden": true
    }
   },
   "outputs": [
    {
     "data": {
      "text/html": [
       "<style>pre { line-height: 125%; }\n",
       "td.linenos .normal { color: inherit; background-color: transparent; padding-left: 5px; padding-right: 5px; }\n",
       "span.linenos { color: inherit; background-color: transparent; padding-left: 5px; padding-right: 5px; }\n",
       "td.linenos .special { color: #000000; background-color: #ffffc0; padding-left: 5px; padding-right: 5px; }\n",
       "span.linenos.special { color: #000000; background-color: #ffffc0; padding-left: 5px; padding-right: 5px; }\n",
       ".output_html .hll { background-color: #ffffcc }\n",
       ".output_html { background: #f8f8f8; }\n",
       ".output_html .c { color: #3D7B7B; font-style: italic } /* Comment */\n",
       ".output_html .err { border: 1px solid #FF0000 } /* Error */\n",
       ".output_html .k { color: #008000; font-weight: bold } /* Keyword */\n",
       ".output_html .o { color: #666666 } /* Operator */\n",
       ".output_html .ch { color: #3D7B7B; font-style: italic } /* Comment.Hashbang */\n",
       ".output_html .cm { color: #3D7B7B; font-style: italic } /* Comment.Multiline */\n",
       ".output_html .cp { color: #9C6500 } /* Comment.Preproc */\n",
       ".output_html .cpf { color: #3D7B7B; font-style: italic } /* Comment.PreprocFile */\n",
       ".output_html .c1 { color: #3D7B7B; font-style: italic } /* Comment.Single */\n",
       ".output_html .cs { color: #3D7B7B; font-style: italic } /* Comment.Special */\n",
       ".output_html .gd { color: #A00000 } /* Generic.Deleted */\n",
       ".output_html .ge { font-style: italic } /* Generic.Emph */\n",
       ".output_html .gr { color: #E40000 } /* Generic.Error */\n",
       ".output_html .gh { color: #000080; font-weight: bold } /* Generic.Heading */\n",
       ".output_html .gi { color: #008400 } /* Generic.Inserted */\n",
       ".output_html .go { color: #717171 } /* Generic.Output */\n",
       ".output_html .gp { color: #000080; font-weight: bold } /* Generic.Prompt */\n",
       ".output_html .gs { font-weight: bold } /* Generic.Strong */\n",
       ".output_html .gu { color: #800080; font-weight: bold } /* Generic.Subheading */\n",
       ".output_html .gt { color: #0044DD } /* Generic.Traceback */\n",
       ".output_html .kc { color: #008000; font-weight: bold } /* Keyword.Constant */\n",
       ".output_html .kd { color: #008000; font-weight: bold } /* Keyword.Declaration */\n",
       ".output_html .kn { color: #008000; font-weight: bold } /* Keyword.Namespace */\n",
       ".output_html .kp { color: #008000 } /* Keyword.Pseudo */\n",
       ".output_html .kr { color: #008000; font-weight: bold } /* Keyword.Reserved */\n",
       ".output_html .kt { color: #B00040 } /* Keyword.Type */\n",
       ".output_html .m { color: #666666 } /* Literal.Number */\n",
       ".output_html .s { color: #BA2121 } /* Literal.String */\n",
       ".output_html .na { color: #687822 } /* Name.Attribute */\n",
       ".output_html .nb { color: #008000 } /* Name.Builtin */\n",
       ".output_html .nc { color: #0000FF; font-weight: bold } /* Name.Class */\n",
       ".output_html .no { color: #880000 } /* Name.Constant */\n",
       ".output_html .nd { color: #AA22FF } /* Name.Decorator */\n",
       ".output_html .ni { color: #717171; font-weight: bold } /* Name.Entity */\n",
       ".output_html .ne { color: #CB3F38; font-weight: bold } /* Name.Exception */\n",
       ".output_html .nf { color: #0000FF } /* Name.Function */\n",
       ".output_html .nl { color: #767600 } /* Name.Label */\n",
       ".output_html .nn { color: #0000FF; font-weight: bold } /* Name.Namespace */\n",
       ".output_html .nt { color: #008000; font-weight: bold } /* Name.Tag */\n",
       ".output_html .nv { color: #19177C } /* Name.Variable */\n",
       ".output_html .ow { color: #AA22FF; font-weight: bold } /* Operator.Word */\n",
       ".output_html .w { color: #bbbbbb } /* Text.Whitespace */\n",
       ".output_html .mb { color: #666666 } /* Literal.Number.Bin */\n",
       ".output_html .mf { color: #666666 } /* Literal.Number.Float */\n",
       ".output_html .mh { color: #666666 } /* Literal.Number.Hex */\n",
       ".output_html .mi { color: #666666 } /* Literal.Number.Integer */\n",
       ".output_html .mo { color: #666666 } /* Literal.Number.Oct */\n",
       ".output_html .sa { color: #BA2121 } /* Literal.String.Affix */\n",
       ".output_html .sb { color: #BA2121 } /* Literal.String.Backtick */\n",
       ".output_html .sc { color: #BA2121 } /* Literal.String.Char */\n",
       ".output_html .dl { color: #BA2121 } /* Literal.String.Delimiter */\n",
       ".output_html .sd { color: #BA2121; font-style: italic } /* Literal.String.Doc */\n",
       ".output_html .s2 { color: #BA2121 } /* Literal.String.Double */\n",
       ".output_html .se { color: #AA5D1F; font-weight: bold } /* Literal.String.Escape */\n",
       ".output_html .sh { color: #BA2121 } /* Literal.String.Heredoc */\n",
       ".output_html .si { color: #A45A77; font-weight: bold } /* Literal.String.Interpol */\n",
       ".output_html .sx { color: #008000 } /* Literal.String.Other */\n",
       ".output_html .sr { color: #A45A77 } /* Literal.String.Regex */\n",
       ".output_html .s1 { color: #BA2121 } /* Literal.String.Single */\n",
       ".output_html .ss { color: #19177C } /* Literal.String.Symbol */\n",
       ".output_html .bp { color: #008000 } /* Name.Builtin.Pseudo */\n",
       ".output_html .fm { color: #0000FF } /* Name.Function.Magic */\n",
       ".output_html .vc { color: #19177C } /* Name.Variable.Class */\n",
       ".output_html .vg { color: #19177C } /* Name.Variable.Global */\n",
       ".output_html .vi { color: #19177C } /* Name.Variable.Instance */\n",
       ".output_html .vm { color: #19177C } /* Name.Variable.Magic */\n",
       ".output_html .il { color: #666666 } /* Literal.Number.Integer.Long */</style><div class=\"highlight\"><pre><span></span><span class=\"k\">MATCH</span><span class=\"w\"> </span><span class=\"p\">()</span><span class=\"o\">&lt;-[</span><span class=\"p\">:</span><span class=\"n\">CONTRIBUTED</span><span class=\"o\">]-</span><span class=\"p\">(</span><span class=\"n\">c</span><span class=\"p\">:</span><span class=\"n\">Contributor</span><span class=\"p\">)</span><span class=\"o\">-[</span><span class=\"p\">:</span><span class=\"n\">CONTRIBUTED</span><span class=\"o\">]-&gt;</span><span class=\"p\">()</span>\n",
       "<span class=\"c1\">RETURN c    // will return &#39;none&#39;, this path does not exist</span>\n",
       "</pre></div>\n"
      ],
      "text/latex": [
       "\\begin{Verbatim}[commandchars=\\\\\\{\\}]\n",
       "\\PY{k}{MATCH}\\PY{+w}{ }\\PY{p}{(}\\PY{p}{)}\\PY{o}{\\PYZlt{}\\PYZhy{}[}\\PY{p}{:}\\PY{n}{CONTRIBUTED}\\PY{o}{]\\PYZhy{}}\\PY{p}{(}\\PY{n}{c}\\PY{p}{:}\\PY{n}{Contributor}\\PY{p}{)}\\PY{o}{\\PYZhy{}[}\\PY{p}{:}\\PY{n}{CONTRIBUTED}\\PY{o}{]\\PYZhy{}\\PYZgt{}}\\PY{p}{(}\\PY{p}{)}\n",
       "\\PY{c+c1}{RETURN c    // will return \\PYZsq{}none\\PYZsq{}, this path does not exist}\n",
       "\\end{Verbatim}\n"
      ],
      "text/plain": [
       "\n",
       "MATCH ()<-[:CONTRIBUTED]-(c:Contributor)-[:CONTRIBUTED]->()\n",
       "RETURN c    // will return 'none', this path does not exist"
      ]
     },
     "execution_count": 31,
     "metadata": {},
     "output_type": "execute_result"
    }
   ],
   "source": [
    "notes2 = \"\"\"\n",
    "MATCH ()<-[:CONTRIBUTED]-(c:Contributor)-[:CONTRIBUTED]->()\n",
    "RETURN c    // will return 'none', this path does not exist\n",
    "\"\"\"\n",
    "Code(notes2, language='cypher')"
   ]
  },
  {
   "cell_type": "markdown",
   "id": "fb6f9973-e695-4e05-ad8e-e361d8165ef2",
   "metadata": {},
   "source": [
    "**FOR EACH CONTRIBUTOR, *ID* ACTUALLY INDICATES THE CONTRIBUTION TO THE BOOK, NOT ONE PERSON.**"
   ]
  },
  {
   "cell_type": "code",
   "execution_count": 32,
   "id": "4fc1c203-8923-44f0-a253-1661202b0cca",
   "metadata": {
    "jupyter": {
     "source_hidden": true
    }
   },
   "outputs": [
    {
     "data": {
      "text/html": [
       "<style>pre { line-height: 125%; }\n",
       "td.linenos .normal { color: inherit; background-color: transparent; padding-left: 5px; padding-right: 5px; }\n",
       "span.linenos { color: inherit; background-color: transparent; padding-left: 5px; padding-right: 5px; }\n",
       "td.linenos .special { color: #000000; background-color: #ffffc0; padding-left: 5px; padding-right: 5px; }\n",
       "span.linenos.special { color: #000000; background-color: #ffffc0; padding-left: 5px; padding-right: 5px; }\n",
       ".output_html .hll { background-color: #ffffcc }\n",
       ".output_html { background: #f8f8f8; }\n",
       ".output_html .c { color: #3D7B7B; font-style: italic } /* Comment */\n",
       ".output_html .err { border: 1px solid #FF0000 } /* Error */\n",
       ".output_html .k { color: #008000; font-weight: bold } /* Keyword */\n",
       ".output_html .o { color: #666666 } /* Operator */\n",
       ".output_html .ch { color: #3D7B7B; font-style: italic } /* Comment.Hashbang */\n",
       ".output_html .cm { color: #3D7B7B; font-style: italic } /* Comment.Multiline */\n",
       ".output_html .cp { color: #9C6500 } /* Comment.Preproc */\n",
       ".output_html .cpf { color: #3D7B7B; font-style: italic } /* Comment.PreprocFile */\n",
       ".output_html .c1 { color: #3D7B7B; font-style: italic } /* Comment.Single */\n",
       ".output_html .cs { color: #3D7B7B; font-style: italic } /* Comment.Special */\n",
       ".output_html .gd { color: #A00000 } /* Generic.Deleted */\n",
       ".output_html .ge { font-style: italic } /* Generic.Emph */\n",
       ".output_html .gr { color: #E40000 } /* Generic.Error */\n",
       ".output_html .gh { color: #000080; font-weight: bold } /* Generic.Heading */\n",
       ".output_html .gi { color: #008400 } /* Generic.Inserted */\n",
       ".output_html .go { color: #717171 } /* Generic.Output */\n",
       ".output_html .gp { color: #000080; font-weight: bold } /* Generic.Prompt */\n",
       ".output_html .gs { font-weight: bold } /* Generic.Strong */\n",
       ".output_html .gu { color: #800080; font-weight: bold } /* Generic.Subheading */\n",
       ".output_html .gt { color: #0044DD } /* Generic.Traceback */\n",
       ".output_html .kc { color: #008000; font-weight: bold } /* Keyword.Constant */\n",
       ".output_html .kd { color: #008000; font-weight: bold } /* Keyword.Declaration */\n",
       ".output_html .kn { color: #008000; font-weight: bold } /* Keyword.Namespace */\n",
       ".output_html .kp { color: #008000 } /* Keyword.Pseudo */\n",
       ".output_html .kr { color: #008000; font-weight: bold } /* Keyword.Reserved */\n",
       ".output_html .kt { color: #B00040 } /* Keyword.Type */\n",
       ".output_html .m { color: #666666 } /* Literal.Number */\n",
       ".output_html .s { color: #BA2121 } /* Literal.String */\n",
       ".output_html .na { color: #687822 } /* Name.Attribute */\n",
       ".output_html .nb { color: #008000 } /* Name.Builtin */\n",
       ".output_html .nc { color: #0000FF; font-weight: bold } /* Name.Class */\n",
       ".output_html .no { color: #880000 } /* Name.Constant */\n",
       ".output_html .nd { color: #AA22FF } /* Name.Decorator */\n",
       ".output_html .ni { color: #717171; font-weight: bold } /* Name.Entity */\n",
       ".output_html .ne { color: #CB3F38; font-weight: bold } /* Name.Exception */\n",
       ".output_html .nf { color: #0000FF } /* Name.Function */\n",
       ".output_html .nl { color: #767600 } /* Name.Label */\n",
       ".output_html .nn { color: #0000FF; font-weight: bold } /* Name.Namespace */\n",
       ".output_html .nt { color: #008000; font-weight: bold } /* Name.Tag */\n",
       ".output_html .nv { color: #19177C } /* Name.Variable */\n",
       ".output_html .ow { color: #AA22FF; font-weight: bold } /* Operator.Word */\n",
       ".output_html .w { color: #bbbbbb } /* Text.Whitespace */\n",
       ".output_html .mb { color: #666666 } /* Literal.Number.Bin */\n",
       ".output_html .mf { color: #666666 } /* Literal.Number.Float */\n",
       ".output_html .mh { color: #666666 } /* Literal.Number.Hex */\n",
       ".output_html .mi { color: #666666 } /* Literal.Number.Integer */\n",
       ".output_html .mo { color: #666666 } /* Literal.Number.Oct */\n",
       ".output_html .sa { color: #BA2121 } /* Literal.String.Affix */\n",
       ".output_html .sb { color: #BA2121 } /* Literal.String.Backtick */\n",
       ".output_html .sc { color: #BA2121 } /* Literal.String.Char */\n",
       ".output_html .dl { color: #BA2121 } /* Literal.String.Delimiter */\n",
       ".output_html .sd { color: #BA2121; font-style: italic } /* Literal.String.Doc */\n",
       ".output_html .s2 { color: #BA2121 } /* Literal.String.Double */\n",
       ".output_html .se { color: #AA5D1F; font-weight: bold } /* Literal.String.Escape */\n",
       ".output_html .sh { color: #BA2121 } /* Literal.String.Heredoc */\n",
       ".output_html .si { color: #A45A77; font-weight: bold } /* Literal.String.Interpol */\n",
       ".output_html .sx { color: #008000 } /* Literal.String.Other */\n",
       ".output_html .sr { color: #A45A77 } /* Literal.String.Regex */\n",
       ".output_html .s1 { color: #BA2121 } /* Literal.String.Single */\n",
       ".output_html .ss { color: #19177C } /* Literal.String.Symbol */\n",
       ".output_html .bp { color: #008000 } /* Name.Builtin.Pseudo */\n",
       ".output_html .fm { color: #0000FF } /* Name.Function.Magic */\n",
       ".output_html .vc { color: #19177C } /* Name.Variable.Class */\n",
       ".output_html .vg { color: #19177C } /* Name.Variable.Global */\n",
       ".output_html .vi { color: #19177C } /* Name.Variable.Instance */\n",
       ".output_html .vm { color: #19177C } /* Name.Variable.Magic */\n",
       ".output_html .il { color: #666666 } /* Literal.Number.Integer.Long */</style><div class=\"highlight\"><pre><span></span><span class=\"k\">MATCH</span><span class=\"w\"> </span><span class=\"p\">(</span><span class=\"n\">l</span><span class=\"p\">:</span><span class=\"n\">Location</span><span class=\"p\">)</span>\n",
       "<span class=\"k\">WHERE</span><span class=\"w\"> </span><span class=\"n\">l</span><span class=\"p\">.</span><span class=\"n\">name</span><span class=\"w\"> </span><span class=\"k\">IN</span><span class=\"w\"> </span><span class=\"o\">[</span><span class=\"err\">&#39;</span><span class=\"n\">MIT</span><span class=\"err\">&#39;</span><span class=\"p\">,</span><span class=\"w\"> </span><span class=\"err\">&#39;</span><span class=\"n\">Massachusetts</span><span class=\"w\"> </span><span class=\"n\">Institute</span><span class=\"w\"> </span><span class=\"n\">of</span><span class=\"w\"> </span><span class=\"n\">Technology</span><span class=\"err\">&#39;</span><span class=\"o\">]</span>\n",
       "<span class=\"c1\">RETURN l.name  // will return 2 nodes</span>\n",
       "</pre></div>\n"
      ],
      "text/latex": [
       "\\begin{Verbatim}[commandchars=\\\\\\{\\}]\n",
       "\\PY{k}{MATCH}\\PY{+w}{ }\\PY{p}{(}\\PY{n}{l}\\PY{p}{:}\\PY{n}{Location}\\PY{p}{)}\n",
       "\\PY{k}{WHERE}\\PY{+w}{ }\\PY{n}{l}\\PY{p}{.}\\PY{n}{name}\\PY{+w}{ }\\PY{k}{IN}\\PY{+w}{ }\\PY{o}{[}\\PY{err}{\\PYZsq{}}\\PY{n}{MIT}\\PY{err}{\\PYZsq{}}\\PY{p}{,}\\PY{+w}{ }\\PY{err}{\\PYZsq{}}\\PY{n}{Massachusetts}\\PY{+w}{ }\\PY{n}{Institute}\\PY{+w}{ }\\PY{n}{of}\\PY{+w}{ }\\PY{n}{Technology}\\PY{err}{\\PYZsq{}}\\PY{o}{]}\n",
       "\\PY{c+c1}{RETURN l.name  // will return 2 nodes}\n",
       "\\end{Verbatim}\n"
      ],
      "text/plain": [
       "\n",
       "MATCH (l:Location)\n",
       "WHERE l.name IN ['MIT', 'Massachusetts Institute of Technology']\n",
       "RETURN l.name  // will return 2 nodes"
      ]
     },
     "execution_count": 32,
     "metadata": {},
     "output_type": "execute_result"
    }
   ],
   "source": [
    "notes3 = \"\"\"\n",
    "MATCH (l:Location)\n",
    "WHERE l.name IN ['MIT', 'Massachusetts Institute of Technology']\n",
    "RETURN l.name  // will return 2 nodes\n",
    "\"\"\"\n",
    "Code(notes3, language='cypher')"
   ]
  },
  {
   "cell_type": "code",
   "execution_count": 33,
   "id": "42db6f89-4960-4ead-828d-8471e49d1c2e",
   "metadata": {
    "jupyter": {
     "source_hidden": true
    }
   },
   "outputs": [
    {
     "data": {
      "text/html": [
       "<style>pre { line-height: 125%; }\n",
       "td.linenos .normal { color: inherit; background-color: transparent; padding-left: 5px; padding-right: 5px; }\n",
       "span.linenos { color: inherit; background-color: transparent; padding-left: 5px; padding-right: 5px; }\n",
       "td.linenos .special { color: #000000; background-color: #ffffc0; padding-left: 5px; padding-right: 5px; }\n",
       "span.linenos.special { color: #000000; background-color: #ffffc0; padding-left: 5px; padding-right: 5px; }\n",
       ".output_html .hll { background-color: #ffffcc }\n",
       ".output_html { background: #f8f8f8; }\n",
       ".output_html .c { color: #3D7B7B; font-style: italic } /* Comment */\n",
       ".output_html .err { border: 1px solid #FF0000 } /* Error */\n",
       ".output_html .k { color: #008000; font-weight: bold } /* Keyword */\n",
       ".output_html .o { color: #666666 } /* Operator */\n",
       ".output_html .ch { color: #3D7B7B; font-style: italic } /* Comment.Hashbang */\n",
       ".output_html .cm { color: #3D7B7B; font-style: italic } /* Comment.Multiline */\n",
       ".output_html .cp { color: #9C6500 } /* Comment.Preproc */\n",
       ".output_html .cpf { color: #3D7B7B; font-style: italic } /* Comment.PreprocFile */\n",
       ".output_html .c1 { color: #3D7B7B; font-style: italic } /* Comment.Single */\n",
       ".output_html .cs { color: #3D7B7B; font-style: italic } /* Comment.Special */\n",
       ".output_html .gd { color: #A00000 } /* Generic.Deleted */\n",
       ".output_html .ge { font-style: italic } /* Generic.Emph */\n",
       ".output_html .gr { color: #E40000 } /* Generic.Error */\n",
       ".output_html .gh { color: #000080; font-weight: bold } /* Generic.Heading */\n",
       ".output_html .gi { color: #008400 } /* Generic.Inserted */\n",
       ".output_html .go { color: #717171 } /* Generic.Output */\n",
       ".output_html .gp { color: #000080; font-weight: bold } /* Generic.Prompt */\n",
       ".output_html .gs { font-weight: bold } /* Generic.Strong */\n",
       ".output_html .gu { color: #800080; font-weight: bold } /* Generic.Subheading */\n",
       ".output_html .gt { color: #0044DD } /* Generic.Traceback */\n",
       ".output_html .kc { color: #008000; font-weight: bold } /* Keyword.Constant */\n",
       ".output_html .kd { color: #008000; font-weight: bold } /* Keyword.Declaration */\n",
       ".output_html .kn { color: #008000; font-weight: bold } /* Keyword.Namespace */\n",
       ".output_html .kp { color: #008000 } /* Keyword.Pseudo */\n",
       ".output_html .kr { color: #008000; font-weight: bold } /* Keyword.Reserved */\n",
       ".output_html .kt { color: #B00040 } /* Keyword.Type */\n",
       ".output_html .m { color: #666666 } /* Literal.Number */\n",
       ".output_html .s { color: #BA2121 } /* Literal.String */\n",
       ".output_html .na { color: #687822 } /* Name.Attribute */\n",
       ".output_html .nb { color: #008000 } /* Name.Builtin */\n",
       ".output_html .nc { color: #0000FF; font-weight: bold } /* Name.Class */\n",
       ".output_html .no { color: #880000 } /* Name.Constant */\n",
       ".output_html .nd { color: #AA22FF } /* Name.Decorator */\n",
       ".output_html .ni { color: #717171; font-weight: bold } /* Name.Entity */\n",
       ".output_html .ne { color: #CB3F38; font-weight: bold } /* Name.Exception */\n",
       ".output_html .nf { color: #0000FF } /* Name.Function */\n",
       ".output_html .nl { color: #767600 } /* Name.Label */\n",
       ".output_html .nn { color: #0000FF; font-weight: bold } /* Name.Namespace */\n",
       ".output_html .nt { color: #008000; font-weight: bold } /* Name.Tag */\n",
       ".output_html .nv { color: #19177C } /* Name.Variable */\n",
       ".output_html .ow { color: #AA22FF; font-weight: bold } /* Operator.Word */\n",
       ".output_html .w { color: #bbbbbb } /* Text.Whitespace */\n",
       ".output_html .mb { color: #666666 } /* Literal.Number.Bin */\n",
       ".output_html .mf { color: #666666 } /* Literal.Number.Float */\n",
       ".output_html .mh { color: #666666 } /* Literal.Number.Hex */\n",
       ".output_html .mi { color: #666666 } /* Literal.Number.Integer */\n",
       ".output_html .mo { color: #666666 } /* Literal.Number.Oct */\n",
       ".output_html .sa { color: #BA2121 } /* Literal.String.Affix */\n",
       ".output_html .sb { color: #BA2121 } /* Literal.String.Backtick */\n",
       ".output_html .sc { color: #BA2121 } /* Literal.String.Char */\n",
       ".output_html .dl { color: #BA2121 } /* Literal.String.Delimiter */\n",
       ".output_html .sd { color: #BA2121; font-style: italic } /* Literal.String.Doc */\n",
       ".output_html .s2 { color: #BA2121 } /* Literal.String.Double */\n",
       ".output_html .se { color: #AA5D1F; font-weight: bold } /* Literal.String.Escape */\n",
       ".output_html .sh { color: #BA2121 } /* Literal.String.Heredoc */\n",
       ".output_html .si { color: #A45A77; font-weight: bold } /* Literal.String.Interpol */\n",
       ".output_html .sx { color: #008000 } /* Literal.String.Other */\n",
       ".output_html .sr { color: #A45A77 } /* Literal.String.Regex */\n",
       ".output_html .s1 { color: #BA2121 } /* Literal.String.Single */\n",
       ".output_html .ss { color: #19177C } /* Literal.String.Symbol */\n",
       ".output_html .bp { color: #008000 } /* Name.Builtin.Pseudo */\n",
       ".output_html .fm { color: #0000FF } /* Name.Function.Magic */\n",
       ".output_html .vc { color: #19177C } /* Name.Variable.Class */\n",
       ".output_html .vg { color: #19177C } /* Name.Variable.Global */\n",
       ".output_html .vi { color: #19177C } /* Name.Variable.Instance */\n",
       ".output_html .vm { color: #19177C } /* Name.Variable.Magic */\n",
       ".output_html .il { color: #666666 } /* Literal.Number.Integer.Long */</style><div class=\"highlight\"><pre><span></span><span class=\"k\">MATCH</span><span class=\"w\"> </span><span class=\"p\">(</span><span class=\"n\">l</span><span class=\"p\">:</span><span class=\"n\">Location</span><span class=\"p\">)</span>\n",
       "<span class=\"k\">WHERE</span><span class=\"w\"> </span><span class=\"n\">size</span><span class=\"p\">(</span><span class=\"n\">l</span><span class=\"p\">.</span><span class=\"n\">name</span><span class=\"p\">)</span><span class=\"w\"> </span><span class=\"p\">&lt;=</span><span class=\"w\"> </span><span class=\"m\">10</span>\n",
       "<span class=\"k\">RETURN</span><span class=\"w\"> </span><span class=\"n\">l</span><span class=\"p\">.</span><span class=\"n\">name</span>\n",
       "</pre></div>\n"
      ],
      "text/latex": [
       "\\begin{Verbatim}[commandchars=\\\\\\{\\}]\n",
       "\\PY{k}{MATCH}\\PY{+w}{ }\\PY{p}{(}\\PY{n}{l}\\PY{p}{:}\\PY{n}{Location}\\PY{p}{)}\n",
       "\\PY{k}{WHERE}\\PY{+w}{ }\\PY{n}{size}\\PY{p}{(}\\PY{n}{l}\\PY{p}{.}\\PY{n}{name}\\PY{p}{)}\\PY{+w}{ }\\PY{p}{\\PYZlt{}}\\PY{p}{=}\\PY{+w}{ }\\PY{l+m}{10}\n",
       "\\PY{k}{RETURN}\\PY{+w}{ }\\PY{n}{l}\\PY{p}{.}\\PY{n}{name}\n",
       "\\end{Verbatim}\n"
      ],
      "text/plain": [
       "\n",
       "MATCH (l:Location)\n",
       "WHERE size(l.name) <= 10\n",
       "RETURN l.name"
      ]
     },
     "execution_count": 33,
     "metadata": {},
     "output_type": "execute_result"
    }
   ],
   "source": [
    "notes4 = \"\"\"\n",
    "MATCH (l:Location)\n",
    "WHERE size(l.name) <= 10\n",
    "RETURN l.name\n",
    "\"\"\"\n",
    "Code(notes4, language='cypher')"
   ]
  },
  {
   "cell_type": "markdown",
   "id": "5769dbf8-366e-48c3-a18b-84f94832af72",
   "metadata": {},
   "source": [
    "SAME LOCATION STORED WITH DIFFERENT NAMES"
   ]
  },
  {
   "cell_type": "markdown",
   "id": "98cea28e-f5eb-4690-b192-d34928e1964f",
   "metadata": {},
   "source": [
    "## Ambiguity"
   ]
  },
  {
   "cell_type": "code",
   "execution_count": 35,
   "id": "314aa0be-c86f-4339-8507-16a78d182b43",
   "metadata": {
    "jupyter": {
     "source_hidden": true
    }
   },
   "outputs": [
    {
     "data": {
      "text/html": [
       "<style>pre { line-height: 125%; }\n",
       "td.linenos .normal { color: inherit; background-color: transparent; padding-left: 5px; padding-right: 5px; }\n",
       "span.linenos { color: inherit; background-color: transparent; padding-left: 5px; padding-right: 5px; }\n",
       "td.linenos .special { color: #000000; background-color: #ffffc0; padding-left: 5px; padding-right: 5px; }\n",
       "span.linenos.special { color: #000000; background-color: #ffffc0; padding-left: 5px; padding-right: 5px; }\n",
       ".output_html .hll { background-color: #ffffcc }\n",
       ".output_html { background: #f8f8f8; }\n",
       ".output_html .c { color: #3D7B7B; font-style: italic } /* Comment */\n",
       ".output_html .err { border: 1px solid #FF0000 } /* Error */\n",
       ".output_html .k { color: #008000; font-weight: bold } /* Keyword */\n",
       ".output_html .o { color: #666666 } /* Operator */\n",
       ".output_html .ch { color: #3D7B7B; font-style: italic } /* Comment.Hashbang */\n",
       ".output_html .cm { color: #3D7B7B; font-style: italic } /* Comment.Multiline */\n",
       ".output_html .cp { color: #9C6500 } /* Comment.Preproc */\n",
       ".output_html .cpf { color: #3D7B7B; font-style: italic } /* Comment.PreprocFile */\n",
       ".output_html .c1 { color: #3D7B7B; font-style: italic } /* Comment.Single */\n",
       ".output_html .cs { color: #3D7B7B; font-style: italic } /* Comment.Special */\n",
       ".output_html .gd { color: #A00000 } /* Generic.Deleted */\n",
       ".output_html .ge { font-style: italic } /* Generic.Emph */\n",
       ".output_html .gr { color: #E40000 } /* Generic.Error */\n",
       ".output_html .gh { color: #000080; font-weight: bold } /* Generic.Heading */\n",
       ".output_html .gi { color: #008400 } /* Generic.Inserted */\n",
       ".output_html .go { color: #717171 } /* Generic.Output */\n",
       ".output_html .gp { color: #000080; font-weight: bold } /* Generic.Prompt */\n",
       ".output_html .gs { font-weight: bold } /* Generic.Strong */\n",
       ".output_html .gu { color: #800080; font-weight: bold } /* Generic.Subheading */\n",
       ".output_html .gt { color: #0044DD } /* Generic.Traceback */\n",
       ".output_html .kc { color: #008000; font-weight: bold } /* Keyword.Constant */\n",
       ".output_html .kd { color: #008000; font-weight: bold } /* Keyword.Declaration */\n",
       ".output_html .kn { color: #008000; font-weight: bold } /* Keyword.Namespace */\n",
       ".output_html .kp { color: #008000 } /* Keyword.Pseudo */\n",
       ".output_html .kr { color: #008000; font-weight: bold } /* Keyword.Reserved */\n",
       ".output_html .kt { color: #B00040 } /* Keyword.Type */\n",
       ".output_html .m { color: #666666 } /* Literal.Number */\n",
       ".output_html .s { color: #BA2121 } /* Literal.String */\n",
       ".output_html .na { color: #687822 } /* Name.Attribute */\n",
       ".output_html .nb { color: #008000 } /* Name.Builtin */\n",
       ".output_html .nc { color: #0000FF; font-weight: bold } /* Name.Class */\n",
       ".output_html .no { color: #880000 } /* Name.Constant */\n",
       ".output_html .nd { color: #AA22FF } /* Name.Decorator */\n",
       ".output_html .ni { color: #717171; font-weight: bold } /* Name.Entity */\n",
       ".output_html .ne { color: #CB3F38; font-weight: bold } /* Name.Exception */\n",
       ".output_html .nf { color: #0000FF } /* Name.Function */\n",
       ".output_html .nl { color: #767600 } /* Name.Label */\n",
       ".output_html .nn { color: #0000FF; font-weight: bold } /* Name.Namespace */\n",
       ".output_html .nt { color: #008000; font-weight: bold } /* Name.Tag */\n",
       ".output_html .nv { color: #19177C } /* Name.Variable */\n",
       ".output_html .ow { color: #AA22FF; font-weight: bold } /* Operator.Word */\n",
       ".output_html .w { color: #bbbbbb } /* Text.Whitespace */\n",
       ".output_html .mb { color: #666666 } /* Literal.Number.Bin */\n",
       ".output_html .mf { color: #666666 } /* Literal.Number.Float */\n",
       ".output_html .mh { color: #666666 } /* Literal.Number.Hex */\n",
       ".output_html .mi { color: #666666 } /* Literal.Number.Integer */\n",
       ".output_html .mo { color: #666666 } /* Literal.Number.Oct */\n",
       ".output_html .sa { color: #BA2121 } /* Literal.String.Affix */\n",
       ".output_html .sb { color: #BA2121 } /* Literal.String.Backtick */\n",
       ".output_html .sc { color: #BA2121 } /* Literal.String.Char */\n",
       ".output_html .dl { color: #BA2121 } /* Literal.String.Delimiter */\n",
       ".output_html .sd { color: #BA2121; font-style: italic } /* Literal.String.Doc */\n",
       ".output_html .s2 { color: #BA2121 } /* Literal.String.Double */\n",
       ".output_html .se { color: #AA5D1F; font-weight: bold } /* Literal.String.Escape */\n",
       ".output_html .sh { color: #BA2121 } /* Literal.String.Heredoc */\n",
       ".output_html .si { color: #A45A77; font-weight: bold } /* Literal.String.Interpol */\n",
       ".output_html .sx { color: #008000 } /* Literal.String.Other */\n",
       ".output_html .sr { color: #A45A77 } /* Literal.String.Regex */\n",
       ".output_html .s1 { color: #BA2121 } /* Literal.String.Single */\n",
       ".output_html .ss { color: #19177C } /* Literal.String.Symbol */\n",
       ".output_html .bp { color: #008000 } /* Name.Builtin.Pseudo */\n",
       ".output_html .fm { color: #0000FF } /* Name.Function.Magic */\n",
       ".output_html .vc { color: #19177C } /* Name.Variable.Class */\n",
       ".output_html .vg { color: #19177C } /* Name.Variable.Global */\n",
       ".output_html .vi { color: #19177C } /* Name.Variable.Instance */\n",
       ".output_html .vm { color: #19177C } /* Name.Variable.Magic */\n",
       ".output_html .il { color: #666666 } /* Literal.Number.Integer.Long */</style><div class=\"highlight\"><pre><span></span><span class=\"k\">MATCH</span><span class=\"w\"> </span><span class=\"p\">(</span><span class=\"n\">l</span><span class=\"p\">:</span><span class=\"n\">Location</span><span class=\"p\">)</span>\n",
       "<span class=\"k\">WHERE</span><span class=\"w\"> </span><span class=\"n\">l</span><span class=\"p\">.</span><span class=\"n\">name</span><span class=\"w\"> </span><span class=\"n\">CONTAINS</span><span class=\"w\"> </span><span class=\"err\">&#39;</span><span class=\"p\">,</span><span class=\"err\">&#39;</span>\n",
       "<span class=\"c1\">RETURN l.name  // &#39;Berlin, Germany&#39;, ...</span>\n",
       "</pre></div>\n"
      ],
      "text/latex": [
       "\\begin{Verbatim}[commandchars=\\\\\\{\\}]\n",
       "\\PY{k}{MATCH}\\PY{+w}{ }\\PY{p}{(}\\PY{n}{l}\\PY{p}{:}\\PY{n}{Location}\\PY{p}{)}\n",
       "\\PY{k}{WHERE}\\PY{+w}{ }\\PY{n}{l}\\PY{p}{.}\\PY{n}{name}\\PY{+w}{ }\\PY{n}{CONTAINS}\\PY{+w}{ }\\PY{err}{\\PYZsq{}}\\PY{p}{,}\\PY{err}{\\PYZsq{}}\n",
       "\\PY{c+c1}{RETURN l.name  // \\PYZsq{}Berlin, Germany\\PYZsq{}, ...}\n",
       "\\end{Verbatim}\n"
      ],
      "text/plain": [
       "\n",
       "MATCH (l:Location)\n",
       "WHERE l.name CONTAINS ','\n",
       "RETURN l.name  // 'Berlin, Germany', ..."
      ]
     },
     "execution_count": 35,
     "metadata": {},
     "output_type": "execute_result"
    }
   ],
   "source": [
    "notes5 = \"\"\"\n",
    "MATCH (l:Location)\n",
    "WHERE l.name CONTAINS ','\n",
    "RETURN l.name  // 'Berlin, Germany', ...\n",
    "\"\"\"\n",
    "\n",
    "Code(notes5, language='cypher')"
   ]
  },
  {
   "cell_type": "markdown",
   "id": "62ecc6c1-8178-4f27-bcdf-c3039ba68d50",
   "metadata": {},
   "source": [
    "STATES AND INTITUTIONS STORED WITH THE SAME LABEL"
   ]
  }
 ],
 "metadata": {
  "kernelspec": {
   "display_name": "Python 3 (ipykernel)",
   "language": "python",
   "name": "python3"
  },
  "language_info": {
   "codemirror_mode": {
    "name": "ipython",
    "version": 3
   },
   "file_extension": ".py",
   "mimetype": "text/x-python",
   "name": "python",
   "nbconvert_exporter": "python",
   "pygments_lexer": "ipython3",
   "version": "3.9.18"
  }
 },
 "nbformat": 4,
 "nbformat_minor": 5
}
