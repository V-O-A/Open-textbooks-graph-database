{
 "cells": [
  {
   "cell_type": "code",
   "execution_count": null,
   "id": "cc59b66d-cc8c-42c8-bdcb-f90c44cd950a",
   "metadata": {},
   "outputs": [],
   "source": [
    "import pandas as pd\n",
    "import requests\n",
    "\n",
    "import json\n",
    "import time\n",
    "import random"
   ]
  },
  {
   "cell_type": "code",
   "execution_count": 2,
   "id": "4e6d18a5-1b01-4cd7-a927-5afad08def1d",
   "metadata": {},
   "outputs": [],
   "source": [
    "# default page \n",
    "rf = requests.get('https://open.umn.edu/opentextbooks/textbooks.json?page=1')"
   ]
  },
  {
   "cell_type": "code",
   "execution_count": 54,
   "id": "d16b30af-1a55-4a31-ae98-a8dd81e68056",
   "metadata": {},
   "outputs": [
    {
     "data": {
      "text/plain": [
       "{'self': 'https://open.umn.edu/opentextbooks/textbooks.json?page=1',\n",
       " 'total_pages': 165,\n",
       " 'total_count': 1642,\n",
       " 'next': 'https://open.umn.edu/opentextbooks/textbooks.json?page=2'}"
      ]
     },
     "execution_count": 54,
     "metadata": {},
     "output_type": "execute_result"
    }
   ],
   "source": [
    "rf.json()['links']"
   ]
  },
  {
   "cell_type": "code",
   "execution_count": 74,
   "id": "4e8d9619-1bdb-477a-810d-d5fbc1f9fa7d",
   "metadata": {
    "scrolled": true
   },
   "outputs": [
    {
     "name": "stdout",
     "output_type": "stream",
     "text": [
      "<class 'pandas.core.frame.DataFrame'>\n",
      "RangeIndex: 10 entries, 0 to 9\n",
      "Data columns (total 19 columns):\n",
      " #   Column                  Non-Null Count  Dtype \n",
      "---  ------                  --------------  ----- \n",
      " 0   id                      10 non-null     int64 \n",
      " 1   title                   10 non-null     object\n",
      " 2   edition_statement       2 non-null      object\n",
      " 3   volume                  1 non-null      object\n",
      " 4   copyright_year          10 non-null     int64 \n",
      " 5   ISBN10                  0 non-null      object\n",
      " 6   ISBN13                  6 non-null      object\n",
      " 7   license                 10 non-null     object\n",
      " 8   language                10 non-null     object\n",
      " 9   description             10 non-null     object\n",
      " 10  contributors            10 non-null     object\n",
      " 11  subjects                10 non-null     object\n",
      " 12  publishers              10 non-null     object\n",
      " 13  formats                 10 non-null     object\n",
      " 14  rating                  0 non-null      object\n",
      " 15  textbook_reviews_count  10 non-null     int64 \n",
      " 16  reviews                 10 non-null     object\n",
      " 17  url                     10 non-null     object\n",
      " 18  updated_at              10 non-null     object\n",
      "dtypes: int64(3), object(16)\n",
      "memory usage: 1.6+ KB\n",
      "Info:  None\n"
     ]
    },
    {
     "data": {
      "text/html": [
       "<div>\n",
       "<style scoped>\n",
       "    .dataframe tbody tr th:only-of-type {\n",
       "        vertical-align: middle;\n",
       "    }\n",
       "\n",
       "    .dataframe tbody tr th {\n",
       "        vertical-align: top;\n",
       "    }\n",
       "\n",
       "    .dataframe thead th {\n",
       "        text-align: right;\n",
       "    }\n",
       "</style>\n",
       "<table border=\"1\" class=\"dataframe\">\n",
       "  <thead>\n",
       "    <tr style=\"text-align: right;\">\n",
       "      <th></th>\n",
       "      <th>id</th>\n",
       "      <th>title</th>\n",
       "      <th>edition_statement</th>\n",
       "      <th>volume</th>\n",
       "      <th>copyright_year</th>\n",
       "      <th>ISBN10</th>\n",
       "      <th>ISBN13</th>\n",
       "      <th>license</th>\n",
       "      <th>language</th>\n",
       "      <th>description</th>\n",
       "      <th>contributors</th>\n",
       "      <th>subjects</th>\n",
       "      <th>publishers</th>\n",
       "      <th>formats</th>\n",
       "      <th>rating</th>\n",
       "      <th>textbook_reviews_count</th>\n",
       "      <th>reviews</th>\n",
       "      <th>url</th>\n",
       "      <th>updated_at</th>\n",
       "    </tr>\n",
       "  </thead>\n",
       "  <tbody>\n",
       "    <tr>\n",
       "      <th>0</th>\n",
       "      <td>1709</td>\n",
       "      <td>Applications of Educational Technology</td>\n",
       "      <td>None</td>\n",
       "      <td>None</td>\n",
       "      <td>2018</td>\n",
       "      <td>None</td>\n",
       "      <td>None</td>\n",
       "      <td>Attribution-NonCommercial</td>\n",
       "      <td>eng</td>\n",
       "      <td>Welcome to the Applications of Educational Tec...</td>\n",
       "      <td>[{'id': 7214, 'contribution': 'Author', 'prima...</td>\n",
       "      <td>[{'id': 5, 'name': 'Education', 'parent_subjec...</td>\n",
       "      <td>[{'id': 1683, 'name': 'Oklahoma State Universi...</td>\n",
       "      <td>[{'id': 4357, 'format': 'Online', 'url': 'http...</td>\n",
       "      <td>None</td>\n",
       "      <td>0</td>\n",
       "      <td>[]</td>\n",
       "      <td>https://open.umn.edu/opentextbooks/textbooks/a...</td>\n",
       "      <td>2024-08-02T04:30:37.000Z</td>\n",
       "    </tr>\n",
       "  </tbody>\n",
       "</table>\n",
       "</div>"
      ],
      "text/plain": [
       "     id                                   title edition_statement volume  \\\n",
       "0  1709  Applications of Educational Technology              None   None   \n",
       "\n",
       "   copyright_year ISBN10 ISBN13                    license language  \\\n",
       "0            2018   None   None  Attribution-NonCommercial      eng   \n",
       "\n",
       "                                         description  \\\n",
       "0  Welcome to the Applications of Educational Tec...   \n",
       "\n",
       "                                        contributors  \\\n",
       "0  [{'id': 7214, 'contribution': 'Author', 'prima...   \n",
       "\n",
       "                                            subjects  \\\n",
       "0  [{'id': 5, 'name': 'Education', 'parent_subjec...   \n",
       "\n",
       "                                          publishers  \\\n",
       "0  [{'id': 1683, 'name': 'Oklahoma State Universi...   \n",
       "\n",
       "                                             formats rating  \\\n",
       "0  [{'id': 4357, 'format': 'Online', 'url': 'http...   None   \n",
       "\n",
       "   textbook_reviews_count reviews  \\\n",
       "0                       0      []   \n",
       "\n",
       "                                                 url                updated_at  \n",
       "0  https://open.umn.edu/opentextbooks/textbooks/a...  2024-08-02T04:30:37.000Z  "
      ]
     },
     "execution_count": 74,
     "metadata": {},
     "output_type": "execute_result"
    }
   ],
   "source": [
    "df = pd.json_normalize(rf.json()['data'], max_level=0)\n",
    "print('Info: ', df.info())\n",
    "df.head(1)"
   ]
  },
  {
   "cell_type": "code",
   "execution_count": 124,
   "id": "af64cd18-906d-478b-8b9a-9fafd036633a",
   "metadata": {
    "scrolled": true
   },
   "outputs": [],
   "source": [
    "dfc = df.copy()\n",
    "for pn in range(2, rf.json()['links']['total_pages']+1):\n",
    "    r = requests.get(f'https://open.umn.edu/opentextbooks/textbooks.json?page={pn}', timeout=4)\n",
    "    dfc = pd.concat([dfc, pd.json_normalize(r.json()['data'], max_level=0)], axis=0, ignore_index=True)\n",
    "    time.sleep(random.randint(1, 3))"
   ]
  },
  {
   "cell_type": "code",
   "execution_count": 130,
   "id": "5d39bf18-2f62-4f20-ae29-777ee5f76d63",
   "metadata": {
    "scrolled": true
   },
   "outputs": [
    {
     "name": "stdout",
     "output_type": "stream",
     "text": [
      "<class 'pandas.core.frame.DataFrame'>\n",
      "RangeIndex: 1524 entries, 0 to 1523\n",
      "Data columns (total 19 columns):\n",
      " #   Column                  Non-Null Count  Dtype  \n",
      "---  ------                  --------------  -----  \n",
      " 0   id                      1524 non-null   int64  \n",
      " 1   title                   1524 non-null   object \n",
      " 2   edition_statement       210 non-null    object \n",
      " 3   volume                  49 non-null     object \n",
      " 4   copyright_year          1492 non-null   float64\n",
      " 5   ISBN10                  19 non-null     object \n",
      " 6   ISBN13                  633 non-null    object \n",
      " 7   license                 1524 non-null   object \n",
      " 8   language                1524 non-null   object \n",
      " 9   description             1524 non-null   object \n",
      " 10  contributors            1524 non-null   object \n",
      " 11  subjects                1524 non-null   object \n",
      " 12  publishers              1524 non-null   object \n",
      " 13  formats                 1524 non-null   object \n",
      " 14  rating                  1049 non-null   object \n",
      " 15  textbook_reviews_count  1524 non-null   int64  \n",
      " 16  reviews                 1524 non-null   object \n",
      " 17  url                     1524 non-null   object \n",
      " 18  updated_at              1524 non-null   object \n",
      "dtypes: float64(1), int64(2), object(16)\n",
      "memory usage: 226.3+ KB\n"
     ]
    }
   ],
   "source": [
    "dfc.info()"
   ]
  },
  {
   "cell_type": "code",
   "execution_count": 146,
   "id": "7edae53b-86ac-4fb9-9c37-21cdb5ed5b28",
   "metadata": {},
   "outputs": [
    {
     "data": {
      "text/plain": [
       "True"
      ]
     },
     "execution_count": 146,
     "metadata": {},
     "output_type": "execute_result"
    }
   ],
   "source": [
    "# Some duplicated books\n",
    "(dfc['id'].value_counts() > 1).any()"
   ]
  },
  {
   "cell_type": "code",
   "execution_count": 148,
   "id": "c83ba7b6-9bef-4ade-9990-fdc586f3aa81",
   "metadata": {},
   "outputs": [],
   "source": [
    "dfc.drop_duplicates('id', inplace=True)"
   ]
  },
  {
   "cell_type": "code",
   "execution_count": 149,
   "id": "5cdce56e-2568-4a01-8faf-8ca0c007ec86",
   "metadata": {},
   "outputs": [],
   "source": [
    "(dfc\n",
    " .set_index('id')\n",
    " .to_json('Data\\OTL_textbooks_v0.json', orient='index')\n",
    ")"
   ]
  }
 ],
 "metadata": {
  "kernelspec": {
   "display_name": "Python 3 (ipykernel)",
   "language": "python",
   "name": "python3"
  },
  "language_info": {
   "codemirror_mode": {
    "name": "ipython",
    "version": 3
   },
   "file_extension": ".py",
   "mimetype": "text/x-python",
   "name": "python",
   "nbconvert_exporter": "python",
   "pygments_lexer": "ipython3",
   "version": "3.9.18"
  }
 },
 "nbformat": 4,
 "nbformat_minor": 5
}
